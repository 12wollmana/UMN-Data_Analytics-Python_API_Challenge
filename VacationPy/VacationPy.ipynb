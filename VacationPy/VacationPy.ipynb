{
 "cells": [
  {
   "cell_type": "markdown",
   "metadata": {},
   "source": [
    "# VacationPy - Aaron Wollman\n",
    "----"
   ]
  },
  {
   "cell_type": "code",
   "execution_count": 1,
   "metadata": {},
   "outputs": [],
   "source": [
    "# Dependencies and Setup\n",
    "import matplotlib.pyplot as plt\n",
    "import pandas as pd\n",
    "import numpy as np\n",
    "import requests\n",
    "import gmaps\n",
    "import os\n",
    "\n",
    "# Import API key\n",
    "import sys\n",
    "sys.path.append(\"..\")\n",
    "from api_keys import g_key"
   ]
  },
  {
   "cell_type": "markdown",
   "metadata": {},
   "source": [
    "### Store Part I results into DataFrame\n",
    "* Load the csv exported in Part I to a DataFrame"
   ]
  },
  {
   "cell_type": "code",
   "execution_count": 2,
   "metadata": {},
   "outputs": [
    {
     "data": {
      "text/html": [
       "<div>\n",
       "<style scoped>\n",
       "    .dataframe tbody tr th:only-of-type {\n",
       "        vertical-align: middle;\n",
       "    }\n",
       "\n",
       "    .dataframe tbody tr th {\n",
       "        vertical-align: top;\n",
       "    }\n",
       "\n",
       "    .dataframe thead th {\n",
       "        text-align: right;\n",
       "    }\n",
       "</style>\n",
       "<table border=\"1\" class=\"dataframe\">\n",
       "  <thead>\n",
       "    <tr style=\"text-align: right;\">\n",
       "      <th></th>\n",
       "      <th>City</th>\n",
       "      <th>country</th>\n",
       "      <th>Lat</th>\n",
       "      <th>Lng</th>\n",
       "      <th>Max Temp</th>\n",
       "      <th>Humidity</th>\n",
       "      <th>Cloudiness</th>\n",
       "      <th>Wind Speed</th>\n",
       "    </tr>\n",
       "  </thead>\n",
       "  <tbody>\n",
       "    <tr>\n",
       "      <th>0</th>\n",
       "      <td>Pitimbu</td>\n",
       "      <td>BR</td>\n",
       "      <td>-7.47</td>\n",
       "      <td>-34.81</td>\n",
       "      <td>75.20</td>\n",
       "      <td>83</td>\n",
       "      <td>49</td>\n",
       "      <td>10.29</td>\n",
       "    </tr>\n",
       "    <tr>\n",
       "      <th>1</th>\n",
       "      <td>Kenai</td>\n",
       "      <td>US</td>\n",
       "      <td>60.55</td>\n",
       "      <td>-151.26</td>\n",
       "      <td>55.99</td>\n",
       "      <td>87</td>\n",
       "      <td>90</td>\n",
       "      <td>3.36</td>\n",
       "    </tr>\n",
       "    <tr>\n",
       "      <th>2</th>\n",
       "      <td>Bowling Green</td>\n",
       "      <td>US</td>\n",
       "      <td>36.99</td>\n",
       "      <td>-86.44</td>\n",
       "      <td>84.20</td>\n",
       "      <td>66</td>\n",
       "      <td>90</td>\n",
       "      <td>8.05</td>\n",
       "    </tr>\n",
       "    <tr>\n",
       "      <th>3</th>\n",
       "      <td>New Norfolk</td>\n",
       "      <td>AU</td>\n",
       "      <td>-42.78</td>\n",
       "      <td>147.06</td>\n",
       "      <td>42.01</td>\n",
       "      <td>83</td>\n",
       "      <td>100</td>\n",
       "      <td>2.86</td>\n",
       "    </tr>\n",
       "    <tr>\n",
       "      <th>4</th>\n",
       "      <td>Kavaratti</td>\n",
       "      <td>IN</td>\n",
       "      <td>10.57</td>\n",
       "      <td>72.64</td>\n",
       "      <td>80.01</td>\n",
       "      <td>85</td>\n",
       "      <td>100</td>\n",
       "      <td>17.96</td>\n",
       "    </tr>\n",
       "  </tbody>\n",
       "</table>\n",
       "</div>"
      ],
      "text/plain": [
       "            City country    Lat     Lng  Max Temp  Humidity  Cloudiness  \\\n",
       "0        Pitimbu      BR  -7.47  -34.81     75.20        83          49   \n",
       "1          Kenai      US  60.55 -151.26     55.99        87          90   \n",
       "2  Bowling Green      US  36.99  -86.44     84.20        66          90   \n",
       "3    New Norfolk      AU -42.78  147.06     42.01        83         100   \n",
       "4      Kavaratti      IN  10.57   72.64     80.01        85         100   \n",
       "\n",
       "   Wind Speed  \n",
       "0       10.29  \n",
       "1        3.36  \n",
       "2        8.05  \n",
       "3        2.86  \n",
       "4       17.96  "
      ]
     },
     "execution_count": 2,
     "metadata": {},
     "output_type": "execute_result"
    }
   ],
   "source": [
    "filepath = \"../WeatherPy/output_data/cities.csv\"\n",
    "city_data = pd.read_csv(filepath)\n",
    "city_data.head()"
   ]
  },
  {
   "cell_type": "code",
   "execution_count": 3,
   "metadata": {},
   "outputs": [],
   "source": [
    "class City_Weather_Columns:\n",
    "    city = \"City\"\n",
    "    lat = \"Lat\"\n",
    "    lng = \"Lng\"\n",
    "    max_temp = \"Max Temp\"\n",
    "    humidity = \"Humidity\"\n",
    "    cloudiness = \"Cloudiness\"\n",
    "    wind_speed = \"Wind Speed\"\n",
    "    country = \"country\""
   ]
  },
  {
   "cell_type": "code",
   "execution_count": 4,
   "metadata": {},
   "outputs": [
    {
     "data": {
      "text/html": [
       "<div>\n",
       "<style scoped>\n",
       "    .dataframe tbody tr th:only-of-type {\n",
       "        vertical-align: middle;\n",
       "    }\n",
       "\n",
       "    .dataframe tbody tr th {\n",
       "        vertical-align: top;\n",
       "    }\n",
       "\n",
       "    .dataframe thead th {\n",
       "        text-align: right;\n",
       "    }\n",
       "</style>\n",
       "<table border=\"1\" class=\"dataframe\">\n",
       "  <thead>\n",
       "    <tr style=\"text-align: right;\">\n",
       "      <th></th>\n",
       "      <th>City</th>\n",
       "      <th>country</th>\n",
       "      <th>Lat</th>\n",
       "      <th>Lng</th>\n",
       "      <th>Max Temp</th>\n",
       "      <th>Humidity</th>\n",
       "      <th>Cloudiness</th>\n",
       "      <th>Wind Speed</th>\n",
       "    </tr>\n",
       "  </thead>\n",
       "  <tbody>\n",
       "    <tr>\n",
       "      <th>0</th>\n",
       "      <td>Pitimbu</td>\n",
       "      <td>BR</td>\n",
       "      <td>-7.47</td>\n",
       "      <td>-34.81</td>\n",
       "      <td>75.20</td>\n",
       "      <td>83</td>\n",
       "      <td>49.0</td>\n",
       "      <td>10.29</td>\n",
       "    </tr>\n",
       "    <tr>\n",
       "      <th>1</th>\n",
       "      <td>Kenai</td>\n",
       "      <td>US</td>\n",
       "      <td>60.55</td>\n",
       "      <td>-151.26</td>\n",
       "      <td>55.99</td>\n",
       "      <td>87</td>\n",
       "      <td>90.0</td>\n",
       "      <td>3.36</td>\n",
       "    </tr>\n",
       "    <tr>\n",
       "      <th>2</th>\n",
       "      <td>Bowling Green</td>\n",
       "      <td>US</td>\n",
       "      <td>36.99</td>\n",
       "      <td>-86.44</td>\n",
       "      <td>84.20</td>\n",
       "      <td>66</td>\n",
       "      <td>90.0</td>\n",
       "      <td>8.05</td>\n",
       "    </tr>\n",
       "    <tr>\n",
       "      <th>3</th>\n",
       "      <td>New Norfolk</td>\n",
       "      <td>AU</td>\n",
       "      <td>-42.78</td>\n",
       "      <td>147.06</td>\n",
       "      <td>42.01</td>\n",
       "      <td>83</td>\n",
       "      <td>100.0</td>\n",
       "      <td>2.86</td>\n",
       "    </tr>\n",
       "    <tr>\n",
       "      <th>4</th>\n",
       "      <td>Kavaratti</td>\n",
       "      <td>IN</td>\n",
       "      <td>10.57</td>\n",
       "      <td>72.64</td>\n",
       "      <td>80.01</td>\n",
       "      <td>85</td>\n",
       "      <td>100.0</td>\n",
       "      <td>17.96</td>\n",
       "    </tr>\n",
       "  </tbody>\n",
       "</table>\n",
       "</div>"
      ],
      "text/plain": [
       "            City country    Lat     Lng  Max Temp  Humidity  Cloudiness  \\\n",
       "0        Pitimbu      BR  -7.47  -34.81     75.20        83        49.0   \n",
       "1          Kenai      US  60.55 -151.26     55.99        87        90.0   \n",
       "2  Bowling Green      US  36.99  -86.44     84.20        66        90.0   \n",
       "3    New Norfolk      AU -42.78  147.06     42.01        83       100.0   \n",
       "4      Kavaratti      IN  10.57   72.64     80.01        85       100.0   \n",
       "\n",
       "   Wind Speed  \n",
       "0       10.29  \n",
       "1        3.36  \n",
       "2        8.05  \n",
       "3        2.86  \n",
       "4       17.96  "
      ]
     },
     "execution_count": 4,
     "metadata": {},
     "output_type": "execute_result"
    }
   ],
   "source": [
    "# Fix data types\n",
    "numeric_columns = [\n",
    "    City_Weather_Columns.lat,\n",
    "    City_Weather_Columns.lng,\n",
    "    City_Weather_Columns.max_temp,\n",
    "    City_Weather_Columns.cloudiness,\n",
    "    City_Weather_Columns.wind_speed\n",
    "] \n",
    "for col in numeric_columns:\n",
    "    city_data[col] = city_data[col].astype(\"float\")\n",
    "\n",
    "city_data.head()"
   ]
  },
  {
   "cell_type": "markdown",
   "metadata": {},
   "source": [
    "### Humidity Heatmap\n",
    "* Configure gmaps.\n",
    "* Use the Lat and Lng as locations and Humidity as the weight.\n",
    "* Add Heatmap layer to map."
   ]
  },
  {
   "cell_type": "code",
   "execution_count": 5,
   "metadata": {},
   "outputs": [],
   "source": [
    "# Configure GMaps\n",
    "gmaps.configure(api_key=g_key)"
   ]
  },
  {
   "cell_type": "code",
   "execution_count": 6,
   "metadata": {},
   "outputs": [
    {
     "data": {
      "text/html": [
       "<div>\n",
       "<style scoped>\n",
       "    .dataframe tbody tr th:only-of-type {\n",
       "        vertical-align: middle;\n",
       "    }\n",
       "\n",
       "    .dataframe tbody tr th {\n",
       "        vertical-align: top;\n",
       "    }\n",
       "\n",
       "    .dataframe thead th {\n",
       "        text-align: right;\n",
       "    }\n",
       "</style>\n",
       "<table border=\"1\" class=\"dataframe\">\n",
       "  <thead>\n",
       "    <tr style=\"text-align: right;\">\n",
       "      <th></th>\n",
       "      <th>Lat</th>\n",
       "      <th>Lng</th>\n",
       "    </tr>\n",
       "  </thead>\n",
       "  <tbody>\n",
       "    <tr>\n",
       "      <th>0</th>\n",
       "      <td>-7.47</td>\n",
       "      <td>-34.81</td>\n",
       "    </tr>\n",
       "    <tr>\n",
       "      <th>1</th>\n",
       "      <td>60.55</td>\n",
       "      <td>-151.26</td>\n",
       "    </tr>\n",
       "    <tr>\n",
       "      <th>2</th>\n",
       "      <td>36.99</td>\n",
       "      <td>-86.44</td>\n",
       "    </tr>\n",
       "    <tr>\n",
       "      <th>3</th>\n",
       "      <td>-42.78</td>\n",
       "      <td>147.06</td>\n",
       "    </tr>\n",
       "    <tr>\n",
       "      <th>4</th>\n",
       "      <td>10.57</td>\n",
       "      <td>72.64</td>\n",
       "    </tr>\n",
       "  </tbody>\n",
       "</table>\n",
       "</div>"
      ],
      "text/plain": [
       "     Lat     Lng\n",
       "0  -7.47  -34.81\n",
       "1  60.55 -151.26\n",
       "2  36.99  -86.44\n",
       "3 -42.78  147.06\n",
       "4  10.57   72.64"
      ]
     },
     "execution_count": 6,
     "metadata": {},
     "output_type": "execute_result"
    }
   ],
   "source": [
    "# Get Locations\n",
    "location_cols = [\n",
    "    City_Weather_Columns.lat,\n",
    "    City_Weather_Columns.lng\n",
    "]\n",
    "locations = city_data[location_cols]\n",
    "locations.head()"
   ]
  },
  {
   "cell_type": "code",
   "execution_count": 7,
   "metadata": {},
   "outputs": [
    {
     "data": {
      "text/plain": [
       "0    83\n",
       "1    87\n",
       "2    66\n",
       "3    83\n",
       "4    85\n",
       "Name: Humidity, dtype: int64"
      ]
     },
     "execution_count": 7,
     "metadata": {},
     "output_type": "execute_result"
    }
   ],
   "source": [
    "# Get Humidity\n",
    "humidity = city_data[City_Weather_Columns.humidity]\n",
    "humidity.head()"
   ]
  },
  {
   "cell_type": "code",
   "execution_count": 8,
   "metadata": {},
   "outputs": [
    {
     "data": {
      "application/vnd.jupyter.widget-view+json": {
       "model_id": "8ed17f7cf7be4a7fb66bc45c44800e43",
       "version_major": 2,
       "version_minor": 0
      },
      "text/plain": [
       "Figure(layout=FigureLayout(height='420px'))"
      ]
     },
     "metadata": {},
     "output_type": "display_data"
    }
   ],
   "source": [
    "# Display Heatmap\n",
    "def get_heat_layer(locations, humidity):\n",
    "    return gmaps.heatmap_layer(locations, weights = humidity, \\\n",
    "                                dissipating=False, max_intensity = 100, \\\n",
    "                                point_radius = 3)\n",
    "\n",
    "fig = gmaps.figure()\n",
    "\n",
    "heat_layer = get_heat_layer(locations, humidity)\n",
    "\n",
    "fig.add_layer(heat_layer)\n",
    "fig"
   ]
  },
  {
   "cell_type": "markdown",
   "metadata": {},
   "source": [
    "### Create new DataFrame fitting weather criteria\n",
    "* Narrow down the cities to fit weather conditions.\n",
    "* Drop any rows will null values."
   ]
  },
  {
   "cell_type": "code",
   "execution_count": 9,
   "metadata": {},
   "outputs": [
    {
     "data": {
      "text/html": [
       "<div>\n",
       "<style scoped>\n",
       "    .dataframe tbody tr th:only-of-type {\n",
       "        vertical-align: middle;\n",
       "    }\n",
       "\n",
       "    .dataframe tbody tr th {\n",
       "        vertical-align: top;\n",
       "    }\n",
       "\n",
       "    .dataframe thead th {\n",
       "        text-align: right;\n",
       "    }\n",
       "</style>\n",
       "<table border=\"1\" class=\"dataframe\">\n",
       "  <thead>\n",
       "    <tr style=\"text-align: right;\">\n",
       "      <th></th>\n",
       "      <th>City</th>\n",
       "      <th>country</th>\n",
       "      <th>Lat</th>\n",
       "      <th>Lng</th>\n",
       "      <th>Max Temp</th>\n",
       "      <th>Humidity</th>\n",
       "      <th>Wind Speed</th>\n",
       "    </tr>\n",
       "  </thead>\n",
       "  <tbody>\n",
       "    <tr>\n",
       "      <th>23</th>\n",
       "      <td>Rosetta</td>\n",
       "      <td>EG</td>\n",
       "      <td>31.40</td>\n",
       "      <td>30.42</td>\n",
       "      <td>78.80</td>\n",
       "      <td>78</td>\n",
       "      <td>8.05</td>\n",
       "    </tr>\n",
       "    <tr>\n",
       "      <th>43</th>\n",
       "      <td>Huilong</td>\n",
       "      <td>CN</td>\n",
       "      <td>31.81</td>\n",
       "      <td>121.66</td>\n",
       "      <td>75.00</td>\n",
       "      <td>91</td>\n",
       "      <td>10.02</td>\n",
       "    </tr>\n",
       "    <tr>\n",
       "      <th>60</th>\n",
       "      <td>Jalu</td>\n",
       "      <td>LY</td>\n",
       "      <td>29.03</td>\n",
       "      <td>21.55</td>\n",
       "      <td>79.59</td>\n",
       "      <td>49</td>\n",
       "      <td>16.49</td>\n",
       "    </tr>\n",
       "    <tr>\n",
       "      <th>80</th>\n",
       "      <td>Birjand</td>\n",
       "      <td>IR</td>\n",
       "      <td>32.87</td>\n",
       "      <td>59.22</td>\n",
       "      <td>73.40</td>\n",
       "      <td>28</td>\n",
       "      <td>6.93</td>\n",
       "    </tr>\n",
       "    <tr>\n",
       "      <th>96</th>\n",
       "      <td>Ýpsonas</td>\n",
       "      <td>CY</td>\n",
       "      <td>34.69</td>\n",
       "      <td>32.96</td>\n",
       "      <td>78.80</td>\n",
       "      <td>88</td>\n",
       "      <td>12.75</td>\n",
       "    </tr>\n",
       "  </tbody>\n",
       "</table>\n",
       "</div>"
      ],
      "text/plain": [
       "       City country    Lat     Lng  Max Temp  Humidity  Wind Speed\n",
       "23  Rosetta      EG  31.40   30.42     78.80        78        8.05\n",
       "43  Huilong      CN  31.81  121.66     75.00        91       10.02\n",
       "60     Jalu      LY  29.03   21.55     79.59        49       16.49\n",
       "80  Birjand      IR  32.87   59.22     73.40        28        6.93\n",
       "96  Ýpsonas      CY  34.69   32.96     78.80        88       12.75"
      ]
     },
     "execution_count": 9,
     "metadata": {},
     "output_type": "execute_result"
    }
   ],
   "source": [
    "nice_weather = city_data.loc[city_data[City_Weather_Columns.max_temp] < 80]\n",
    "nice_weather = nice_weather[nice_weather[City_Weather_Columns.max_temp] > 70]\n",
    "nice_weather = nice_weather[nice_weather[City_Weather_Columns.cloudiness] == 0]\n",
    "nice_weather = nice_weather.drop(columns = City_Weather_Columns.cloudiness)\n",
    "nice_weather = nice_weather.dropna()\n",
    "nice_weather.head()"
   ]
  },
  {
   "cell_type": "markdown",
   "metadata": {},
   "source": [
    "### Hotel Map\n",
    "* Store into variable named `hotel_df`.\n",
    "* Add a \"Hotel Name\" column to the DataFrame.\n",
    "* Set parameters to search for hotels with 5000 meters.\n",
    "* Hit the Google Places API for each city's coordinates.\n",
    "* Store the first Hotel result into the DataFrame.\n",
    "* Plot markers on top of the heatmap."
   ]
  },
  {
   "cell_type": "code",
   "execution_count": 10,
   "metadata": {},
   "outputs": [],
   "source": [
    "# Retrieve Hotels\n",
    "base_url = \"https://maps.googleapis.com/maps/api/place/nearbysearch/json\"\n",
    "def get_hotel_json(lat, lng):\n",
    "    coordinates = f\"{lat}, {lng}\"\n",
    "    search_type = \"hotels\"\n",
    "    radius = 5000 # meters\n",
    "    search_keyword = \"hotel\"\n",
    "    \n",
    "    params = {\n",
    "        \"location\" : coordinates,\n",
    "        \"radius\" : radius,\n",
    "        \"type\" : search_type,\n",
    "        \"key\" : g_key,\n",
    "        \"keyword\" : search_keyword\n",
    "    }\n",
    "    \n",
    "    response = requests.get(base_url, params = params)\n",
    "    hotels_json =response.json()\n",
    "    \n",
    "    return hotels_json[\"results\"][0]"
   ]
  },
  {
   "cell_type": "code",
   "execution_count": 11,
   "metadata": {},
   "outputs": [],
   "source": [
    "class Hotel_Columns:\n",
    "    name = \"Hotel Name\"\n",
    "    city = \"City\"\n",
    "    country = \"Country\"\n",
    "    lat = \"Lat\"\n",
    "    lng = \"Lng\""
   ]
  },
  {
   "cell_type": "code",
   "execution_count": 12,
   "metadata": {},
   "outputs": [
    {
     "name": "stdout",
     "output_type": "stream",
     "text": [
      "Found Mecca Hotel in Rosetta, EG.\n",
      "Found Hilton Garden Inn Qidong in Huilong, CN.\n",
      "Found Jalu Hotel in Jalu, LY.\n",
      "Found Sepehr Hotel in Birjand, IR.\n",
      "Found Villa Mosaica in Ýpsonas, CY.\n",
      "Found Orlanova Hotel in Arraial do Cabo, BR.\n",
      "Could not find hotel info for Sidi Ali, DZ.\n",
      "Found Hotel Bagoeira in Barcelos, PT.\n",
      "Could not find hotel info for Konya Province, TR.\n",
      "Found ديلانا فرع 2 in Darnah, LY.\n",
      "Found Six Senses Douro Valley in Seara, PT.\n",
      "Could not find hotel info for Jadu, LY.\n",
      "Found InterContinental Bora Bora Resort Thalasso Spa in Faanui, PF.\n",
      "Found OYO Pousada Mediterrâneo in São João da Barra, BR.\n",
      "Found Maitai Lapita Village Huahine in Fare, PF.\n",
      "Found Sofitel Algiers Hamma Garden in Algiers, DZ.\n",
      "Found 7 Days Inn in Kumul, CN.\n",
      "Found Kokopo Beach Bungalow Resort in Kokopo, PG.\n",
      "Found Hotel Jardines Baja in San Quintín, MX.\n",
      "Found Palace of Zinos in Ponta do Sol, PT.\n",
      "Found Hotel DiliMah Premium Luxury in Samarkand, UZ.\n",
      "Found Graciosa Resort - Biosphere Island Hotel in Lagoa, PT.\n",
      "Found Kokoda Track Lodging in Kokoda, PG.\n",
      "Found Free Zone Hotel Nouadhibou in Nouadhibou, MR.\n",
      "Found Hotel Libyssonis in Porto Torres, IT.\n",
      "Found سه طبقه خیرخواه in Tāybād, IR.\n"
     ]
    }
   ],
   "source": [
    "hotel_infos = []\n",
    "for index, row in nice_weather.iterrows():\n",
    "    lat, lng = row[location_cols]\n",
    "    hotel_city = row[City_Weather_Columns.city]\n",
    "    hotel_country = row[City_Weather_Columns.country]\n",
    "    \n",
    "    try:\n",
    "        hotel = get_hotel_json(lat, lng)\n",
    "        hotel_name = hotel[\"name\"]\n",
    "        hotel_info = {\n",
    "            Hotel_Columns.name : hotel_name,\n",
    "            Hotel_Columns.city : hotel_city,\n",
    "            Hotel_Columns.country : hotel_country,\n",
    "            Hotel_Columns.lat : lat,\n",
    "            Hotel_Columns.lng : lng\n",
    "        }\n",
    "        hotel_infos.append(hotel_info)\n",
    "        print(f\"Found {hotel_name} in {hotel_city}, {hotel_country}.\")\n",
    "    except:\n",
    "        print(f\"Could not find hotel info for {hotel_city}, {hotel_country}.\")"
   ]
  },
  {
   "cell_type": "code",
   "execution_count": 13,
   "metadata": {},
   "outputs": [
    {
     "data": {
      "text/html": [
       "<div>\n",
       "<style scoped>\n",
       "    .dataframe tbody tr th:only-of-type {\n",
       "        vertical-align: middle;\n",
       "    }\n",
       "\n",
       "    .dataframe tbody tr th {\n",
       "        vertical-align: top;\n",
       "    }\n",
       "\n",
       "    .dataframe thead th {\n",
       "        text-align: right;\n",
       "    }\n",
       "</style>\n",
       "<table border=\"1\" class=\"dataframe\">\n",
       "  <thead>\n",
       "    <tr style=\"text-align: right;\">\n",
       "      <th></th>\n",
       "      <th>Hotel Name</th>\n",
       "      <th>City</th>\n",
       "      <th>Country</th>\n",
       "      <th>Lat</th>\n",
       "      <th>Lng</th>\n",
       "    </tr>\n",
       "  </thead>\n",
       "  <tbody>\n",
       "    <tr>\n",
       "      <th>0</th>\n",
       "      <td>Mecca Hotel</td>\n",
       "      <td>Rosetta</td>\n",
       "      <td>EG</td>\n",
       "      <td>31.40</td>\n",
       "      <td>30.42</td>\n",
       "    </tr>\n",
       "    <tr>\n",
       "      <th>1</th>\n",
       "      <td>Hilton Garden Inn Qidong</td>\n",
       "      <td>Huilong</td>\n",
       "      <td>CN</td>\n",
       "      <td>31.81</td>\n",
       "      <td>121.66</td>\n",
       "    </tr>\n",
       "    <tr>\n",
       "      <th>2</th>\n",
       "      <td>Jalu Hotel</td>\n",
       "      <td>Jalu</td>\n",
       "      <td>LY</td>\n",
       "      <td>29.03</td>\n",
       "      <td>21.55</td>\n",
       "    </tr>\n",
       "    <tr>\n",
       "      <th>3</th>\n",
       "      <td>Sepehr Hotel</td>\n",
       "      <td>Birjand</td>\n",
       "      <td>IR</td>\n",
       "      <td>32.87</td>\n",
       "      <td>59.22</td>\n",
       "    </tr>\n",
       "    <tr>\n",
       "      <th>4</th>\n",
       "      <td>Villa Mosaica</td>\n",
       "      <td>Ýpsonas</td>\n",
       "      <td>CY</td>\n",
       "      <td>34.69</td>\n",
       "      <td>32.96</td>\n",
       "    </tr>\n",
       "  </tbody>\n",
       "</table>\n",
       "</div>"
      ],
      "text/plain": [
       "                 Hotel Name     City Country    Lat     Lng\n",
       "0               Mecca Hotel  Rosetta      EG  31.40   30.42\n",
       "1  Hilton Garden Inn Qidong  Huilong      CN  31.81  121.66\n",
       "2                Jalu Hotel     Jalu      LY  29.03   21.55\n",
       "3              Sepehr Hotel  Birjand      IR  32.87   59.22\n",
       "4             Villa Mosaica  Ýpsonas      CY  34.69   32.96"
      ]
     },
     "execution_count": 13,
     "metadata": {},
     "output_type": "execute_result"
    }
   ],
   "source": [
    "hotel_df = pd.DataFrame(hotel_infos)\n",
    "hotel_df.head()"
   ]
  },
  {
   "cell_type": "code",
   "execution_count": 14,
   "metadata": {},
   "outputs": [],
   "source": [
    "# NOTE: Do not change any of the code in this cell\n",
    "\n",
    "# Using the template add the hotel marks to the heatmap\n",
    "info_box_template = \"\"\"\n",
    "<dl>\n",
    "<dt>Name</dt><dd>{Hotel Name}</dd>\n",
    "<dt>City</dt><dd>{City}</dd>\n",
    "<dt>Country</dt><dd>{Country}</dd>\n",
    "</dl>\n",
    "\"\"\"\n",
    "# Store the DataFrame Row\n",
    "# NOTE: be sure to update with your DataFrame name\n",
    "hotel_info = [info_box_template.format(**row) for index, row in hotel_df.iterrows()]\n",
    "locations = hotel_df[[\"Lat\", \"Lng\"]]"
   ]
  },
  {
   "cell_type": "code",
   "execution_count": 15,
   "metadata": {},
   "outputs": [
    {
     "data": {
      "application/vnd.jupyter.widget-view+json": {
       "model_id": "8ed17f7cf7be4a7fb66bc45c44800e43",
       "version_major": 2,
       "version_minor": 0
      },
      "text/plain": [
       "Figure(layout=FigureLayout(height='420px'))"
      ]
     },
     "metadata": {},
     "output_type": "display_data"
    }
   ],
   "source": [
    "# Add marker layer ontop of heat map\n",
    "marker_layer = gmaps.marker_layer(locations, info_box_content = hotel_info)\n",
    "fig.add_layer(marker_layer)\n",
    "\n",
    "# Display figure\n",
    "fig"
   ]
  },
  {
   "cell_type": "code",
   "execution_count": null,
   "metadata": {},
   "outputs": [],
   "source": []
  }
 ],
 "metadata": {
  "kernelspec": {
   "display_name": "Python 3",
   "language": "python",
   "name": "python3"
  },
  "language_info": {
   "codemirror_mode": {
    "name": "ipython",
    "version": 3
   },
   "file_extension": ".py",
   "mimetype": "text/x-python",
   "name": "python",
   "nbconvert_exporter": "python",
   "pygments_lexer": "ipython3",
   "version": "3.6.10"
  },
  "latex_envs": {
   "LaTeX_envs_menu_present": true,
   "autoclose": false,
   "autocomplete": true,
   "bibliofile": "biblio.bib",
   "cite_by": "apalike",
   "current_citInitial": 1,
   "eqLabelWithNumbers": true,
   "eqNumInitial": 1,
   "hotkeys": {
    "equation": "Ctrl-E",
    "itemize": "Ctrl-I"
   },
   "labels_anchors": false,
   "latex_user_defs": false,
   "report_style_numbering": false,
   "user_envs_cfg": false
  }
 },
 "nbformat": 4,
 "nbformat_minor": 2
}
