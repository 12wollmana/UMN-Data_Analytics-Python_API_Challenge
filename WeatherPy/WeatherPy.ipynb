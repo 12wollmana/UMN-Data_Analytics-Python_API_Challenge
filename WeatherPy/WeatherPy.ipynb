{
 "cells": [
  {
   "cell_type": "markdown",
   "metadata": {},
   "source": [
    "# WeatherPy - Aaron Wollman\n",
    "----"
   ]
  },
  {
   "cell_type": "code",
   "execution_count": 1,
   "metadata": {
    "scrolled": true
   },
   "outputs": [],
   "source": [
    "# Dependencies and Setup\n",
    "import matplotlib.pyplot as plt\n",
    "import pandas as pd\n",
    "import numpy as np\n",
    "import requests\n",
    "import time\n",
    "from scipy.stats import linregress\n",
    "\n",
    "# Incorporated citipy to determine city based on latitude and longitude\n",
    "from citipy import citipy\n",
    "\n",
    "# Import API key\n",
    "import sys\n",
    "sys.path.append(\"..\")\n",
    "from api_keys import weather_api_key\n",
    "\n",
    "# Output File (CSV)\n",
    "output_data_file = \"output_data/cities.csv\"\n",
    "\n",
    "# Range of latitudes and longitudes\n",
    "lat_range = (-90, 90)\n",
    "lng_range = (-180, 180)"
   ]
  },
  {
   "cell_type": "markdown",
   "metadata": {},
   "source": [
    "## Generate Cities List"
   ]
  },
  {
   "cell_type": "code",
   "execution_count": 2,
   "metadata": {},
   "outputs": [
    {
     "data": {
      "text/plain": [
       "616"
      ]
     },
     "execution_count": 2,
     "metadata": {},
     "output_type": "execute_result"
    }
   ],
   "source": [
    "# List for holding lat_lngs and cities\n",
    "lat_lngs = []\n",
    "cities = []\n",
    "\n",
    "# Create a set of random lat and lng combinations\n",
    "sample_size = 1500\n",
    "lats = np.random.uniform(lat_range[0], lat_range[1], size=sample_size)\n",
    "lngs = np.random.uniform(lng_range[0], lng_range[1], size=sample_size)\n",
    "lat_lngs = zip(lats, lngs)\n",
    "\n",
    "# Identify nearest city for each lat, lng combination\n",
    "for lat_lng in lat_lngs:\n",
    "    city = citipy.nearest_city(lat_lng[0], lat_lng[1]).city_name\n",
    "    \n",
    "    # If the city is unique, then add it to a our cities list\n",
    "    if city not in cities:\n",
    "        cities.append(city)\n",
    "\n",
    "# Print the city count to confirm sufficient count\n",
    "len(cities)"
   ]
  },
  {
   "cell_type": "markdown",
   "metadata": {},
   "source": [
    "### Perform API Calls\n",
    "* Perform a weather check on each city using a series of successive API calls.\n",
    "* Include a print log of each city as it'sbeing processed (with the city number and city name).\n"
   ]
  },
  {
   "cell_type": "code",
   "execution_count": 3,
   "metadata": {},
   "outputs": [],
   "source": [
    "# Function to call OpenWeatherMap's API\n",
    "weather_baseurl = \"http://api.openweathermap.org/data/2.5/weather?\"\n",
    "\n",
    "def get_city_weather(city):\n",
    "    weather_params = {\n",
    "        \"appid\" : weather_api_key,\n",
    "        \"q\" : city,\n",
    "        \"units\" : \"Imperial\"\n",
    "    }\n",
    "    \n",
    "    weather_response = requests.get(weather_baseurl, params = weather_params)\n",
    "    return weather_response.json()"
   ]
  },
  {
   "cell_type": "code",
   "execution_count": 4,
   "metadata": {},
   "outputs": [],
   "source": [
    "# Helpers to save data from JSON to an object\n",
    "class City_Weather_Columns:\n",
    "    city = \"City\"\n",
    "    lat = \"Lat\"\n",
    "    lng = \"Lng\"\n",
    "    max_temp = \"Max Temp\"\n",
    "    humidity = \"Humidity\"\n",
    "    cloudiness = \"Cloudiness\"\n",
    "    wind_speed = \"Wind Speed\"\n",
    "    country = \"country\"\n",
    "    date = \"Date\"\n",
    "       \n",
    "def process_weather_json(json):\n",
    "    return {\n",
    "        City_Weather_Columns.city : json[\"name\"],\n",
    "        City_Weather_Columns.lat : json[\"coord\"][\"lat\"],\n",
    "        City_Weather_Columns.lng : json[\"coord\"][\"lon\"],\n",
    "        City_Weather_Columns.max_temp : json[\"main\"][\"temp_max\"],\n",
    "        City_Weather_Columns.humidity : json[\"main\"][\"humidity\"],\n",
    "        City_Weather_Columns.cloudiness : json[\"clouds\"][\"all\"],\n",
    "        City_Weather_Columns.wind_speed : json[\"wind\"][\"speed\"],\n",
    "        City_Weather_Columns.country : json[\"sys\"][\"country\"],\n",
    "        City_Weather_Columns.date : json[\"dt\"]\n",
    "    }"
   ]
  },
  {
   "cell_type": "code",
   "execution_count": 5,
   "metadata": {},
   "outputs": [
    {
     "name": "stdout",
     "output_type": "stream",
     "text": [
      "Beginning Data Retrieval\n",
      "-----------------------------\n",
      "City not found. Skipping...\n",
      "Processing Record 2 of Set 1 | Vardø\n",
      "Processing Record 3 of Set 1 | Punta Arenas\n",
      "Processing Record 4 of Set 1 | Hofn\n",
      "Processing Record 5 of Set 1 | Busselton\n",
      "Processing Record 6 of Set 1 | Fuzhou\n",
      "Processing Record 7 of Set 1 | Pacific Grove\n",
      "Processing Record 8 of Set 1 | Mandlā\n",
      "Processing Record 9 of Set 1 | Albany\n",
      "Processing Record 10 of Set 1 | Nanortalik\n",
      "Processing Record 11 of Set 1 | Martapura\n",
      "Processing Record 12 of Set 1 | Matara\n",
      "Processing Record 13 of Set 1 | Vaini\n",
      "Processing Record 14 of Set 1 | Esperance\n",
      "Processing Record 15 of Set 1 | Tiksi\n",
      "Processing Record 16 of Set 1 | George Town\n",
      "Processing Record 17 of Set 1 | Zhezkazgan\n",
      "Processing Record 18 of Set 1 | Saskylakh\n",
      "Processing Record 19 of Set 1 | Ushuaia\n",
      "Processing Record 20 of Set 1 | Palmer\n",
      "Processing Record 21 of Set 1 | Nuuk\n",
      "Processing Record 22 of Set 1 | Port Blair\n",
      "Processing Record 23 of Set 1 | Hobart\n",
      "Processing Record 24 of Set 1 | Saint-Philippe\n",
      "City not found. Skipping...\n",
      "Processing Record 26 of Set 1 | Okha\n",
      "Processing Record 27 of Set 1 | Mount Gambier\n",
      "Processing Record 28 of Set 1 | Hermanus\n",
      "City not found. Skipping...\n",
      "Processing Record 30 of Set 1 | Touros\n",
      "Processing Record 31 of Set 1 | Jacareacanga\n",
      "Processing Record 32 of Set 1 | Broken Hill\n",
      "Processing Record 33 of Set 1 | Umm Kaddadah\n",
      "Processing Record 34 of Set 1 | Ilulissat\n",
      "City not found. Skipping...\n",
      "Processing Record 36 of Set 1 | La Asuncion\n",
      "Processing Record 37 of Set 1 | Rikitea\n",
      "Processing Record 38 of Set 1 | Cape Town\n",
      "City not found. Skipping...\n",
      "Processing Record 40 of Set 1 | Sinnamary\n",
      "Processing Record 41 of Set 1 | Hokitika\n",
      "Processing Record 42 of Set 1 | Kapaa\n",
      "Processing Record 43 of Set 1 | New Norfolk\n",
      "Processing Record 44 of Set 1 | Olafsvik\n",
      "Processing Record 45 of Set 1 | Jamestown\n",
      "Processing Record 46 of Set 1 | Mataura\n",
      "Processing Record 47 of Set 1 | Thompson\n",
      "Processing Record 48 of Set 1 | Bambous Virieux\n",
      "Processing Record 49 of Set 1 | Namatanai\n",
      "Processing Record 50 of Set 1 | Phalaborwa\n",
      "Processing Record 1 of Set 2 | Port Alfred\n",
      "Processing Record 2 of Set 2 | Dikson\n",
      "Processing Record 3 of Set 2 | Kyzyl-Suu\n",
      "Processing Record 4 of Set 2 | Kodinsk\n",
      "Processing Record 5 of Set 2 | Sulangan\n",
      "Processing Record 6 of Set 2 | Arraial do Cabo\n",
      "Processing Record 7 of Set 2 | George Town\n",
      "Processing Record 8 of Set 2 | Hamilton\n",
      "Processing Record 9 of Set 2 | La Dicha\n",
      "Processing Record 10 of Set 2 | Tuatapere\n",
      "Processing Record 11 of Set 2 | Pīshvā\n",
      "Processing Record 12 of Set 2 | Port Moresby\n",
      "Processing Record 13 of Set 2 | Leningradskiy\n",
      "City not found. Skipping...\n",
      "Processing Record 15 of Set 2 | Upernavik\n",
      "Processing Record 16 of Set 2 | Ponta do Sol\n",
      "Processing Record 17 of Set 2 | Tateyama\n",
      "City not found. Skipping...\n",
      "Processing Record 19 of Set 2 | Igrim\n",
      "Processing Record 20 of Set 2 | Barrow\n",
      "Processing Record 21 of Set 2 | Koulikoro\n",
      "Processing Record 22 of Set 2 | Iqaluit\n",
      "Processing Record 23 of Set 2 | Bugembe\n",
      "Processing Record 24 of Set 2 | Lompoc\n",
      "Processing Record 25 of Set 2 | Suna\n",
      "Processing Record 26 of Set 2 | Nanchong\n",
      "Processing Record 27 of Set 2 | Baillif\n",
      "Processing Record 28 of Set 2 | Cockburn Town\n",
      "Processing Record 29 of Set 2 | Hilo\n",
      "Processing Record 30 of Set 2 | Kiryat Gat\n",
      "Processing Record 31 of Set 2 | Pokhara\n",
      "Processing Record 32 of Set 2 | São Raimundo Nonato\n",
      "Processing Record 33 of Set 2 | Ceres\n",
      "Processing Record 34 of Set 2 | Hithadhoo\n",
      "Processing Record 35 of Set 2 | Pevek\n",
      "Processing Record 36 of Set 2 | Butaritari\n",
      "City not found. Skipping...\n",
      "Processing Record 38 of Set 2 | Ribeira Grande\n",
      "Processing Record 39 of Set 2 | Timizart\n",
      "Processing Record 40 of Set 2 | Khatanga\n",
      "Processing Record 41 of Set 2 | Tasiilaq\n",
      "Processing Record 42 of Set 2 | Saldanha\n",
      "Processing Record 43 of Set 2 | Ihosy\n",
      "Processing Record 44 of Set 2 | Puerto Ayora\n",
      "Processing Record 45 of Set 2 | Ruska Poliana\n",
      "Processing Record 46 of Set 2 | Voi\n",
      "Processing Record 47 of Set 2 | Bredasdorp\n",
      "Processing Record 48 of Set 2 | Talnakh\n",
      "Processing Record 49 of Set 2 | Ust-Maya\n",
      "Processing Record 50 of Set 2 | Fortuna\n",
      "Processing Record 1 of Set 3 | Antequera\n",
      "Processing Record 2 of Set 3 | Cervo\n",
      "City not found. Skipping...\n",
      "Processing Record 4 of Set 3 | Quelimane\n",
      "Processing Record 5 of Set 3 | Tambacounda\n",
      "Processing Record 6 of Set 3 | Tarrafal\n",
      "Processing Record 7 of Set 3 | Torbay\n",
      "Processing Record 8 of Set 3 | Abnūb\n",
      "Processing Record 9 of Set 3 | Micheweni\n",
      "Processing Record 10 of Set 3 | Tonj\n",
      "Processing Record 11 of Set 3 | Geraldton\n",
      "Processing Record 12 of Set 3 | Ostrovnoy\n",
      "Processing Record 13 of Set 3 | Nikolskoye\n",
      "Processing Record 14 of Set 3 | Vakhtan\n",
      "Processing Record 15 of Set 3 | Whitehorse\n",
      "Processing Record 16 of Set 3 | Tandil\n",
      "City not found. Skipping...\n",
      "Processing Record 18 of Set 3 | Biak\n",
      "Processing Record 19 of Set 3 | Dunedin\n",
      "City not found. Skipping...\n",
      "Processing Record 21 of Set 3 | Husavik\n",
      "Processing Record 22 of Set 3 | Mahébourg\n",
      "Processing Record 23 of Set 3 | Zunyi\n",
      "Processing Record 24 of Set 3 | Lorengau\n",
      "Processing Record 25 of Set 3 | Vágur\n",
      "Processing Record 26 of Set 3 | Codrington\n",
      "Processing Record 27 of Set 3 | Bay City\n",
      "Processing Record 28 of Set 3 | Bluff\n",
      "Processing Record 29 of Set 3 | Laas\n",
      "Processing Record 30 of Set 3 | Qaanaaq\n",
      "Processing Record 31 of Set 3 | Chui\n",
      "Processing Record 32 of Set 3 | Benton Harbor\n",
      "City not found. Skipping...\n",
      "Processing Record 34 of Set 3 | Carnarvon\n",
      "Processing Record 35 of Set 3 | Ancud\n",
      "Processing Record 36 of Set 3 | Uspenka\n",
      "Processing Record 37 of Set 3 | El Retén\n",
      "Processing Record 38 of Set 3 | Gibara\n",
      "Processing Record 39 of Set 3 | Viedma\n",
      "Processing Record 40 of Set 3 | Homer\n",
      "Processing Record 41 of Set 3 | Kavieng\n",
      "City not found. Skipping...\n",
      "Processing Record 43 of Set 3 | Fort Nelson\n",
      "Processing Record 44 of Set 3 | Aksarka\n",
      "Processing Record 45 of Set 3 | Valdivia\n",
      "Processing Record 46 of Set 3 | Udachny\n",
      "Processing Record 47 of Set 3 | Cabo San Lucas\n",
      "Processing Record 48 of Set 3 | Sioux Lookout\n",
      "Processing Record 49 of Set 3 | Northam\n",
      "Processing Record 50 of Set 3 | Erenhot\n",
      "Processing Record 1 of Set 4 | Peniche\n",
      "Processing Record 2 of Set 4 | Pionerskiy\n",
      "City not found. Skipping...\n",
      "Processing Record 4 of Set 4 | Roald\n",
      "Processing Record 5 of Set 4 | Portales\n",
      "Processing Record 6 of Set 4 | Lagoa\n",
      "Processing Record 7 of Set 4 | Atuona\n",
      "Processing Record 8 of Set 4 | Bathsheba\n",
      "Processing Record 9 of Set 4 | Kavaratti\n",
      "Processing Record 10 of Set 4 | Requena\n",
      "Processing Record 11 of Set 4 | Porto-Novo\n",
      "Processing Record 12 of Set 4 | El Alto\n",
      "Processing Record 13 of Set 4 | Elbistan\n",
      "Processing Record 14 of Set 4 | Avarua\n",
      "Processing Record 15 of Set 4 | Nemuro\n",
      "Processing Record 16 of Set 4 | Portland\n",
      "City not found. Skipping...\n",
      "Processing Record 18 of Set 4 | Bilma\n",
      "Processing Record 19 of Set 4 | Bengkulu\n",
      "Processing Record 20 of Set 4 | Djibouti\n",
      "Processing Record 21 of Set 4 | Omboué\n",
      "Processing Record 22 of Set 4 | Vostok\n",
      "Processing Record 23 of Set 4 | Tuktoyaktuk\n",
      "Processing Record 24 of Set 4 | Gamba\n",
      "Processing Record 25 of Set 4 | Kiunga\n",
      "Processing Record 26 of Set 4 | Mar del Plata\n",
      "Processing Record 27 of Set 4 | East London\n",
      "Processing Record 28 of Set 4 | Pisco\n",
      "Processing Record 29 of Set 4 | Petkovci\n",
      "Processing Record 30 of Set 4 | Troitskoye\n",
      "Processing Record 31 of Set 4 | Tessalit\n",
      "Processing Record 32 of Set 4 | Valparaíso\n",
      "Processing Record 33 of Set 4 | Narsaq\n",
      "Processing Record 34 of Set 4 | Aldan\n",
      "City not found. Skipping...\n",
      "Processing Record 36 of Set 4 | Yellowknife\n",
      "Processing Record 37 of Set 4 | Madimba\n",
      "Processing Record 38 of Set 4 | Villa Corzo\n",
      "Processing Record 39 of Set 4 | Longyearbyen\n",
      "Processing Record 40 of Set 4 | Pochutla\n",
      "Processing Record 41 of Set 4 | Aklavik\n",
      "Processing Record 42 of Set 4 | Chimoio\n",
      "Processing Record 43 of Set 4 | Luorong\n",
      "Processing Record 44 of Set 4 | Vestmanna\n",
      "Processing Record 45 of Set 4 | Stulovo\n",
      "Processing Record 46 of Set 4 | Castro\n",
      "Processing Record 47 of Set 4 | Provideniya\n",
      "Processing Record 48 of Set 4 | Faya\n",
      "Processing Record 49 of Set 4 | Hong Kong\n",
      "Processing Record 50 of Set 4 | Hailey\n",
      "Processing Record 1 of Set 5 | Lakes Entrance\n",
      "Processing Record 2 of Set 5 | Clyde River\n",
      "Processing Record 3 of Set 5 | Bodden Town\n",
      "Processing Record 4 of Set 5 | Maracaçumé\n"
     ]
    },
    {
     "name": "stdout",
     "output_type": "stream",
     "text": [
      "Processing Record 5 of Set 5 | El Oro\n",
      "Processing Record 6 of Set 5 | San Vicente\n",
      "City not found. Skipping...\n",
      "Processing Record 8 of Set 5 | San Juan\n",
      "Processing Record 9 of Set 5 | Jimma\n",
      "Processing Record 10 of Set 5 | Sarakhs\n",
      "Processing Record 11 of Set 5 | eMkhomazi\n",
      "Processing Record 12 of Set 5 | Calabozo\n",
      "Processing Record 13 of Set 5 | Tommot\n",
      "Processing Record 14 of Set 5 | Wagar\n",
      "Processing Record 15 of Set 5 | Oranjemund\n",
      "Processing Record 16 of Set 5 | Awjilah\n",
      "Processing Record 17 of Set 5 | La Ronge\n",
      "Processing Record 18 of Set 5 | Bethel\n",
      "Processing Record 19 of Set 5 | Sol'tsy\n",
      "Processing Record 20 of Set 5 | Saint-Félicien\n",
      "Processing Record 21 of Set 5 | Dryden\n",
      "Processing Record 22 of Set 5 | Cidreira\n",
      "City not found. Skipping...\n",
      "Processing Record 24 of Set 5 | Kautokeino\n",
      "Processing Record 25 of Set 5 | Margate\n",
      "Processing Record 26 of Set 5 | Saint George\n",
      "Processing Record 27 of Set 5 | São Borja\n",
      "Processing Record 28 of Set 5 | Zhirnovsk\n",
      "Processing Record 29 of Set 5 | Grão Mogol\n",
      "Processing Record 30 of Set 5 | Lavrentiya\n",
      "Processing Record 31 of Set 5 | Ola\n",
      "Processing Record 32 of Set 5 | Yulara\n",
      "Processing Record 33 of Set 5 | Camabatela\n",
      "Processing Record 34 of Set 5 | Coyhaique\n",
      "Processing Record 35 of Set 5 | Severo-Yeniseyskiy\n",
      "Processing Record 36 of Set 5 | Jizan\n",
      "Processing Record 37 of Set 5 | Ginda\n",
      "City not found. Skipping...\n",
      "Processing Record 39 of Set 5 | Leh\n",
      "Processing Record 40 of Set 5 | Rantepao\n",
      "Processing Record 41 of Set 5 | Mandalgovi\n",
      "Processing Record 42 of Set 5 | Poum\n",
      "Processing Record 43 of Set 5 | Yurino\n",
      "Processing Record 44 of Set 5 | Katsuura\n",
      "City not found. Skipping...\n",
      "Processing Record 46 of Set 5 | Shiyan\n",
      "Processing Record 47 of Set 5 | Ormara\n",
      "Processing Record 48 of Set 5 | Hambantota\n",
      "Processing Record 49 of Set 5 | Waitati\n",
      "Processing Record 50 of Set 5 | Saint Paul Harbor\n",
      "Processing Record 1 of Set 6 | Buritis\n",
      "Processing Record 2 of Set 6 | Port-Gentil\n",
      "Processing Record 3 of Set 6 | Aranos\n",
      "Processing Record 4 of Set 6 | Cherskiy\n",
      "Processing Record 5 of Set 6 | Saint-Louis\n",
      "Processing Record 6 of Set 6 | Powell River\n",
      "Processing Record 7 of Set 6 | Mayumba\n",
      "Processing Record 8 of Set 6 | Meulaboh\n",
      "Processing Record 9 of Set 6 | Ambon City\n",
      "Processing Record 10 of Set 6 | Malbork\n",
      "Processing Record 11 of Set 6 | Waingapu\n",
      "Processing Record 12 of Set 6 | São Filipe\n",
      "Processing Record 13 of Set 6 | Camacha\n",
      "Processing Record 14 of Set 6 | Storm Lake\n",
      "Processing Record 15 of Set 6 | Mnogovershinnyy\n",
      "Processing Record 16 of Set 6 | Grindavik\n",
      "Processing Record 17 of Set 6 | Kruisfontein\n",
      "Processing Record 18 of Set 6 | Kaduy\n",
      "Processing Record 19 of Set 6 | Pangody\n",
      "Processing Record 20 of Set 6 | Sola\n",
      "Processing Record 21 of Set 6 | Meridian\n",
      "Processing Record 22 of Set 6 | Sabang\n",
      "Processing Record 23 of Set 6 | Inhambane\n",
      "Processing Record 24 of Set 6 | Port Elizabeth\n",
      "Processing Record 25 of Set 6 | Shubarkuduk\n",
      "Processing Record 26 of Set 6 | Snåase\n",
      "Processing Record 27 of Set 6 | Laguna\n",
      "Processing Record 28 of Set 6 | Ismailia\n",
      "Processing Record 29 of Set 6 | Forsytheganj\n",
      "Processing Record 30 of Set 6 | Chabahar\n",
      "City not found. Skipping...\n",
      "Processing Record 32 of Set 6 | Renigunta\n",
      "Processing Record 33 of Set 6 | Fairbanks\n",
      "Processing Record 34 of Set 6 | Faanui\n",
      "Processing Record 35 of Set 6 | Priboj\n",
      "Processing Record 36 of Set 6 | Lázaro Cárdenas\n",
      "Processing Record 37 of Set 6 | Priargunsk\n",
      "City not found. Skipping...\n",
      "Processing Record 39 of Set 6 | Talara\n",
      "Processing Record 40 of Set 6 | Morehead\n",
      "Processing Record 41 of Set 6 | Isangel\n",
      "Processing Record 42 of Set 6 | Vila Velha\n",
      "Processing Record 43 of Set 6 | Mingguang\n",
      "Processing Record 44 of Set 6 | Vestmannaeyjar\n",
      "City not found. Skipping...\n",
      "Processing Record 46 of Set 6 | Xapuri\n",
      "Processing Record 47 of Set 6 | Mogadishu\n",
      "Processing Record 48 of Set 6 | Vanavara\n",
      "Processing Record 49 of Set 6 | Bamiantong\n",
      "Processing Record 50 of Set 6 | Gazli\n",
      "Processing Record 1 of Set 7 | Merauke\n",
      "Processing Record 2 of Set 7 | Ketchikan\n",
      "Processing Record 3 of Set 7 | Huarmey\n",
      "Processing Record 4 of Set 7 | Berlevåg\n",
      "Processing Record 5 of Set 7 | Gander\n",
      "Processing Record 6 of Set 7 | Rockport\n",
      "Processing Record 7 of Set 7 | Bonthe\n",
      "Processing Record 8 of Set 7 | Karratha\n",
      "Processing Record 9 of Set 7 | San Patricio\n",
      "Processing Record 10 of Set 7 | Springdale\n",
      "Processing Record 11 of Set 7 | Port Lincoln\n",
      "Processing Record 12 of Set 7 | Thinadhoo\n",
      "Processing Record 13 of Set 7 | Avera\n",
      "Processing Record 14 of Set 7 | Muravlenko\n",
      "Processing Record 15 of Set 7 | Puri\n",
      "Processing Record 16 of Set 7 | Kloulklubed\n",
      "Processing Record 17 of Set 7 | Metro\n",
      "City not found. Skipping...\n",
      "City not found. Skipping...\n",
      "Processing Record 20 of Set 7 | San Quintín\n",
      "Processing Record 21 of Set 7 | Kumul\n",
      "Processing Record 22 of Set 7 | Sørland\n",
      "Processing Record 23 of Set 7 | The Valley\n",
      "Processing Record 24 of Set 7 | Daru\n",
      "Processing Record 25 of Set 7 | Masumbwe\n",
      "Processing Record 26 of Set 7 | Jelgava\n",
      "Processing Record 27 of Set 7 | Yeppoon\n",
      "Processing Record 28 of Set 7 | Riyadh\n",
      "Processing Record 29 of Set 7 | Pochinki\n",
      "City not found. Skipping...\n",
      "Processing Record 31 of Set 7 | Agüimes\n",
      "Processing Record 32 of Set 7 | Batticaloa\n",
      "Processing Record 33 of Set 7 | Te Anau\n",
      "Processing Record 34 of Set 7 | Knysna\n",
      "Processing Record 35 of Set 7 | Gashua\n",
      "Processing Record 36 of Set 7 | Bubaque\n",
      "Processing Record 37 of Set 7 | Dhaulpur\n",
      "Processing Record 38 of Set 7 | Makkah al Mukarramah\n",
      "Processing Record 39 of Set 7 | São Paulo de Olivença\n",
      "Processing Record 40 of Set 7 | Airai\n",
      "Processing Record 41 of Set 7 | Tupik\n",
      "Processing Record 42 of Set 7 | Antsohihy\n",
      "City not found. Skipping...\n",
      "Processing Record 44 of Set 7 | Maniitsoq\n",
      "Processing Record 45 of Set 7 | Yangi Marg`ilon\n",
      "Processing Record 46 of Set 7 | Skeldon\n",
      "Processing Record 47 of Set 7 | Evensk\n",
      "Processing Record 48 of Set 7 | Kaitangata\n",
      "Processing Record 49 of Set 7 | West Helena\n",
      "Processing Record 50 of Set 7 | Karachi\n",
      "Processing Record 1 of Set 8 | Shentala\n",
      "Processing Record 2 of Set 8 | Waipawa\n",
      "City not found. Skipping...\n",
      "City not found. Skipping...\n",
      "Processing Record 5 of Set 8 | Yar-Sale\n",
      "Processing Record 6 of Set 8 | Altay\n",
      "Processing Record 7 of Set 8 | Nishihara\n",
      "City not found. Skipping...\n",
      "Processing Record 9 of Set 8 | Xiuyan\n",
      "Processing Record 10 of Set 8 | Fairview\n",
      "Processing Record 11 of Set 8 | Beloha\n",
      "Processing Record 12 of Set 8 | Nabire\n",
      "Processing Record 13 of Set 8 | Basoko\n",
      "Processing Record 14 of Set 8 | Mossamedes\n",
      "Processing Record 15 of Set 8 | Lemon Tree Passage\n",
      "Processing Record 16 of Set 8 | Domoni\n",
      "Processing Record 17 of Set 8 | Mount Isa\n",
      "Processing Record 18 of Set 8 | Cayenne\n",
      "Processing Record 19 of Set 8 | Lata\n",
      "Processing Record 20 of Set 8 | Lüderitz\n",
      "Processing Record 21 of Set 8 | Igarka\n",
      "City not found. Skipping...\n",
      "Processing Record 23 of Set 8 | Salalah\n",
      "Processing Record 24 of Set 8 | Acapulco de Juárez\n",
      "Processing Record 25 of Set 8 | Comodoro Rivadavia\n",
      "Processing Record 26 of Set 8 | Tavda\n",
      "Processing Record 27 of Set 8 | Paamiut\n",
      "Processing Record 28 of Set 8 | Griffith\n",
      "Processing Record 29 of Set 8 | Jaumave\n",
      "Processing Record 30 of Set 8 | Norman Wells\n",
      "Processing Record 31 of Set 8 | Jamuria\n",
      "Processing Record 32 of Set 8 | Amapá\n",
      "Processing Record 33 of Set 8 | Bushehr\n",
      "Processing Record 34 of Set 8 | Bimbo\n",
      "Processing Record 35 of Set 8 | Coromandel\n",
      "Processing Record 36 of Set 8 | Koumac\n",
      "Processing Record 37 of Set 8 | Lebu\n",
      "Processing Record 38 of Set 8 | Wanning\n",
      "Processing Record 39 of Set 8 | Guangyuan\n",
      "Processing Record 40 of Set 8 | Ciudad de Allende\n",
      "Processing Record 41 of Set 8 | Bakel\n",
      "Processing Record 42 of Set 8 | Örnsköldsvik\n",
      "Processing Record 43 of Set 8 | Westport\n",
      "Processing Record 44 of Set 8 | Souillac\n",
      "City not found. Skipping...\n",
      "Processing Record 46 of Set 8 | Abu Samrah\n",
      "Processing Record 47 of Set 8 | Naze\n",
      "Processing Record 48 of Set 8 | Andros Town\n",
      "Processing Record 49 of Set 8 | Havre-St-Pierre\n",
      "Processing Record 50 of Set 8 | Kidal\n",
      "Processing Record 1 of Set 9 | Boyolangu\n",
      "Processing Record 2 of Set 9 | Bharatpur\n",
      "Processing Record 3 of Set 9 | Tura\n",
      "Processing Record 4 of Set 9 | Swellendam\n",
      "Processing Record 5 of Set 9 | Belaya Gora\n",
      "Processing Record 6 of Set 9 | Medak\n",
      "Processing Record 7 of Set 9 | Pierre\n",
      "Processing Record 8 of Set 9 | Basco\n",
      "Processing Record 9 of Set 9 | Torit\n",
      "Processing Record 10 of Set 9 | Mahon\n"
     ]
    },
    {
     "name": "stdout",
     "output_type": "stream",
     "text": [
      "City not found. Skipping...\n",
      "Processing Record 12 of Set 9 | Mildura\n",
      "Processing Record 13 of Set 9 | Aksu\n",
      "Processing Record 14 of Set 9 | Severomuysk\n",
      "Processing Record 15 of Set 9 | Preeceville\n",
      "Processing Record 16 of Set 9 | Port Hedland\n",
      "City not found. Skipping...\n",
      "Processing Record 18 of Set 9 | Jalu\n",
      "Processing Record 19 of Set 9 | Isfahan\n",
      "Processing Record 20 of Set 9 | Sakakah\n",
      "City not found. Skipping...\n",
      "Processing Record 22 of Set 9 | Kuzhithurai\n",
      "Processing Record 23 of Set 9 | Luganville\n",
      "Processing Record 24 of Set 9 | Agirish\n",
      "Processing Record 25 of Set 9 | San Andrés\n",
      "Processing Record 26 of Set 9 | Rawson\n",
      "Processing Record 27 of Set 9 | Vila do Maio\n",
      "Processing Record 28 of Set 9 | Kindu\n",
      "Processing Record 29 of Set 9 | Siderno\n",
      "Processing Record 30 of Set 9 | Southbridge\n",
      "Processing Record 31 of Set 9 | Hay River\n",
      "Processing Record 32 of Set 9 | Kamaishi\n",
      "Processing Record 33 of Set 9 | Linjiang\n",
      "Processing Record 34 of Set 9 | Beckley\n",
      "Processing Record 35 of Set 9 | Tucumã\n",
      "Processing Record 36 of Set 9 | Baoro\n",
      "Processing Record 37 of Set 9 | Dingle\n",
      "Processing Record 38 of Set 9 | Barra do Garças\n",
      "Processing Record 39 of Set 9 | Show Low\n",
      "Processing Record 40 of Set 9 | Labuhan\n",
      "Processing Record 41 of Set 9 | Severo-Kuril'sk\n",
      "Processing Record 42 of Set 9 | Misratah\n",
      "Processing Record 43 of Set 9 | Arman'\n",
      "Processing Record 44 of Set 9 | Opuwo\n",
      "Processing Record 45 of Set 9 | Tūkrah\n",
      "Processing Record 46 of Set 9 | Danilov\n",
      "Processing Record 47 of Set 9 | Pandan\n",
      "Processing Record 48 of Set 9 | Mitsamiouli\n",
      "Processing Record 49 of Set 9 | Belyy Yar\n",
      "Processing Record 50 of Set 9 | Hasaki\n",
      "Processing Record 1 of Set 10 | Zhenhaicun\n",
      "Processing Record 2 of Set 10 | High Rock\n",
      "Processing Record 3 of Set 10 | Schwerin\n",
      "City not found. Skipping...\n",
      "Processing Record 5 of Set 10 | Necochea\n",
      "Processing Record 6 of Set 10 | Vânători\n",
      "Processing Record 7 of Set 10 | Barcelos\n",
      "Processing Record 8 of Set 10 | San Bartolo\n",
      "Processing Record 9 of Set 10 | Hanstholm\n",
      "Processing Record 10 of Set 10 | Morogoro\n",
      "Processing Record 11 of Set 10 | Kifrī\n",
      "Processing Record 12 of Set 10 | Hudson Bay\n",
      "City not found. Skipping...\n",
      "Processing Record 14 of Set 10 | Alice Springs\n",
      "Processing Record 15 of Set 10 | Klaksvík\n",
      "Processing Record 16 of Set 10 | Lyuban'\n",
      "Processing Record 17 of Set 10 | Khandyga\n",
      "City not found. Skipping...\n",
      "Processing Record 19 of Set 10 | Arrifes\n",
      "Processing Record 20 of Set 10 | Kambove\n",
      "Processing Record 21 of Set 10 | La Santisima Trinidad\n",
      "Processing Record 22 of Set 10 | Pangnirtung\n",
      "City not found. Skipping...\n",
      "Processing Record 24 of Set 10 | Kuril'sk\n",
      "Processing Record 25 of Set 10 | Verkhnyaya Inta\n",
      "Processing Record 26 of Set 10 | Kosh-Agach\n",
      "Processing Record 27 of Set 10 | Cikeruh\n",
      "Processing Record 28 of Set 10 | City of San Pedro\n",
      "Processing Record 29 of Set 10 | Nador\n",
      "Processing Record 30 of Set 10 | Sitka\n",
      "Processing Record 31 of Set 10 | Khani\n",
      "City not found. Skipping...\n",
      "Processing Record 33 of Set 10 | Tautira\n",
      "Processing Record 34 of Set 10 | Sangamner\n",
      "City not found. Skipping...\n",
      "Processing Record 36 of Set 10 | Krasnogorsk\n",
      "Processing Record 37 of Set 10 | Pampas\n",
      "Processing Record 38 of Set 10 | Sedalia\n",
      "Processing Record 39 of Set 10 | Asău\n",
      "Processing Record 40 of Set 10 | Thunder Bay\n",
      "City not found. Skipping...\n",
      "Processing Record 42 of Set 10 | San Cristobal\n",
      "City not found. Skipping...\n",
      "Processing Record 44 of Set 10 | Kargala\n",
      "Processing Record 45 of Set 10 | Kamenka\n",
      "Processing Record 46 of Set 10 | Hernani\n",
      "Processing Record 47 of Set 10 | Havelock\n",
      "Processing Record 48 of Set 10 | San Luis Potosí\n",
      "Processing Record 49 of Set 10 | Kupang\n",
      "Processing Record 50 of Set 10 | Calamar\n",
      "Processing Record 1 of Set 11 | Mizdah\n",
      "Processing Record 2 of Set 11 | San Antonio\n",
      "Processing Record 3 of Set 11 | Ponta Delgada\n",
      "Processing Record 4 of Set 11 | Buta\n",
      "Processing Record 5 of Set 11 | Maple Creek\n",
      "Processing Record 6 of Set 11 | Port Macquarie\n",
      "Processing Record 7 of Set 11 | Ogaminana\n",
      "Processing Record 8 of Set 11 | Cap Malheureux\n",
      "City not found. Skipping...\n",
      "Processing Record 10 of Set 11 | Gidrotorf\n",
      "Processing Record 11 of Set 11 | Khāsh\n",
      "Processing Record 12 of Set 11 | Oddur\n",
      "Processing Record 13 of Set 11 | Banda Aceh\n",
      "Processing Record 14 of Set 11 | Bariloche\n",
      "Processing Record 15 of Set 11 | Ekenäs\n",
      "Processing Record 16 of Set 11 | Lagan\n",
      "Processing Record 17 of Set 11 | Santa Isabel Rio Negro\n",
      "Processing Record 18 of Set 11 | Khor\n",
      "Processing Record 19 of Set 11 | Acaponeta\n",
      "Processing Record 20 of Set 11 | Wamba\n",
      "Processing Record 21 of Set 11 | Claresholm\n",
      "Processing Record 22 of Set 11 | Muli\n",
      "City not found. Skipping...\n",
      "Processing Record 24 of Set 11 | Lufilufi\n",
      "Processing Record 25 of Set 11 | Constitución\n",
      "Processing Record 26 of Set 11 | Wawa\n",
      "Processing Record 27 of Set 11 | Kahului\n",
      "Processing Record 28 of Set 11 | San Miguel\n",
      "City not found. Skipping...\n",
      "Processing Record 30 of Set 11 | Jiujiang\n",
      "City not found. Skipping...\n",
      "Processing Record 32 of Set 11 | Yerköy\n",
      "Processing Record 33 of Set 11 | Chernushka\n",
      "Processing Record 34 of Set 11 | San Buenaventura\n",
      "Processing Record 35 of Set 11 | Kenscoff\n",
      "Processing Record 36 of Set 11 | Gigmoto\n",
      "Processing Record 37 of Set 11 | Albania\n",
      "Processing Record 38 of Set 11 | Koungou\n",
      "Processing Record 39 of Set 11 | Baní\n",
      "Processing Record 40 of Set 11 | Gizo Government Station\n",
      "Processing Record 41 of Set 11 | Laem Sing\n",
      "Processing Record 42 of Set 11 | Kudahuvadhoo\n",
      "Processing Record 43 of Set 11 | Grand Gaube\n",
      "Processing Record 44 of Set 11 | Sibolga\n",
      "Processing Record 45 of Set 11 | San Francisco\n",
      "Processing Record 46 of Set 11 | Nueva Helvecia\n",
      "Processing Record 47 of Set 11 | Nome\n",
      "Processing Record 48 of Set 11 | Kālānwāli\n",
      "City not found. Skipping...\n",
      "Processing Record 50 of Set 11 | Glasgow\n",
      "Processing Record 1 of Set 12 | Leshukonskoye\n",
      "Processing Record 2 of Set 12 | Zhigalovo\n",
      "Processing Record 3 of Set 12 | Vanderhoof\n",
      "Processing Record 4 of Set 12 | Tromsø\n",
      "Processing Record 5 of Set 12 | Āsosa\n",
      "Processing Record 6 of Set 12 | Kununurra\n",
      "Processing Record 7 of Set 12 | Florida\n",
      "Processing Record 8 of Set 12 | Den Helder\n",
      "Processing Record 9 of Set 12 | Ségou\n",
      "Processing Record 10 of Set 12 | Navrongo\n",
      "Processing Record 11 of Set 12 | Los Alamos\n",
      "Processing Record 12 of Set 12 | Sambava\n",
      "Processing Record 13 of Set 12 | Reconquista\n",
      "Processing Record 14 of Set 12 | Altamira\n",
      "Processing Record 15 of Set 12 | Mbalmayo\n",
      "City not found. Skipping...\n",
      "Processing Record 17 of Set 12 | Rome\n",
      "Processing Record 18 of Set 12 | Kuusamo\n",
      "Processing Record 19 of Set 12 | Bilibino\n",
      "Processing Record 20 of Set 12 | Saran\n",
      "Processing Record 21 of Set 12 | Mana\n",
      "Processing Record 22 of Set 12 | Vanimo\n",
      "City not found. Skipping...\n",
      "Processing Record 24 of Set 12 | Dmitriyevskoye\n",
      "Processing Record 25 of Set 12 | Pitimbu\n",
      "Processing Record 26 of Set 12 | Dosso\n",
      "Processing Record 27 of Set 12 | Izazi\n",
      "Processing Record 28 of Set 12 | Saint Anthony\n",
      "Processing Record 29 of Set 12 | Chokurdakh\n",
      "Processing Record 30 of Set 12 | Maricá\n",
      "Processing Record 31 of Set 12 | Catalina\n",
      "Processing Record 32 of Set 12 | Turukhansk\n",
      "Processing Record 33 of Set 12 | Øksfjord\n",
      "Processing Record 34 of Set 12 | Luwuk\n",
      "Processing Record 35 of Set 12 | Fargo\n",
      "Processing Record 36 of Set 12 | Port Shepstone\n",
      "Processing Record 37 of Set 12 | Riverton\n",
      "Processing Record 38 of Set 12 | Sept-Îles\n",
      "Processing Record 39 of Set 12 | Rodolfo Sánchez Taboada\n",
      "Processing Record 40 of Set 12 | Mehamn\n",
      "Processing Record 41 of Set 12 | Kwang Binh\n",
      "Processing Record 42 of Set 12 | Ust-Kuyga\n",
      "Processing Record 43 of Set 12 | Batagay\n",
      "City not found. Skipping...\n",
      "Processing Record 45 of Set 12 | Bogorodskoye\n",
      "Processing Record 46 of Set 12 | Harlingen\n",
      "Processing Record 47 of Set 12 | Lewistown\n",
      "Processing Record 48 of Set 12 | Byron Bay\n",
      "Processing Record 49 of Set 12 | Bhabhua\n",
      "Processing Record 50 of Set 12 | Nizhniy Kuranakh\n",
      "Processing Record 1 of Set 13 | Ābu Road\n",
      "Processing Record 2 of Set 13 | Jega\n",
      "Processing Record 3 of Set 13 | Aitape\n",
      "Processing Record 4 of Set 13 | Gandzak\n",
      "Processing Record 5 of Set 13 | Zhangjiakou\n",
      "Processing Record 6 of Set 13 | Impfondo\n",
      "Processing Record 7 of Set 13 | Okato\n",
      "Processing Record 8 of Set 13 | Suntar\n",
      "Processing Record 9 of Set 13 | Flinders\n",
      "Processing Record 10 of Set 13 | Kirakira\n",
      "Processing Record 11 of Set 13 | Kenai\n"
     ]
    },
    {
     "name": "stdout",
     "output_type": "stream",
     "text": [
      "City not found. Skipping...\n",
      "Processing Record 13 of Set 13 | Piaçabuçu\n",
      "Processing Record 14 of Set 13 | Dalnegorsk\n",
      "Processing Record 15 of Set 13 | Montepuez\n",
      "City not found. Skipping...\n",
      "-----------------------------\n",
      "Data Retrieval Complete\n",
      "-----------------------------\n"
     ]
    }
   ],
   "source": [
    "# Load the data from OpenWeatherMap into city_weather_list\n",
    "print(\"Beginning Data Retrieval\")\n",
    "print(\"-----------------------------\")\n",
    "\n",
    "record_num = 1;\n",
    "set_num = 1;\n",
    "city_weather_list = []\n",
    "for city in cities:\n",
    "    \n",
    "    try:\n",
    "        city_weather_json = get_city_weather(city)     \n",
    "        city_weather = process_weather_json(city_weather_json)\n",
    "        city_name = city_weather[City_Weather_Columns.city]\n",
    "        print(f\"Processing Record {record_num} of Set {set_num} | {city_name}\")\n",
    "        city_weather_list.append(city_weather)\n",
    "    except:\n",
    "        print(\"City not found. Skipping...\")\n",
    "    \n",
    "    # Keep Record Count; Sets of 50\n",
    "    record_num += 1\n",
    "    if(record_num > 50):\n",
    "        set_num += 1\n",
    "        record_num = 1\n",
    "print(\"-----------------------------\")\n",
    "print(\"Data Retrieval Complete\")\n",
    "print(\"-----------------------------\")"
   ]
  },
  {
   "cell_type": "markdown",
   "metadata": {},
   "source": [
    "### Convert Raw Data to DataFrame\n",
    "* Export the city data into a .csv.\n",
    "* Display the DataFrame"
   ]
  },
  {
   "cell_type": "code",
   "execution_count": 6,
   "metadata": {},
   "outputs": [
    {
     "data": {
      "text/plain": [
       "City          563\n",
       "Lat           563\n",
       "Lng           563\n",
       "Max Temp      563\n",
       "Humidity      563\n",
       "Cloudiness    563\n",
       "Wind Speed    563\n",
       "country       563\n",
       "Date          563\n",
       "dtype: int64"
      ]
     },
     "execution_count": 6,
     "metadata": {},
     "output_type": "execute_result"
    }
   ],
   "source": [
    "# Convert to DataFrame\n",
    "city_weather_df = pd.DataFrame(city_weather_list)\n",
    "city_weather_df = city_weather_df.dropna()\n",
    "city_weather_df.count()"
   ]
  },
  {
   "cell_type": "code",
   "execution_count": 7,
   "metadata": {},
   "outputs": [
    {
     "data": {
      "text/html": [
       "<div>\n",
       "<style scoped>\n",
       "    .dataframe tbody tr th:only-of-type {\n",
       "        vertical-align: middle;\n",
       "    }\n",
       "\n",
       "    .dataframe tbody tr th {\n",
       "        vertical-align: top;\n",
       "    }\n",
       "\n",
       "    .dataframe thead th {\n",
       "        text-align: right;\n",
       "    }\n",
       "</style>\n",
       "<table border=\"1\" class=\"dataframe\">\n",
       "  <thead>\n",
       "    <tr style=\"text-align: right;\">\n",
       "      <th></th>\n",
       "      <th>City</th>\n",
       "      <th>Lat</th>\n",
       "      <th>Lng</th>\n",
       "      <th>Max Temp</th>\n",
       "      <th>Humidity</th>\n",
       "      <th>Cloudiness</th>\n",
       "      <th>Wind Speed</th>\n",
       "      <th>country</th>\n",
       "      <th>Date</th>\n",
       "    </tr>\n",
       "  </thead>\n",
       "  <tbody>\n",
       "    <tr>\n",
       "      <th>0</th>\n",
       "      <td>Vardø</td>\n",
       "      <td>70.37</td>\n",
       "      <td>31.11</td>\n",
       "      <td>57.20</td>\n",
       "      <td>93</td>\n",
       "      <td>12</td>\n",
       "      <td>16.11</td>\n",
       "      <td>NO</td>\n",
       "      <td>1595541622</td>\n",
       "    </tr>\n",
       "    <tr>\n",
       "      <th>1</th>\n",
       "      <td>Punta Arenas</td>\n",
       "      <td>-53.15</td>\n",
       "      <td>-70.92</td>\n",
       "      <td>39.20</td>\n",
       "      <td>80</td>\n",
       "      <td>75</td>\n",
       "      <td>16.11</td>\n",
       "      <td>CL</td>\n",
       "      <td>1595541623</td>\n",
       "    </tr>\n",
       "    <tr>\n",
       "      <th>2</th>\n",
       "      <td>Hofn</td>\n",
       "      <td>64.25</td>\n",
       "      <td>-15.21</td>\n",
       "      <td>50.07</td>\n",
       "      <td>70</td>\n",
       "      <td>98</td>\n",
       "      <td>7.07</td>\n",
       "      <td>IS</td>\n",
       "      <td>1595541623</td>\n",
       "    </tr>\n",
       "    <tr>\n",
       "      <th>3</th>\n",
       "      <td>Busselton</td>\n",
       "      <td>-33.65</td>\n",
       "      <td>115.33</td>\n",
       "      <td>42.01</td>\n",
       "      <td>77</td>\n",
       "      <td>0</td>\n",
       "      <td>4.72</td>\n",
       "      <td>AU</td>\n",
       "      <td>1595541612</td>\n",
       "    </tr>\n",
       "    <tr>\n",
       "      <th>4</th>\n",
       "      <td>Fuzhou</td>\n",
       "      <td>26.06</td>\n",
       "      <td>119.31</td>\n",
       "      <td>84.20</td>\n",
       "      <td>79</td>\n",
       "      <td>62</td>\n",
       "      <td>8.95</td>\n",
       "      <td>CN</td>\n",
       "      <td>1595541401</td>\n",
       "    </tr>\n",
       "  </tbody>\n",
       "</table>\n",
       "</div>"
      ],
      "text/plain": [
       "           City    Lat     Lng  Max Temp  Humidity  Cloudiness  Wind Speed  \\\n",
       "0         Vardø  70.37   31.11     57.20        93          12       16.11   \n",
       "1  Punta Arenas -53.15  -70.92     39.20        80          75       16.11   \n",
       "2          Hofn  64.25  -15.21     50.07        70          98        7.07   \n",
       "3     Busselton -33.65  115.33     42.01        77           0        4.72   \n",
       "4        Fuzhou  26.06  119.31     84.20        79          62        8.95   \n",
       "\n",
       "  country        Date  \n",
       "0      NO  1595541622  \n",
       "1      CL  1595541623  \n",
       "2      IS  1595541623  \n",
       "3      AU  1595541612  \n",
       "4      CN  1595541401  "
      ]
     },
     "execution_count": 7,
     "metadata": {},
     "output_type": "execute_result"
    }
   ],
   "source": [
    "city_weather_df.head()"
   ]
  },
  {
   "cell_type": "code",
   "execution_count": 8,
   "metadata": {},
   "outputs": [],
   "source": [
    "# Save to CSV\n",
    "city_weather_df.to_csv(output_data_file)"
   ]
  },
  {
   "cell_type": "markdown",
   "metadata": {},
   "source": [
    "## Inspect the data and remove the cities where the humidity > 100%.\n",
    "----\n",
    "Skip this step if there are no cities that have humidity > 100%. "
   ]
  },
  {
   "cell_type": "code",
   "execution_count": 9,
   "metadata": {},
   "outputs": [
    {
     "data": {
      "text/html": [
       "<div>\n",
       "<style scoped>\n",
       "    .dataframe tbody tr th:only-of-type {\n",
       "        vertical-align: middle;\n",
       "    }\n",
       "\n",
       "    .dataframe tbody tr th {\n",
       "        vertical-align: top;\n",
       "    }\n",
       "\n",
       "    .dataframe thead th {\n",
       "        text-align: right;\n",
       "    }\n",
       "</style>\n",
       "<table border=\"1\" class=\"dataframe\">\n",
       "  <thead>\n",
       "    <tr style=\"text-align: right;\">\n",
       "      <th></th>\n",
       "      <th>Lat</th>\n",
       "      <th>Lng</th>\n",
       "      <th>Max Temp</th>\n",
       "      <th>Humidity</th>\n",
       "      <th>Cloudiness</th>\n",
       "      <th>Wind Speed</th>\n",
       "      <th>Date</th>\n",
       "    </tr>\n",
       "  </thead>\n",
       "  <tbody>\n",
       "    <tr>\n",
       "      <th>count</th>\n",
       "      <td>563.000000</td>\n",
       "      <td>563.000000</td>\n",
       "      <td>563.000000</td>\n",
       "      <td>563.000000</td>\n",
       "      <td>563.000000</td>\n",
       "      <td>563.000000</td>\n",
       "      <td>5.630000e+02</td>\n",
       "    </tr>\n",
       "    <tr>\n",
       "      <th>mean</th>\n",
       "      <td>20.926465</td>\n",
       "      <td>18.473819</td>\n",
       "      <td>68.485187</td>\n",
       "      <td>72.444050</td>\n",
       "      <td>51.071048</td>\n",
       "      <td>7.604192</td>\n",
       "      <td>1.595542e+09</td>\n",
       "    </tr>\n",
       "    <tr>\n",
       "      <th>std</th>\n",
       "      <td>33.131343</td>\n",
       "      <td>89.038475</td>\n",
       "      <td>14.601254</td>\n",
       "      <td>18.654328</td>\n",
       "      <td>38.174379</td>\n",
       "      <td>5.170210</td>\n",
       "      <td>6.201352e+01</td>\n",
       "    </tr>\n",
       "    <tr>\n",
       "      <th>min</th>\n",
       "      <td>-54.800000</td>\n",
       "      <td>-175.200000</td>\n",
       "      <td>24.800000</td>\n",
       "      <td>12.000000</td>\n",
       "      <td>0.000000</td>\n",
       "      <td>0.270000</td>\n",
       "      <td>1.595541e+09</td>\n",
       "    </tr>\n",
       "    <tr>\n",
       "      <th>25%</th>\n",
       "      <td>-4.035000</td>\n",
       "      <td>-62.375000</td>\n",
       "      <td>57.200000</td>\n",
       "      <td>62.000000</td>\n",
       "      <td>7.000000</td>\n",
       "      <td>3.800000</td>\n",
       "      <td>1.595542e+09</td>\n",
       "    </tr>\n",
       "    <tr>\n",
       "      <th>50%</th>\n",
       "      <td>25.050000</td>\n",
       "      <td>25.570000</td>\n",
       "      <td>70.290000</td>\n",
       "      <td>76.000000</td>\n",
       "      <td>58.000000</td>\n",
       "      <td>6.490000</td>\n",
       "      <td>1.595542e+09</td>\n",
       "    </tr>\n",
       "    <tr>\n",
       "      <th>75%</th>\n",
       "      <td>48.810000</td>\n",
       "      <td>92.070000</td>\n",
       "      <td>79.495000</td>\n",
       "      <td>87.000000</td>\n",
       "      <td>88.000000</td>\n",
       "      <td>10.170000</td>\n",
       "      <td>1.595542e+09</td>\n",
       "    </tr>\n",
       "    <tr>\n",
       "      <th>max</th>\n",
       "      <td>78.220000</td>\n",
       "      <td>178.420000</td>\n",
       "      <td>100.000000</td>\n",
       "      <td>100.000000</td>\n",
       "      <td>100.000000</td>\n",
       "      <td>29.970000</td>\n",
       "      <td>1.595542e+09</td>\n",
       "    </tr>\n",
       "  </tbody>\n",
       "</table>\n",
       "</div>"
      ],
      "text/plain": [
       "              Lat         Lng    Max Temp    Humidity  Cloudiness  Wind Speed  \\\n",
       "count  563.000000  563.000000  563.000000  563.000000  563.000000  563.000000   \n",
       "mean    20.926465   18.473819   68.485187   72.444050   51.071048    7.604192   \n",
       "std     33.131343   89.038475   14.601254   18.654328   38.174379    5.170210   \n",
       "min    -54.800000 -175.200000   24.800000   12.000000    0.000000    0.270000   \n",
       "25%     -4.035000  -62.375000   57.200000   62.000000    7.000000    3.800000   \n",
       "50%     25.050000   25.570000   70.290000   76.000000   58.000000    6.490000   \n",
       "75%     48.810000   92.070000   79.495000   87.000000   88.000000   10.170000   \n",
       "max     78.220000  178.420000  100.000000  100.000000  100.000000   29.970000   \n",
       "\n",
       "               Date  \n",
       "count  5.630000e+02  \n",
       "mean   1.595542e+09  \n",
       "std    6.201352e+01  \n",
       "min    1.595541e+09  \n",
       "25%    1.595542e+09  \n",
       "50%    1.595542e+09  \n",
       "75%    1.595542e+09  \n",
       "max    1.595542e+09  "
      ]
     },
     "execution_count": 9,
     "metadata": {},
     "output_type": "execute_result"
    }
   ],
   "source": [
    "city_weather_df.describe()"
   ]
  },
  {
   "cell_type": "code",
   "execution_count": 10,
   "metadata": {},
   "outputs": [
    {
     "data": {
      "text/plain": [
       "Int64Index([], dtype='int64')"
      ]
     },
     "execution_count": 10,
     "metadata": {},
     "output_type": "execute_result"
    }
   ],
   "source": [
    "#  Get the indices of cities that have humidity over 100%.\n",
    "over_100_humid = city_weather_df.loc[city_weather_df[City_Weather_Columns.humidity] > 100].index\n",
    "over_100_humid"
   ]
  },
  {
   "cell_type": "code",
   "execution_count": 11,
   "metadata": {},
   "outputs": [
    {
     "data": {
      "text/html": [
       "<div>\n",
       "<style scoped>\n",
       "    .dataframe tbody tr th:only-of-type {\n",
       "        vertical-align: middle;\n",
       "    }\n",
       "\n",
       "    .dataframe tbody tr th {\n",
       "        vertical-align: top;\n",
       "    }\n",
       "\n",
       "    .dataframe thead th {\n",
       "        text-align: right;\n",
       "    }\n",
       "</style>\n",
       "<table border=\"1\" class=\"dataframe\">\n",
       "  <thead>\n",
       "    <tr style=\"text-align: right;\">\n",
       "      <th></th>\n",
       "      <th>Lat</th>\n",
       "      <th>Lng</th>\n",
       "      <th>Max Temp</th>\n",
       "      <th>Humidity</th>\n",
       "      <th>Cloudiness</th>\n",
       "      <th>Wind Speed</th>\n",
       "      <th>Date</th>\n",
       "    </tr>\n",
       "  </thead>\n",
       "  <tbody>\n",
       "    <tr>\n",
       "      <th>count</th>\n",
       "      <td>563.000000</td>\n",
       "      <td>563.000000</td>\n",
       "      <td>563.000000</td>\n",
       "      <td>563.000000</td>\n",
       "      <td>563.000000</td>\n",
       "      <td>563.000000</td>\n",
       "      <td>5.630000e+02</td>\n",
       "    </tr>\n",
       "    <tr>\n",
       "      <th>mean</th>\n",
       "      <td>20.926465</td>\n",
       "      <td>18.473819</td>\n",
       "      <td>68.485187</td>\n",
       "      <td>72.444050</td>\n",
       "      <td>51.071048</td>\n",
       "      <td>7.604192</td>\n",
       "      <td>1.595542e+09</td>\n",
       "    </tr>\n",
       "    <tr>\n",
       "      <th>std</th>\n",
       "      <td>33.131343</td>\n",
       "      <td>89.038475</td>\n",
       "      <td>14.601254</td>\n",
       "      <td>18.654328</td>\n",
       "      <td>38.174379</td>\n",
       "      <td>5.170210</td>\n",
       "      <td>6.201352e+01</td>\n",
       "    </tr>\n",
       "    <tr>\n",
       "      <th>min</th>\n",
       "      <td>-54.800000</td>\n",
       "      <td>-175.200000</td>\n",
       "      <td>24.800000</td>\n",
       "      <td>12.000000</td>\n",
       "      <td>0.000000</td>\n",
       "      <td>0.270000</td>\n",
       "      <td>1.595541e+09</td>\n",
       "    </tr>\n",
       "    <tr>\n",
       "      <th>25%</th>\n",
       "      <td>-4.035000</td>\n",
       "      <td>-62.375000</td>\n",
       "      <td>57.200000</td>\n",
       "      <td>62.000000</td>\n",
       "      <td>7.000000</td>\n",
       "      <td>3.800000</td>\n",
       "      <td>1.595542e+09</td>\n",
       "    </tr>\n",
       "    <tr>\n",
       "      <th>50%</th>\n",
       "      <td>25.050000</td>\n",
       "      <td>25.570000</td>\n",
       "      <td>70.290000</td>\n",
       "      <td>76.000000</td>\n",
       "      <td>58.000000</td>\n",
       "      <td>6.490000</td>\n",
       "      <td>1.595542e+09</td>\n",
       "    </tr>\n",
       "    <tr>\n",
       "      <th>75%</th>\n",
       "      <td>48.810000</td>\n",
       "      <td>92.070000</td>\n",
       "      <td>79.495000</td>\n",
       "      <td>87.000000</td>\n",
       "      <td>88.000000</td>\n",
       "      <td>10.170000</td>\n",
       "      <td>1.595542e+09</td>\n",
       "    </tr>\n",
       "    <tr>\n",
       "      <th>max</th>\n",
       "      <td>78.220000</td>\n",
       "      <td>178.420000</td>\n",
       "      <td>100.000000</td>\n",
       "      <td>100.000000</td>\n",
       "      <td>100.000000</td>\n",
       "      <td>29.970000</td>\n",
       "      <td>1.595542e+09</td>\n",
       "    </tr>\n",
       "  </tbody>\n",
       "</table>\n",
       "</div>"
      ],
      "text/plain": [
       "              Lat         Lng    Max Temp    Humidity  Cloudiness  Wind Speed  \\\n",
       "count  563.000000  563.000000  563.000000  563.000000  563.000000  563.000000   \n",
       "mean    20.926465   18.473819   68.485187   72.444050   51.071048    7.604192   \n",
       "std     33.131343   89.038475   14.601254   18.654328   38.174379    5.170210   \n",
       "min    -54.800000 -175.200000   24.800000   12.000000    0.000000    0.270000   \n",
       "25%     -4.035000  -62.375000   57.200000   62.000000    7.000000    3.800000   \n",
       "50%     25.050000   25.570000   70.290000   76.000000   58.000000    6.490000   \n",
       "75%     48.810000   92.070000   79.495000   87.000000   88.000000   10.170000   \n",
       "max     78.220000  178.420000  100.000000  100.000000  100.000000   29.970000   \n",
       "\n",
       "               Date  \n",
       "count  5.630000e+02  \n",
       "mean   1.595542e+09  \n",
       "std    6.201352e+01  \n",
       "min    1.595541e+09  \n",
       "25%    1.595542e+09  \n",
       "50%    1.595542e+09  \n",
       "75%    1.595542e+09  \n",
       "max    1.595542e+09  "
      ]
     },
     "execution_count": 11,
     "metadata": {},
     "output_type": "execute_result"
    }
   ],
   "source": [
    "# Make a new DataFrame equal to the city data to drop all humidity outliers by index.\n",
    "# Passing \"inplace=False\" will make a copy of the city_data DataFrame, which we call \"clean_city_data\".\n",
    "clean_city_data = city_weather_df.drop(over_100_humid)\n",
    "clean_city_data.describe()"
   ]
  },
  {
   "cell_type": "code",
   "execution_count": 12,
   "metadata": {},
   "outputs": [
    {
     "data": {
      "text/html": [
       "<div>\n",
       "<style scoped>\n",
       "    .dataframe tbody tr th:only-of-type {\n",
       "        vertical-align: middle;\n",
       "    }\n",
       "\n",
       "    .dataframe tbody tr th {\n",
       "        vertical-align: top;\n",
       "    }\n",
       "\n",
       "    .dataframe thead th {\n",
       "        text-align: right;\n",
       "    }\n",
       "</style>\n",
       "<table border=\"1\" class=\"dataframe\">\n",
       "  <thead>\n",
       "    <tr style=\"text-align: right;\">\n",
       "      <th></th>\n",
       "      <th>Lat</th>\n",
       "      <th>Lng</th>\n",
       "      <th>Max Temp</th>\n",
       "      <th>Humidity</th>\n",
       "      <th>Cloudiness</th>\n",
       "      <th>Wind Speed</th>\n",
       "    </tr>\n",
       "  </thead>\n",
       "  <tbody>\n",
       "    <tr>\n",
       "      <th>0</th>\n",
       "      <td>70.37</td>\n",
       "      <td>31.11</td>\n",
       "      <td>57.20</td>\n",
       "      <td>93</td>\n",
       "      <td>12</td>\n",
       "      <td>16.11</td>\n",
       "    </tr>\n",
       "    <tr>\n",
       "      <th>1</th>\n",
       "      <td>-53.15</td>\n",
       "      <td>-70.92</td>\n",
       "      <td>39.20</td>\n",
       "      <td>80</td>\n",
       "      <td>75</td>\n",
       "      <td>16.11</td>\n",
       "    </tr>\n",
       "    <tr>\n",
       "      <th>2</th>\n",
       "      <td>64.25</td>\n",
       "      <td>-15.21</td>\n",
       "      <td>50.07</td>\n",
       "      <td>70</td>\n",
       "      <td>98</td>\n",
       "      <td>7.07</td>\n",
       "    </tr>\n",
       "    <tr>\n",
       "      <th>3</th>\n",
       "      <td>-33.65</td>\n",
       "      <td>115.33</td>\n",
       "      <td>42.01</td>\n",
       "      <td>77</td>\n",
       "      <td>0</td>\n",
       "      <td>4.72</td>\n",
       "    </tr>\n",
       "    <tr>\n",
       "      <th>4</th>\n",
       "      <td>26.06</td>\n",
       "      <td>119.31</td>\n",
       "      <td>84.20</td>\n",
       "      <td>79</td>\n",
       "      <td>62</td>\n",
       "      <td>8.95</td>\n",
       "    </tr>\n",
       "  </tbody>\n",
       "</table>\n",
       "</div>"
      ],
      "text/plain": [
       "     Lat     Lng  Max Temp  Humidity  Cloudiness  Wind Speed\n",
       "0  70.37   31.11     57.20        93          12       16.11\n",
       "1 -53.15  -70.92     39.20        80          75       16.11\n",
       "2  64.25  -15.21     50.07        70          98        7.07\n",
       "3 -33.65  115.33     42.01        77           0        4.72\n",
       "4  26.06  119.31     84.20        79          62        8.95"
      ]
     },
     "execution_count": 12,
     "metadata": {},
     "output_type": "execute_result"
    }
   ],
   "source": [
    "# Extract relevant fields from the data frame\n",
    "final_columns = [City_Weather_Columns.lat, \n",
    "                 City_Weather_Columns.lng,\n",
    "                 City_Weather_Columns.max_temp, \n",
    "                 City_Weather_Columns.humidity, \n",
    "                 City_Weather_Columns.cloudiness,\n",
    "                 City_Weather_Columns.wind_speed]\n",
    "final_city_data = clean_city_data[final_columns]\n",
    "final_city_data.head()"
   ]
  },
  {
   "cell_type": "code",
   "execution_count": 13,
   "metadata": {},
   "outputs": [],
   "source": [
    "# Export the City_Data into a csv\n",
    "final_city_data.to_csv(output_data_file, index=False)"
   ]
  },
  {
   "cell_type": "markdown",
   "metadata": {},
   "source": [
    "## Plotting the Data\n",
    "* Use proper labeling of the plots using plot titles (including date of analysis) and axes labels.\n",
    "* Save the plotted figures as .pngs."
   ]
  },
  {
   "cell_type": "markdown",
   "metadata": {},
   "source": [
    "## Latitude vs. Temperature Plot"
   ]
  },
  {
   "cell_type": "code",
   "execution_count": 14,
   "metadata": {},
   "outputs": [],
   "source": [
    "def savefig(filename):\n",
    "    plt.savefig(f\"images/{filename}.png\")"
   ]
  },
  {
   "cell_type": "code",
   "execution_count": 15,
   "metadata": {
    "scrolled": true
   },
   "outputs": [
    {
     "data": {
      "image/png": "[encoded data removed]",
      "text/plain": [
       "<Figure size 432x288 with 1 Axes>"
      ]
     },
     "metadata": {
      "needs_background": "light"
     },
     "output_type": "display_data"
    }
   ],
   "source": [
    "def plot_lat_v_temp(df):\n",
    "    plot = df.plot(kind=\"scatter\", \\\n",
    "            x = City_Weather_Columns.lat, y = City_Weather_Columns.max_temp)\n",
    "    plt.title(\"Latitude vs Maximum Temperature\")\n",
    "    plt.ylabel(\"Max Temp (F)\")\n",
    "    plt.xlabel(\"Latitude\")\n",
    "\n",
    "plot_lat_v_temp(final_city_data)\n",
    "plt.tight_layout()\n",
    "savefig(\"lat_v_temp\")\n",
    "plt.show()"
   ]
  },
  {
   "cell_type": "markdown",
   "metadata": {},
   "source": [
    "## Latitude vs. Humidity Plot"
   ]
  },
  {
   "cell_type": "code",
   "execution_count": 16,
   "metadata": {},
   "outputs": [
    {
     "data": {
      "image/png": "[encoded data removed]",
      "text/plain": [
       "<Figure size 432x288 with 1 Axes>"
      ]
     },
     "metadata": {
      "needs_background": "light"
     },
     "output_type": "display_data"
    }
   ],
   "source": [
    "def plot_lat_v_humid(df):\n",
    "    plot = df.plot(kind=\"scatter\", \\\n",
    "            x = City_Weather_Columns.lat, y = City_Weather_Columns.humidity)\n",
    "    plt.title(\"Latitude vs Humidity\")\n",
    "    plt.ylabel(\"Humidity (%)\")\n",
    "    plt.xlabel(\"Latitude\")\n",
    "\n",
    "plot_lat_v_humid(final_city_data)\n",
    "plt.tight_layout()\n",
    "savefig(\"lat_v_humid\")\n",
    "plt.show()"
   ]
  },
  {
   "cell_type": "markdown",
   "metadata": {},
   "source": [
    "## Latitude vs. Cloudiness Plot"
   ]
  },
  {
   "cell_type": "code",
   "execution_count": 17,
   "metadata": {},
   "outputs": [
    {
     "data": {
      "image/png": "[encoded data removed]",
      "text/plain": [
       "<Figure size 432x288 with 1 Axes>"
      ]
     },
     "metadata": {
      "needs_background": "light"
     },
     "output_type": "display_data"
    }
   ],
   "source": [
    "def plot_lat_v_cloud(df):\n",
    "    plot = df.plot(kind=\"scatter\", \\\n",
    "            x = City_Weather_Columns.lat, y = City_Weather_Columns.cloudiness)\n",
    "    plt.title(\"Latitude vs Cloudiness\")\n",
    "    plt.ylabel(\"Cloudiness (%)\")\n",
    "    plt.xlabel(\"Latitude\")\n",
    "\n",
    "plot_lat_v_cloud(final_city_data)\n",
    "plt.tight_layout()\n",
    "savefig(\"lat_v_cloud\")\n",
    "plt.show()"
   ]
  },
  {
   "cell_type": "markdown",
   "metadata": {},
   "source": [
    "## Latitude vs. Wind Speed Plot"
   ]
  },
  {
   "cell_type": "code",
   "execution_count": 18,
   "metadata": {},
   "outputs": [
    {
     "data": {
      "image/png": "[encoded data removed]",
      "text/plain": [
       "<Figure size 432x288 with 1 Axes>"
      ]
     },
     "metadata": {
      "needs_background": "light"
     },
     "output_type": "display_data"
    }
   ],
   "source": [
    "def plot_lat_v_wind(df):\n",
    "    df.plot(kind=\"scatter\", \\\n",
    "            x = City_Weather_Columns.lat, y = City_Weather_Columns.wind_speed)\n",
    "    plt.title(\"Latitude vs Wind Speed\")\n",
    "    plt.ylabel(\"Wind Speed (mph)\")\n",
    "    plt.xlabel(\"Latitude\")\n",
    "\n",
    "plot_lat_v_wind(final_city_data)\n",
    "plt.tight_layout()\n",
    "savefig(\"lat_v_wind\")\n",
    "plt.show()"
   ]
  },
  {
   "cell_type": "markdown",
   "metadata": {},
   "source": [
    "## Linear Regression"
   ]
  },
  {
   "cell_type": "code",
   "execution_count": 19,
   "metadata": {},
   "outputs": [],
   "source": [
    "# OPTIONAL: Create a function to create Linear Regression plots\n",
    "def plot_lin_reg(dataframe, x_col, y_col):\n",
    "    x_values = dataframe[x_col]\n",
    "    y_values = dataframe[y_col]\n",
    "    (slope, intercept, rvalue, pvalue, stderr) = linregress(x_values, y_values)\n",
    "    regress_values = x_values * slope + intercept\n",
    "    equation = \"y = \" + str(round(slope,2)) + \"x + \" + str(round(intercept,2))\n",
    "    regress_plot, = plt.plot(x_values, regress_values, \"r-\", label=equation)\n",
    "    plt.legend(handles=[regress_plot], loc=\"best\")\n",
    "    print(f\"The r-squared value is {rvalue * rvalue}\")"
   ]
  },
  {
   "cell_type": "code",
   "execution_count": 20,
   "metadata": {},
   "outputs": [
    {
     "data": {
      "text/html": [
       "<div>\n",
       "<style scoped>\n",
       "    .dataframe tbody tr th:only-of-type {\n",
       "        vertical-align: middle;\n",
       "    }\n",
       "\n",
       "    .dataframe tbody tr th {\n",
       "        vertical-align: top;\n",
       "    }\n",
       "\n",
       "    .dataframe thead th {\n",
       "        text-align: right;\n",
       "    }\n",
       "</style>\n",
       "<table border=\"1\" class=\"dataframe\">\n",
       "  <thead>\n",
       "    <tr style=\"text-align: right;\">\n",
       "      <th></th>\n",
       "      <th>Lat</th>\n",
       "      <th>Lng</th>\n",
       "      <th>Max Temp</th>\n",
       "      <th>Humidity</th>\n",
       "      <th>Cloudiness</th>\n",
       "      <th>Wind Speed</th>\n",
       "    </tr>\n",
       "  </thead>\n",
       "  <tbody>\n",
       "    <tr>\n",
       "      <th>0</th>\n",
       "      <td>70.37</td>\n",
       "      <td>31.11</td>\n",
       "      <td>57.20</td>\n",
       "      <td>93</td>\n",
       "      <td>12</td>\n",
       "      <td>16.11</td>\n",
       "    </tr>\n",
       "    <tr>\n",
       "      <th>2</th>\n",
       "      <td>64.25</td>\n",
       "      <td>-15.21</td>\n",
       "      <td>50.07</td>\n",
       "      <td>70</td>\n",
       "      <td>98</td>\n",
       "      <td>7.07</td>\n",
       "    </tr>\n",
       "    <tr>\n",
       "      <th>4</th>\n",
       "      <td>26.06</td>\n",
       "      <td>119.31</td>\n",
       "      <td>84.20</td>\n",
       "      <td>79</td>\n",
       "      <td>62</td>\n",
       "      <td>8.95</td>\n",
       "    </tr>\n",
       "    <tr>\n",
       "      <th>5</th>\n",
       "      <td>36.62</td>\n",
       "      <td>-121.92</td>\n",
       "      <td>70.00</td>\n",
       "      <td>60</td>\n",
       "      <td>40</td>\n",
       "      <td>9.17</td>\n",
       "    </tr>\n",
       "    <tr>\n",
       "      <th>6</th>\n",
       "      <td>22.60</td>\n",
       "      <td>80.38</td>\n",
       "      <td>73.02</td>\n",
       "      <td>95</td>\n",
       "      <td>81</td>\n",
       "      <td>3.65</td>\n",
       "    </tr>\n",
       "  </tbody>\n",
       "</table>\n",
       "</div>"
      ],
      "text/plain": [
       "     Lat     Lng  Max Temp  Humidity  Cloudiness  Wind Speed\n",
       "0  70.37   31.11     57.20        93          12       16.11\n",
       "2  64.25  -15.21     50.07        70          98        7.07\n",
       "4  26.06  119.31     84.20        79          62        8.95\n",
       "5  36.62 -121.92     70.00        60          40        9.17\n",
       "6  22.60   80.38     73.02        95          81        3.65"
      ]
     },
     "execution_count": 20,
     "metadata": {},
     "output_type": "execute_result"
    }
   ],
   "source": [
    "# Create Northern and Southern Hemisphere DataFrames\n",
    "north_df = final_city_data.loc[final_city_data[City_Weather_Columns.lat] >= 0]\n",
    "north_df.head()"
   ]
  },
  {
   "cell_type": "code",
   "execution_count": 21,
   "metadata": {},
   "outputs": [
    {
     "data": {
      "text/html": [
       "<div>\n",
       "<style scoped>\n",
       "    .dataframe tbody tr th:only-of-type {\n",
       "        vertical-align: middle;\n",
       "    }\n",
       "\n",
       "    .dataframe tbody tr th {\n",
       "        vertical-align: top;\n",
       "    }\n",
       "\n",
       "    .dataframe thead th {\n",
       "        text-align: right;\n",
       "    }\n",
       "</style>\n",
       "<table border=\"1\" class=\"dataframe\">\n",
       "  <thead>\n",
       "    <tr style=\"text-align: right;\">\n",
       "      <th></th>\n",
       "      <th>Lat</th>\n",
       "      <th>Lng</th>\n",
       "      <th>Max Temp</th>\n",
       "      <th>Humidity</th>\n",
       "      <th>Cloudiness</th>\n",
       "      <th>Wind Speed</th>\n",
       "    </tr>\n",
       "  </thead>\n",
       "  <tbody>\n",
       "    <tr>\n",
       "      <th>1</th>\n",
       "      <td>-53.15</td>\n",
       "      <td>-70.92</td>\n",
       "      <td>39.20</td>\n",
       "      <td>80</td>\n",
       "      <td>75</td>\n",
       "      <td>16.11</td>\n",
       "    </tr>\n",
       "    <tr>\n",
       "      <th>3</th>\n",
       "      <td>-33.65</td>\n",
       "      <td>115.33</td>\n",
       "      <td>42.01</td>\n",
       "      <td>77</td>\n",
       "      <td>0</td>\n",
       "      <td>4.72</td>\n",
       "    </tr>\n",
       "    <tr>\n",
       "      <th>9</th>\n",
       "      <td>-3.42</td>\n",
       "      <td>114.85</td>\n",
       "      <td>75.20</td>\n",
       "      <td>100</td>\n",
       "      <td>40</td>\n",
       "      <td>1.12</td>\n",
       "    </tr>\n",
       "    <tr>\n",
       "      <th>11</th>\n",
       "      <td>-21.20</td>\n",
       "      <td>-175.20</td>\n",
       "      <td>69.80</td>\n",
       "      <td>94</td>\n",
       "      <td>75</td>\n",
       "      <td>5.82</td>\n",
       "    </tr>\n",
       "    <tr>\n",
       "      <th>12</th>\n",
       "      <td>-33.87</td>\n",
       "      <td>121.90</td>\n",
       "      <td>46.40</td>\n",
       "      <td>87</td>\n",
       "      <td>75</td>\n",
       "      <td>4.70</td>\n",
       "    </tr>\n",
       "  </tbody>\n",
       "</table>\n",
       "</div>"
      ],
      "text/plain": [
       "      Lat     Lng  Max Temp  Humidity  Cloudiness  Wind Speed\n",
       "1  -53.15  -70.92     39.20        80          75       16.11\n",
       "3  -33.65  115.33     42.01        77           0        4.72\n",
       "9   -3.42  114.85     75.20       100          40        1.12\n",
       "11 -21.20 -175.20     69.80        94          75        5.82\n",
       "12 -33.87  121.90     46.40        87          75        4.70"
      ]
     },
     "execution_count": 21,
     "metadata": {},
     "output_type": "execute_result"
    }
   ],
   "source": [
    "south_df = final_city_data.loc[final_city_data[City_Weather_Columns.lat] < 0]\n",
    "south_df.head()"
   ]
  },
  {
   "cell_type": "markdown",
   "metadata": {},
   "source": [
    "####  Northern Hemisphere - Max Temp vs. Latitude Linear Regression"
   ]
  },
  {
   "cell_type": "code",
   "execution_count": 22,
   "metadata": {},
   "outputs": [
    {
     "name": "stdout",
     "output_type": "stream",
     "text": [
      "The r-squared value is 0.48563170339038547\n"
     ]
    },
    {
     "data": {
      "image/png": "[encoded data removed]",
      "text/plain": [
       "<Figure size 432x288 with 1 Axes>"
      ]
     },
     "metadata": {
      "needs_background": "light"
     },
     "output_type": "display_data"
    }
   ],
   "source": [
    "plot_lat_v_temp(north_df)\n",
    "plot_lin_reg(north_df, City_Weather_Columns.lat, City_Weather_Columns.max_temp)\n",
    "plt.tight_layout()\n",
    "savefig(\"north_lat_v_temp\")\n",
    "plt.show()"
   ]
  },
  {
   "cell_type": "markdown",
   "metadata": {},
   "source": [
    "####  Southern Hemisphere - Max Temp vs. Latitude Linear Regression"
   ]
  },
  {
   "cell_type": "code",
   "execution_count": 23,
   "metadata": {},
   "outputs": [
    {
     "name": "stdout",
     "output_type": "stream",
     "text": [
      "The r-squared value is 0.6599733290822962\n"
     ]
    },
    {
     "data": {
      "image/png": "[encoded data removed]",
      "text/plain": [
       "<Figure size 432x288 with 1 Axes>"
      ]
     },
     "metadata": {
      "needs_background": "light"
     },
     "output_type": "display_data"
    }
   ],
   "source": [
    "plot_lat_v_temp(south_df)\n",
    "plot_lin_reg(south_df, City_Weather_Columns.lat, City_Weather_Columns.max_temp)\n",
    "plt.tight_layout()\n",
    "savefig(\"south_lat_v_temp\")\n",
    "plt.show()"
   ]
  },
  {
   "cell_type": "markdown",
   "metadata": {},
   "source": [
    "####  Northern Hemisphere - Humidity (%) vs. Latitude Linear Regression"
   ]
  },
  {
   "cell_type": "code",
   "execution_count": 24,
   "metadata": {},
   "outputs": [
    {
     "name": "stdout",
     "output_type": "stream",
     "text": [
      "The r-squared value is 7.414696139305058e-05\n"
     ]
    },
    {
     "data": {
      "image/png": "[encoded data removed]",
      "text/plain": [
       "<Figure size 432x288 with 1 Axes>"
      ]
     },
     "metadata": {
      "needs_background": "light"
     },
     "output_type": "display_data"
    }
   ],
   "source": [
    "plot_lat_v_humid(north_df)\n",
    "plot_lin_reg(north_df, City_Weather_Columns.lat, City_Weather_Columns.humidity)\n",
    "plt.tight_layout()\n",
    "savefig(\"north_lat_v_humid\")\n",
    "plt.show()"
   ]
  },
  {
   "cell_type": "markdown",
   "metadata": {},
   "source": [
    "####  Southern Hemisphere - Humidity (%) vs. Latitude Linear Regression"
   ]
  },
  {
   "cell_type": "code",
   "execution_count": 25,
   "metadata": {},
   "outputs": [
    {
     "name": "stdout",
     "output_type": "stream",
     "text": [
      "The r-squared value is 0.00028509282698231604\n"
     ]
    },
    {
     "data": {
      "image/png": "[encoded data removed]",
      "text/plain": [
       "<Figure size 432x288 with 1 Axes>"
      ]
     },
     "metadata": {
      "needs_background": "light"
     },
     "output_type": "display_data"
    }
   ],
   "source": [
    "plot_lat_v_humid(south_df)\n",
    "plot_lin_reg(south_df, City_Weather_Columns.lat, City_Weather_Columns.humidity)\n",
    "plt.tight_layout()\n",
    "savefig(\"south_lat_v_humid\")\n",
    "plt.show()"
   ]
  },
  {
   "cell_type": "markdown",
   "metadata": {},
   "source": [
    "####  Northern Hemisphere - Cloudiness (%) vs. Latitude Linear Regression"
   ]
  },
  {
   "cell_type": "code",
   "execution_count": 26,
   "metadata": {},
   "outputs": [
    {
     "name": "stdout",
     "output_type": "stream",
     "text": [
      "The r-squared value is 0.009272932876234798\n"
     ]
    },
    {
     "data": {
      "image/png": "[encoded data removed]",
      "text/plain": [
       "<Figure size 432x288 with 1 Axes>"
      ]
     },
     "metadata": {
      "needs_background": "light"
     },
     "output_type": "display_data"
    }
   ],
   "source": [
    "plot_lat_v_cloud(north_df)\n",
    "plot_lin_reg(north_df, City_Weather_Columns.lat, City_Weather_Columns.cloudiness)\n",
    "plt.tight_layout()\n",
    "savefig(\"north_lat_v_cloud\")\n",
    "plt.show()"
   ]
  },
  {
   "cell_type": "markdown",
   "metadata": {},
   "source": [
    "####  Southern Hemisphere - Cloudiness (%) vs. Latitude Linear Regression"
   ]
  },
  {
   "cell_type": "code",
   "execution_count": 27,
   "metadata": {},
   "outputs": [
    {
     "name": "stdout",
     "output_type": "stream",
     "text": [
      "The r-squared value is 0.0016129352951382138\n"
     ]
    },
    {
     "data": {
      "image/png": "[encoded data removed]",
      "text/plain": [
       "<Figure size 432x288 with 1 Axes>"
      ]
     },
     "metadata": {
      "needs_background": "light"
     },
     "output_type": "display_data"
    }
   ],
   "source": [
    "plot_lat_v_cloud(south_df)\n",
    "plot_lin_reg(south_df, City_Weather_Columns.lat, City_Weather_Columns.cloudiness)\n",
    "plt.tight_layout()\n",
    "savefig(\"south_lat_v_cloud\")\n",
    "plt.show()"
   ]
  },
  {
   "cell_type": "markdown",
   "metadata": {},
   "source": [
    "####  Northern Hemisphere - Wind Speed (mph) vs. Latitude Linear Regression"
   ]
  },
  {
   "cell_type": "code",
   "execution_count": 28,
   "metadata": {},
   "outputs": [
    {
     "name": "stdout",
     "output_type": "stream",
     "text": [
      "The r-squared value is 0.006209456694655463\n"
     ]
    },
    {
     "data": {
      "image/png": "[encoded data removed]",
      "text/plain": [
       "<Figure size 432x288 with 1 Axes>"
      ]
     },
     "metadata": {
      "needs_background": "light"
     },
     "output_type": "display_data"
    }
   ],
   "source": [
    "plot_lat_v_wind(north_df)\n",
    "plot_lin_reg(north_df, City_Weather_Columns.lat, City_Weather_Columns.wind_speed)\n",
    "plt.tight_layout()\n",
    "savefig(\"north_lat_v_wind\")\n",
    "plt.show()"
   ]
  },
  {
   "cell_type": "markdown",
   "metadata": {},
   "source": [
    "####  Southern Hemisphere - Wind Speed (mph) vs. Latitude Linear Regression"
   ]
  },
  {
   "cell_type": "code",
   "execution_count": 29,
   "metadata": {},
   "outputs": [
    {
     "name": "stdout",
     "output_type": "stream",
     "text": [
      "The r-squared value is 0.0065832266965211725\n"
     ]
    },
    {
     "data": {
      "image/png": "[encoded data removed]",
      "text/plain": [
       "<Figure size 432x288 with 1 Axes>"
      ]
     },
     "metadata": {
      "needs_background": "light"
     },
     "output_type": "display_data"
    }
   ],
   "source": [
    "plot_lat_v_wind(south_df)\n",
    "plot_lin_reg(south_df, City_Weather_Columns.lat, City_Weather_Columns.wind_speed)\n",
    "plt.tight_layout()\n",
    "savefig(\"south_lat_v_wind\")\n",
    "plt.show()"
   ]
  },
  {
   "cell_type": "code",
   "execution_count": null,
   "metadata": {},
   "outputs": [],
   "source": []
  }
 ],
 "metadata": {
  "anaconda-cloud": {},
  "kernel_info": {
   "name": "python3"
  },
  "kernelspec": {
   "display_name": "Python 3",
   "language": "python",
   "name": "python3"
  },
  "language_info": {
   "codemirror_mode": {
    "name": "ipython",
    "version": 3
   },
   "file_extension": ".py",
   "mimetype": "text/x-python",
   "name": "python",
   "nbconvert_exporter": "python",
   "pygments_lexer": "ipython3",
   "version": "3.6.10"
  },
  "latex_envs": {
   "LaTeX_envs_menu_present": true,
   "autoclose": false,
   "autocomplete": true,
   "bibliofile": "biblio.bib",
   "cite_by": "apalike",
   "current_citInitial": 1,
   "eqLabelWithNumbers": true,
   "eqNumInitial": 1,
   "hotkeys": {
    "equation": "Ctrl-E",
    "itemize": "Ctrl-I"
   },
   "labels_anchors": false,
   "latex_user_defs": false,
   "report_style_numbering": false,
   "user_envs_cfg": false
  },
  "nteract": {
   "version": "0.12.3"
  }
 },
 "nbformat": 4,
 "nbformat_minor": 2
}
