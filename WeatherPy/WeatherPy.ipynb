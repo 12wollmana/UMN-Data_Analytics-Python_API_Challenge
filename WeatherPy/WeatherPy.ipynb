{
 "cells": [
  {
   "cell_type": "markdown",
   "metadata": {},
   "source": [
    "# WeatherPy - Aaron Wollman\n",
    "----"
   ]
  },
  {
   "cell_type": "code",
   "execution_count": 1,
   "metadata": {
    "scrolled": true
   },
   "outputs": [],
   "source": [
    "# Dependencies and Setup\n",
    "import matplotlib.pyplot as plt\n",
    "import pandas as pd\n",
    "import numpy as np\n",
    "import requests\n",
    "import time\n",
    "from scipy.stats import linregress\n",
    "\n",
    "# Incorporated citipy to determine city based on latitude and longitude\n",
    "from citipy import citipy\n",
    "\n",
    "# Import API key\n",
    "import sys\n",
    "sys.path.append(\"..\")\n",
    "from api_keys import weather_api_key\n",
    "\n",
    "# Output File (CSV)\n",
    "output_data_file = \"output_data/cities.csv\"\n",
    "\n",
    "# Range of latitudes and longitudes\n",
    "lat_range = (-90, 90)\n",
    "lng_range = (-180, 180)"
   ]
  },
  {
   "cell_type": "markdown",
   "metadata": {},
   "source": [
    "## Generate Cities List"
   ]
  },
  {
   "cell_type": "code",
   "execution_count": 2,
   "metadata": {},
   "outputs": [
    {
     "data": {
      "text/plain": [
       "623"
      ]
     },
     "execution_count": 2,
     "metadata": {},
     "output_type": "execute_result"
    }
   ],
   "source": [
    "# List for holding lat_lngs and cities\n",
    "lat_lngs = []\n",
    "cities = []\n",
    "\n",
    "# Create a set of random lat and lng combinations\n",
    "sample_size = 1500\n",
    "lats = np.random.uniform(lat_range[0], lat_range[1], size=sample_size)\n",
    "lngs = np.random.uniform(lng_range[0], lng_range[1], size=sample_size)\n",
    "lat_lngs = zip(lats, lngs)\n",
    "\n",
    "# Identify nearest city for each lat, lng combination\n",
    "for lat_lng in lat_lngs:\n",
    "    city = citipy.nearest_city(lat_lng[0], lat_lng[1]).city_name\n",
    "    \n",
    "    # If the city is unique, then add it to a our cities list\n",
    "    if city not in cities:\n",
    "        cities.append(city)\n",
    "\n",
    "# Print the city count to confirm sufficient count\n",
    "len(cities)"
   ]
  },
  {
   "cell_type": "markdown",
   "metadata": {},
   "source": [
    "### Perform API Calls\n",
    "* Perform a weather check on each city using a series of successive API calls.\n",
    "* Include a print log of each city as it'sbeing processed (with the city number and city name).\n"
   ]
  },
  {
   "cell_type": "code",
   "execution_count": 3,
   "metadata": {},
   "outputs": [],
   "source": [
    "# Function to call OpenWeatherMap's API\n",
    "weather_baseurl = \"http://api.openweathermap.org/data/2.5/weather?\"\n",
    "\n",
    "def get_city_weather(city):\n",
    "    weather_params = {\n",
    "        \"appid\" : weather_api_key,\n",
    "        \"q\" : city\n",
    "    }\n",
    "    \n",
    "    weather_response = requests.get(weather_baseurl, params = weather_params)\n",
    "    return weather_response.json()"
   ]
  },
  {
   "cell_type": "code",
   "execution_count": 4,
   "metadata": {},
   "outputs": [],
   "source": [
    "# Helpers to save data from JSON to an object\n",
    "class City_Weather_Columns:\n",
    "    city = \"City\"\n",
    "    lat = \"Lat\"\n",
    "    lng = \"Lng\"\n",
    "    max_temp = \"Max Temp\"\n",
    "    humidity = \"Humidity\"\n",
    "    cloudiness = \"Cloudiness\"\n",
    "    wind_speed = \"Wind Speed\"\n",
    "    country = \"country\"\n",
    "    date = \"Date\"\n",
    "       \n",
    "def process_weather_json(json):\n",
    "    return {\n",
    "        City_Weather_Columns.city : json[\"name\"],\n",
    "        City_Weather_Columns.lat : json[\"coord\"][\"lat\"],\n",
    "        City_Weather_Columns.lng : json[\"coord\"][\"lon\"],\n",
    "        City_Weather_Columns.max_temp : json[\"main\"][\"temp_max\"],\n",
    "        City_Weather_Columns.humidity : json[\"main\"][\"humidity\"],\n",
    "        City_Weather_Columns.cloudiness : json[\"clouds\"][\"all\"],\n",
    "        City_Weather_Columns.wind_speed : json[\"wind\"][\"speed\"],\n",
    "        City_Weather_Columns.country : json[\"sys\"][\"country\"],\n",
    "        City_Weather_Columns.date : json[\"dt\"]\n",
    "    }"
   ]
  },
  {
   "cell_type": "code",
   "execution_count": 5,
   "metadata": {},
   "outputs": [
    {
     "name": "stdout",
     "output_type": "stream",
     "text": [
      "Beginning Data Retrieval\n",
      "-----------------------------\n",
      "Processing Record 1 of Set 1 | Arcata\n",
      "Processing Record 2 of Set 1 | Port Alfred\n",
      "Processing Record 3 of Set 1 | Bredasdorp\n",
      "Processing Record 4 of Set 1 | Port-Gentil\n",
      "Processing Record 5 of Set 1 | Sobolevo\n",
      "Processing Record 6 of Set 1 | Walvis Bay\n",
      "Processing Record 7 of Set 1 | Khandyga\n",
      "Processing Record 8 of Set 1 | Marfino\n",
      "Processing Record 9 of Set 1 | Clyde River\n",
      "Processing Record 10 of Set 1 | Dolisie\n",
      "Processing Record 11 of Set 1 | Ambunti\n",
      "Processing Record 12 of Set 1 | Bhadrāchalam\n",
      "Processing Record 13 of Set 1 | Severnoye\n",
      "Processing Record 14 of Set 1 | Lanxi\n",
      "Processing Record 15 of Set 1 | Ushuaia\n",
      "Processing Record 16 of Set 1 | Novobirilyussy\n",
      "Processing Record 17 of Set 1 | Shonguy\n",
      "Processing Record 18 of Set 1 | Upernavik\n",
      "Processing Record 19 of Set 1 | Bluff\n",
      "Processing Record 20 of Set 1 | Camacha\n",
      "Processing Record 21 of Set 1 | Yangi Marg`ilon\n",
      "Processing Record 22 of Set 1 | Touros\n",
      "Processing Record 23 of Set 1 | Cape Town\n",
      "Processing Record 24 of Set 1 | São João da Barra\n",
      "Processing Record 25 of Set 1 | Sorong\n",
      "Processing Record 26 of Set 1 | Caravelas\n",
      "Processing Record 27 of Set 1 | Cockburn Town\n",
      "Processing Record 28 of Set 1 | Tura\n",
      "Processing Record 29 of Set 1 | Kenai\n",
      "Processing Record 30 of Set 1 | Mandalgovi\n",
      "Processing Record 31 of Set 1 | Hithadhoo\n",
      "Processing Record 32 of Set 1 | Kavaratti\n",
      "Processing Record 33 of Set 1 | Pedasí\n",
      "Processing Record 34 of Set 1 | Vaini\n",
      "Processing Record 35 of Set 1 | Rikitea\n",
      "Processing Record 36 of Set 1 | Nanortalik\n",
      "Processing Record 37 of Set 1 | Nikolskoye\n",
      "Processing Record 38 of Set 1 | Yellowknife\n",
      "Processing Record 39 of Set 1 | Burgeo\n",
      "Processing Record 40 of Set 1 | Hobyo\n",
      "Processing Record 41 of Set 1 | Mataura\n",
      "Processing Record 42 of Set 1 | Goba\n",
      "Processing Record 43 of Set 1 | Ponta do Sol\n",
      "Processing Record 44 of Set 1 | Kysyl-Syr\n",
      "Processing Record 45 of Set 1 | Airai\n",
      "Processing Record 46 of Set 1 | Chadiza\n",
      "Processing Record 47 of Set 1 | Bathsheba\n",
      "Processing Record 48 of Set 1 | Constitución\n",
      "Processing Record 49 of Set 1 | Khovd\n",
      "Processing Record 50 of Set 1 | Katangli\n",
      "Processing Record 1 of Set 2 | Saint George\n",
      "Processing Record 2 of Set 2 | Belmonte\n",
      "Processing Record 3 of Set 2 | Faanui\n",
      "Processing Record 4 of Set 2 | Shar\n",
      "Processing Record 5 of Set 2 | Puerto Ayora\n",
      "Processing Record 6 of Set 2 | Poltavka\n",
      "Processing Record 7 of Set 2 | Prieska\n",
      "Processing Record 8 of Set 2 | Castro\n",
      "Processing Record 9 of Set 2 | Mount Gambier\n",
      "City not found. Skipping...\n",
      "Processing Record 11 of Set 2 | Kapaa\n",
      "Processing Record 12 of Set 2 | Hobart\n",
      "Processing Record 13 of Set 2 | Vaitape\n",
      "Processing Record 14 of Set 2 | Nha Trang\n",
      "Processing Record 15 of Set 2 | Preeceville\n",
      "Processing Record 16 of Set 2 | Arman'\n",
      "Processing Record 17 of Set 2 | Hermanus\n",
      "Processing Record 18 of Set 2 | Busselton\n",
      "Processing Record 19 of Set 2 | Punta Arenas\n",
      "City not found. Skipping...\n",
      "Processing Record 21 of Set 2 | Lebu\n",
      "Processing Record 22 of Set 2 | Puerto Escondido\n",
      "Processing Record 23 of Set 2 | Haines Junction\n",
      "Processing Record 24 of Set 2 | Bandar-e Anzali\n",
      "Processing Record 25 of Set 2 | Gunjur\n",
      "Processing Record 26 of Set 2 | Vila Velha\n",
      "Processing Record 27 of Set 2 | Arrondissement de Figeac\n",
      "Processing Record 28 of Set 2 | Havøysund\n",
      "Processing Record 29 of Set 2 | Fortuna\n",
      "Processing Record 30 of Set 2 | Fairbanks\n",
      "City not found. Skipping...\n",
      "Processing Record 32 of Set 2 | Flinders\n",
      "City not found. Skipping...\n",
      "Processing Record 34 of Set 2 | Kavieng\n",
      "Processing Record 35 of Set 2 | Bambous Virieux\n",
      "Processing Record 36 of Set 2 | Ladário\n",
      "Processing Record 37 of Set 2 | Road Town\n",
      "Processing Record 38 of Set 2 | Bandarbeyla\n",
      "Processing Record 39 of Set 2 | Maceió\n",
      "Processing Record 40 of Set 2 | Morón\n",
      "Processing Record 41 of Set 2 | Norman Wells\n",
      "Processing Record 42 of Set 2 | Manitouwadge\n",
      "Processing Record 43 of Set 2 | Westport\n",
      "Processing Record 44 of Set 2 | Goderich\n",
      "Processing Record 45 of Set 2 | San Juan\n",
      "Processing Record 46 of Set 2 | Bowen\n",
      "Processing Record 47 of Set 2 | Brightwater\n",
      "Processing Record 48 of Set 2 | Saint Paul Harbor\n",
      "Processing Record 49 of Set 2 | Colatina\n",
      "Processing Record 50 of Set 2 | Albany\n",
      "Processing Record 1 of Set 3 | Salalah\n",
      "Processing Record 2 of Set 3 | Ilulissat\n",
      "Processing Record 3 of Set 3 | George Town\n",
      "Processing Record 4 of Set 3 | Krasnaya Gora\n",
      "Processing Record 5 of Set 3 | Lüderitz\n",
      "Processing Record 6 of Set 3 | Chui\n",
      "Processing Record 7 of Set 3 | Ayan\n",
      "Processing Record 8 of Set 3 | Tasiilaq\n",
      "Processing Record 9 of Set 3 | Serenje\n",
      "Processing Record 10 of Set 3 | Damphu\n",
      "Processing Record 11 of Set 3 | Tezu\n",
      "Processing Record 12 of Set 3 | Butaritari\n",
      "Processing Record 13 of Set 3 | Muhafazat Lahij\n",
      "Processing Record 14 of Set 3 | Ancud\n",
      "Processing Record 15 of Set 3 | Mahajanga\n",
      "Processing Record 16 of Set 3 | Asău\n",
      "Processing Record 17 of Set 3 | New Norfolk\n",
      "Processing Record 18 of Set 3 | Aldan\n",
      "Processing Record 19 of Set 3 | Aklavik\n",
      "Processing Record 20 of Set 3 | East London\n",
      "Processing Record 21 of Set 3 | Thompson\n",
      "Processing Record 22 of Set 3 | Sayyan\n",
      "Processing Record 23 of Set 3 | Tuktoyaktuk\n",
      "Processing Record 24 of Set 3 | Arraial do Cabo\n",
      "Processing Record 25 of Set 3 | Atuona\n",
      "City not found. Skipping...\n",
      "Processing Record 27 of Set 3 | Tuatapere\n",
      "Processing Record 28 of Set 3 | Nizwá\n",
      "Processing Record 29 of Set 3 | Isiolo\n",
      "Processing Record 30 of Set 3 | San Patricio\n",
      "Processing Record 31 of Set 3 | Narsaq\n",
      "Processing Record 32 of Set 3 | Bubaque\n",
      "Processing Record 33 of Set 3 | Rocha\n",
      "City not found. Skipping...\n",
      "Processing Record 35 of Set 3 | Malazgirt\n",
      "Processing Record 36 of Set 3 | Saint-Philippe\n",
      "Processing Record 37 of Set 3 | Svetlaya\n",
      "Processing Record 38 of Set 3 | Vardø\n",
      "Processing Record 39 of Set 3 | Teguise\n",
      "Processing Record 40 of Set 3 | Khatanga\n",
      "Processing Record 41 of Set 3 | Singkang\n",
      "Processing Record 42 of Set 3 | St. George's\n",
      "Processing Record 43 of Set 3 | Esperance\n",
      "Processing Record 44 of Set 3 | Mastung\n",
      "City not found. Skipping...\n",
      "Processing Record 46 of Set 3 | Iralaya\n",
      "Processing Record 47 of Set 3 | Dingzhou\n",
      "Processing Record 48 of Set 3 | Provideniya\n",
      "Processing Record 49 of Set 3 | Ballina\n",
      "Processing Record 50 of Set 3 | Kumul\n",
      "Processing Record 1 of Set 4 | Beringovskiy\n",
      "City not found. Skipping...\n",
      "Processing Record 3 of Set 4 | North Myrtle Beach\n",
      "Processing Record 4 of Set 4 | Barrow\n",
      "Processing Record 5 of Set 4 | Mar del Plata\n",
      "Processing Record 6 of Set 4 | Saskylakh\n",
      "Processing Record 7 of Set 4 | Jamestown\n",
      "Processing Record 8 of Set 4 | Sheregesh\n",
      "Processing Record 9 of Set 4 | Joué-lès-Tours\n",
      "Processing Record 10 of Set 4 | Fowa\n",
      "Processing Record 11 of Set 4 | Baykit\n",
      "Processing Record 12 of Set 4 | Chernyshevskiy\n",
      "Processing Record 13 of Set 4 | Rundu\n",
      "Processing Record 14 of Set 4 | Codrington\n",
      "Processing Record 15 of Set 4 | Dikson\n",
      "Processing Record 16 of Set 4 | Bengkulu\n",
      "City not found. Skipping...\n",
      "Processing Record 18 of Set 4 | Tynda\n",
      "Processing Record 19 of Set 4 | Koungheul\n",
      "Processing Record 20 of Set 4 | Slave Lake\n",
      "Processing Record 21 of Set 4 | Cherskiy\n",
      "Processing Record 22 of Set 4 | Taltal\n",
      "Processing Record 23 of Set 4 | Qaqortoq\n",
      "Processing Record 24 of Set 4 | Kokopo\n",
      "Processing Record 25 of Set 4 | Diamantino\n",
      "Processing Record 26 of Set 4 | Nānākuli\n",
      "Processing Record 27 of Set 4 | Zhengjiatun\n",
      "Processing Record 28 of Set 4 | Hilo\n",
      "Processing Record 29 of Set 4 | Sitka\n",
      "Processing Record 30 of Set 4 | Merauke\n",
      "City not found. Skipping...\n",
      "Processing Record 32 of Set 4 | Uyemskiy\n",
      "Processing Record 33 of Set 4 | Adré\n",
      "Processing Record 34 of Set 4 | Talnakh\n",
      "Processing Record 35 of Set 4 | Sooke\n",
      "Processing Record 36 of Set 4 | Klaksvík\n",
      "Processing Record 37 of Set 4 | Severo-Kuril'sk\n",
      "Processing Record 38 of Set 4 | Carnarvon\n",
      "Processing Record 39 of Set 4 | Butajīra\n",
      "Processing Record 40 of Set 4 | Oxapampa\n",
      "Processing Record 41 of Set 4 | Saint-Augustin\n",
      "Processing Record 42 of Set 4 | Avarua\n",
      "Processing Record 43 of Set 4 | Egvekinot\n",
      "Processing Record 44 of Set 4 | Jalu\n",
      "Processing Record 45 of Set 4 | Nelson Bay\n",
      "City not found. Skipping...\n",
      "Processing Record 47 of Set 4 | Grindavik\n",
      "Processing Record 48 of Set 4 | Zhangye\n",
      "Processing Record 49 of Set 4 | Cody\n",
      "City not found. Skipping...\n",
      "Processing Record 1 of Set 5 | Makakilo City\n"
     ]
    },
    {
     "name": "stdout",
     "output_type": "stream",
     "text": [
      "Processing Record 2 of Set 5 | Zemio\n",
      "Processing Record 3 of Set 5 | San Antonio\n",
      "Processing Record 4 of Set 5 | Lorengau\n",
      "Processing Record 5 of Set 5 | Rawson\n",
      "Processing Record 6 of Set 5 | Pisco\n",
      "Processing Record 7 of Set 5 | Stephenville\n",
      "Processing Record 8 of Set 5 | Tarko-Sale\n",
      "Processing Record 9 of Set 5 | Sicuani\n",
      "Processing Record 10 of Set 5 | Kahului\n",
      "Processing Record 11 of Set 5 | Bogorodskoye\n",
      "Processing Record 12 of Set 5 | Barranca\n",
      "Processing Record 13 of Set 5 | Cayenne\n",
      "Processing Record 14 of Set 5 | San Quintín\n",
      "Processing Record 15 of Set 5 | Madisonville\n",
      "Processing Record 16 of Set 5 | Takoradze\n",
      "Processing Record 17 of Set 5 | Valkenswaard\n",
      "Processing Record 18 of Set 5 | Puerto Ayacucho\n",
      "Processing Record 19 of Set 5 | Bethel\n",
      "Processing Record 20 of Set 5 | Kruisfontein\n",
      "Processing Record 21 of Set 5 | Ribeira Grande\n",
      "Processing Record 22 of Set 5 | Agüimes\n",
      "City not found. Skipping...\n",
      "City not found. Skipping...\n",
      "Processing Record 25 of Set 5 | Linxia Chengguanzhen\n",
      "Processing Record 26 of Set 5 | Salinópolis\n",
      "City not found. Skipping...\n",
      "Processing Record 28 of Set 5 | Nong Chik\n",
      "Processing Record 29 of Set 5 | Punalūr\n",
      "Processing Record 30 of Set 5 | Shellbrook\n",
      "Processing Record 31 of Set 5 | Lompoc\n",
      "Processing Record 32 of Set 5 | Saint-Joseph\n",
      "City not found. Skipping...\n",
      "Processing Record 34 of Set 5 | Tilichiki\n",
      "Processing Record 35 of Set 5 | Honiara\n",
      "Processing Record 36 of Set 5 | Fort Nelson\n",
      "Processing Record 37 of Set 5 | Mehamn\n",
      "Processing Record 38 of Set 5 | Soyo\n",
      "Processing Record 39 of Set 5 | Ucluelet\n",
      "Processing Record 40 of Set 5 | Tautira\n",
      "Processing Record 41 of Set 5 | Chimbote\n",
      "Processing Record 42 of Set 5 | Bariloche\n",
      "Processing Record 43 of Set 5 | Erenhot\n",
      "Processing Record 44 of Set 5 | College\n",
      "Processing Record 45 of Set 5 | Katherine\n",
      "Processing Record 46 of Set 5 | Sur\n",
      "Processing Record 47 of Set 5 | Leningradskiy\n",
      "Processing Record 48 of Set 5 | Namatanai\n",
      "Processing Record 49 of Set 5 | Hong Kong\n",
      "Processing Record 50 of Set 5 | Bitadtun\n",
      "Processing Record 1 of Set 6 | Sakakah\n",
      "Processing Record 2 of Set 6 | North Bend\n",
      "Processing Record 3 of Set 6 | Chunoyar\n",
      "Processing Record 4 of Set 6 | Shimoda\n",
      "City not found. Skipping...\n",
      "Processing Record 6 of Set 6 | Borzya\n",
      "Processing Record 7 of Set 6 | Saurimo\n",
      "City not found. Skipping...\n",
      "Processing Record 9 of Set 6 | Makīnsk\n",
      "Processing Record 10 of Set 6 | Point Pedro\n",
      "Processing Record 11 of Set 6 | Raja\n",
      "Processing Record 12 of Set 6 | Emerald\n",
      "Processing Record 13 of Set 6 | Xai-Xai\n",
      "Processing Record 14 of Set 6 | Tsimmerbude\n",
      "Processing Record 15 of Set 6 | Qaanaaq\n",
      "City not found. Skipping...\n",
      "Processing Record 17 of Set 6 | Storforshei\n",
      "Processing Record 18 of Set 6 | Iqaluit\n",
      "Processing Record 19 of Set 6 | Chara\n",
      "Processing Record 20 of Set 6 | Zhigansk\n",
      "Processing Record 21 of Set 6 | Garden City\n",
      "Processing Record 22 of Set 6 | Rantauprapat\n",
      "Processing Record 23 of Set 6 | Caxito\n",
      "Processing Record 24 of Set 6 | Chubbuck\n",
      "Processing Record 25 of Set 6 | Geraldton\n",
      "Processing Record 26 of Set 6 | Launceston\n",
      "Processing Record 27 of Set 6 | Kisi\n",
      "City not found. Skipping...\n",
      "Processing Record 29 of Set 6 | Skibbereen\n",
      "Processing Record 30 of Set 6 | Kapit\n",
      "Processing Record 31 of Set 6 | Inhambane\n",
      "Processing Record 32 of Set 6 | Betsiamites\n",
      "Processing Record 33 of Set 6 | Usinsk\n",
      "Processing Record 34 of Set 6 | Cidreira\n",
      "Processing Record 35 of Set 6 | Araguaína\n",
      "Processing Record 36 of Set 6 | Uglegorskiy\n",
      "Processing Record 37 of Set 6 | Olovyannaya\n",
      "City not found. Skipping...\n",
      "Processing Record 39 of Set 6 | Hambantota\n",
      "Processing Record 40 of Set 6 | Evinayong\n",
      "Processing Record 41 of Set 6 | Andijan\n",
      "Processing Record 42 of Set 6 | Mayskiy\n",
      "Processing Record 43 of Set 6 | Bilma\n",
      "Processing Record 44 of Set 6 | Chokurdakh\n",
      "Processing Record 45 of Set 6 | Gaza\n",
      "Processing Record 46 of Set 6 | Ahipara\n",
      "Processing Record 47 of Set 6 | Kaitangata\n",
      "Processing Record 48 of Set 6 | Yatou\n",
      "Processing Record 49 of Set 6 | Portland\n",
      "Processing Record 50 of Set 6 | Te Anau\n",
      "Processing Record 1 of Set 7 | Ilebo\n",
      "Processing Record 2 of Set 7 | Barinas\n",
      "Processing Record 3 of Set 7 | Pevek\n",
      "Processing Record 4 of Set 7 | Magaria\n",
      "Processing Record 5 of Set 7 | Golden\n",
      "Processing Record 6 of Set 7 | Broken Hill\n",
      "Processing Record 7 of Set 7 | Ronneby\n",
      "Processing Record 8 of Set 7 | Harper\n",
      "Processing Record 9 of Set 7 | Daru\n",
      "Processing Record 10 of Set 7 | Viedma\n",
      "Processing Record 11 of Set 7 | Meulaboh\n",
      "Processing Record 12 of Set 7 | Neryungri\n",
      "Processing Record 13 of Set 7 | Lewistown\n",
      "Processing Record 14 of Set 7 | Port Elizabeth\n",
      "Processing Record 15 of Set 7 | Saint-François\n",
      "Processing Record 16 of Set 7 | Cabo San Lucas\n",
      "Processing Record 17 of Set 7 | Pangody\n",
      "Processing Record 18 of Set 7 | Bollnäs\n",
      "City not found. Skipping...\n",
      "Processing Record 20 of Set 7 | Djibouti\n",
      "Processing Record 21 of Set 7 | Manta\n",
      "Processing Record 22 of Set 7 | Sioux Lookout\n",
      "Processing Record 23 of Set 7 | Carutapera\n",
      "Processing Record 24 of Set 7 | São Gabriel da Cachoeira\n",
      "City not found. Skipping...\n",
      "Processing Record 26 of Set 7 | Ola\n",
      "Processing Record 27 of Set 7 | Ji’an\n",
      "Processing Record 28 of Set 7 | Panama City\n",
      "Processing Record 29 of Set 7 | Jiuquan\n",
      "Processing Record 30 of Set 7 | Piaçabuçu\n",
      "Processing Record 31 of Set 7 | Omboué\n",
      "Processing Record 32 of Set 7 | Kidal\n",
      "Processing Record 33 of Set 7 | Sauk Rapids\n",
      "Processing Record 34 of Set 7 | Zatoka\n",
      "Processing Record 35 of Set 7 | The Valley\n",
      "Processing Record 36 of Set 7 | Laguna\n",
      "Processing Record 37 of Set 7 | Arlit\n",
      "Processing Record 38 of Set 7 | Jiazi\n",
      "Processing Record 39 of Set 7 | Evensk\n",
      "Processing Record 40 of Set 7 | Alugan\n",
      "Processing Record 41 of Set 7 | Port Macquarie\n",
      "Processing Record 42 of Set 7 | Bellevue\n",
      "Processing Record 43 of Set 7 | Charyshskoye\n",
      "Processing Record 44 of Set 7 | Amarillo\n",
      "Processing Record 45 of Set 7 | Russell\n",
      "Processing Record 46 of Set 7 | Marawi\n",
      "Processing Record 47 of Set 7 | Coahuayana Viejo\n",
      "Processing Record 48 of Set 7 | Helong\n",
      "Processing Record 49 of Set 7 | Oranjemund\n",
      "City not found. Skipping...\n",
      "Processing Record 1 of Set 8 | Alofi\n",
      "Processing Record 2 of Set 8 | Sal Rei\n",
      "Processing Record 3 of Set 8 | Swan Hill\n",
      "Processing Record 4 of Set 8 | Natá\n",
      "Processing Record 5 of Set 8 | Nizhniy Kuranakh\n",
      "Processing Record 6 of Set 8 | Rexburg\n",
      "Processing Record 7 of Set 8 | Mwinilunga\n",
      "Processing Record 8 of Set 8 | Puerto Carreño\n",
      "Processing Record 9 of Set 8 | Buin\n",
      "Processing Record 10 of Set 8 | Denpasar\n",
      "Processing Record 11 of Set 8 | Murray Bridge\n",
      "Processing Record 12 of Set 8 | Tigil'\n",
      "Processing Record 13 of Set 8 | The Pas\n",
      "Processing Record 14 of Set 8 | Marsabit\n",
      "Processing Record 15 of Set 8 | Moindou\n",
      "Processing Record 16 of Set 8 | Kitgum\n",
      "Processing Record 17 of Set 8 | Pitsunda\n",
      "Processing Record 18 of Set 8 | Nguruka\n",
      "Processing Record 19 of Set 8 | Sturgis\n",
      "Processing Record 20 of Set 8 | Port Hardy\n",
      "Processing Record 21 of Set 8 | Dingle\n",
      "Processing Record 22 of Set 8 | Alanya\n",
      "Processing Record 23 of Set 8 | Laas\n",
      "Processing Record 24 of Set 8 | Boké\n",
      "City not found. Skipping...\n",
      "Processing Record 26 of Set 8 | Hervey Bay\n",
      "Processing Record 27 of Set 8 | Colombia\n",
      "Processing Record 28 of Set 8 | Ventersburg\n",
      "Processing Record 29 of Set 8 | Srednekolymsk\n",
      "City not found. Skipping...\n",
      "Processing Record 31 of Set 8 | Ciechanów\n",
      "Processing Record 32 of Set 8 | Senno\n",
      "Processing Record 33 of Set 8 | Beloha\n",
      "Processing Record 34 of Set 8 | Wattegama\n",
      "Processing Record 35 of Set 8 | Kabompo\n",
      "Processing Record 36 of Set 8 | Sterling\n",
      "Processing Record 37 of Set 8 | Artena\n",
      "Processing Record 38 of Set 8 | Vestmannaeyjar\n",
      "Processing Record 39 of Set 8 | Pokhara\n",
      "Processing Record 40 of Set 8 | City of San Pedro\n",
      "Processing Record 41 of Set 8 | Taoudenni\n",
      "Processing Record 42 of Set 8 | Biak\n",
      "Processing Record 43 of Set 8 | Saint-Pierre\n",
      "Processing Record 44 of Set 8 | Ostrovnoy\n",
      "Processing Record 45 of Set 8 | Ilhabela\n",
      "Processing Record 46 of Set 8 | Caucaia\n",
      "Processing Record 47 of Set 8 | Tiksi\n",
      "Processing Record 48 of Set 8 | Mindelo\n",
      "City not found. Skipping...\n",
      "Processing Record 50 of Set 8 | Kieta\n",
      "Processing Record 1 of Set 9 | Virginia Beach\n",
      "Processing Record 2 of Set 9 | Martapura\n",
      "Processing Record 3 of Set 9 | Naze\n",
      "Processing Record 4 of Set 9 | Temoaya\n",
      "City not found. Skipping...\n",
      "Processing Record 6 of Set 9 | Jinxi\n",
      "Processing Record 7 of Set 9 | Waipawa\n"
     ]
    },
    {
     "name": "stdout",
     "output_type": "stream",
     "text": [
      "Processing Record 8 of Set 9 | Port Lincoln\n",
      "Processing Record 9 of Set 9 | Tsabong\n",
      "Processing Record 10 of Set 9 | Nola\n",
      "Processing Record 11 of Set 9 | Salisbury\n",
      "Processing Record 12 of Set 9 | Sokoni\n",
      "Processing Record 13 of Set 9 | Manado\n",
      "Processing Record 14 of Set 9 | Port Blair\n",
      "Processing Record 15 of Set 9 | Santa Rosa\n",
      "Processing Record 16 of Set 9 | Northam\n",
      "Processing Record 17 of Set 9 | Jaguaruna\n",
      "City not found. Skipping...\n",
      "City not found. Skipping...\n",
      "Processing Record 20 of Set 9 | Mareeba\n",
      "Processing Record 21 of Set 9 | Tuy Hoa\n",
      "Processing Record 22 of Set 9 | Smyrna\n",
      "Processing Record 23 of Set 9 | Mabaruma\n",
      "Processing Record 24 of Set 9 | Gīdam\n",
      "Processing Record 25 of Set 9 | Aden\n",
      "Processing Record 26 of Set 9 | Necochea\n",
      "Processing Record 27 of Set 9 | Katsuura\n",
      "Processing Record 28 of Set 9 | Rakaia\n",
      "Processing Record 29 of Set 9 | Kalamare\n",
      "Processing Record 30 of Set 9 | Saiha\n",
      "Processing Record 31 of Set 9 | Berlevåg\n",
      "Processing Record 32 of Set 9 | Waingapu\n",
      "Processing Record 33 of Set 9 | Manassas\n",
      "Processing Record 34 of Set 9 | Wilhelmsburg\n",
      "Processing Record 35 of Set 9 | Filingué\n",
      "Processing Record 36 of Set 9 | Naples\n",
      "Processing Record 37 of Set 9 | Monrovia\n",
      "Processing Record 38 of Set 9 | Dogondoutchi\n",
      "Processing Record 39 of Set 9 | Poso\n",
      "Processing Record 40 of Set 9 | Cape Coral\n",
      "Processing Record 41 of Set 9 | ‘Āhuimanu\n",
      "Processing Record 42 of Set 9 | Abonnema\n",
      "Processing Record 43 of Set 9 | Isangel\n",
      "Processing Record 44 of Set 9 | Dudinka\n",
      "Processing Record 45 of Set 9 | Pingliang\n",
      "Processing Record 46 of Set 9 | Nauta\n",
      "Processing Record 47 of Set 9 | Tazovsky\n",
      "City not found. Skipping...\n",
      "Processing Record 49 of Set 9 | Upata\n",
      "Processing Record 50 of Set 9 | Verkhnyaya Inta\n",
      "Processing Record 1 of Set 10 | Aksarka\n",
      "Processing Record 2 of Set 10 | Coquimbo\n",
      "Processing Record 3 of Set 10 | Sembakung\n",
      "City not found. Skipping...\n",
      "Processing Record 5 of Set 10 | Auki\n",
      "Processing Record 6 of Set 10 | Bulanash\n",
      "Processing Record 7 of Set 10 | Arroio Grande\n",
      "Processing Record 8 of Set 10 | Varberg\n",
      "Processing Record 9 of Set 10 | Lagoa\n",
      "Processing Record 10 of Set 10 | Aasiaat\n",
      "Processing Record 11 of Set 10 | Ambilobe\n",
      "Processing Record 12 of Set 10 | Ilobu\n",
      "City not found. Skipping...\n",
      "Processing Record 14 of Set 10 | Uruçuí\n",
      "Processing Record 15 of Set 10 | Raudeberg\n",
      "Processing Record 16 of Set 10 | Arrondissement de Bergerac\n",
      "Processing Record 17 of Set 10 | Vung Tau\n",
      "Processing Record 18 of Set 10 | Aswān\n",
      "Processing Record 19 of Set 10 | Qui Nhon\n",
      "Processing Record 20 of Set 10 | Athabasca\n",
      "Processing Record 21 of Set 10 | Linhares\n",
      "Processing Record 22 of Set 10 | Ust-Kuyga\n",
      "Processing Record 23 of Set 10 | Mahébourg\n",
      "Processing Record 24 of Set 10 | Weligama\n",
      "Processing Record 25 of Set 10 | Uray\n",
      "Processing Record 26 of Set 10 | Tessalit\n",
      "Processing Record 27 of Set 10 | Lodja\n",
      "Processing Record 28 of Set 10 | Tūkrah\n",
      "Processing Record 29 of Set 10 | La Macarena\n",
      "Processing Record 30 of Set 10 | Kupang\n",
      "Processing Record 31 of Set 10 | Schmalkalden\n",
      "Processing Record 32 of Set 10 | Orikum\n",
      "City not found. Skipping...\n",
      "Processing Record 34 of Set 10 | Palmer\n",
      "Processing Record 35 of Set 10 | Maracaçumé\n",
      "Processing Record 36 of Set 10 | Meadville\n",
      "Processing Record 37 of Set 10 | Mana\n",
      "Processing Record 38 of Set 10 | San Ignacio\n",
      "Processing Record 39 of Set 10 | Oussouye\n",
      "Processing Record 40 of Set 10 | Khartoum\n",
      "City not found. Skipping...\n",
      "Processing Record 42 of Set 10 | Harbour Breton\n",
      "Processing Record 43 of Set 10 | Jiayuguan City\n",
      "Processing Record 44 of Set 10 | Saint Anthony\n",
      "Processing Record 45 of Set 10 | Husavik\n",
      "Processing Record 46 of Set 10 | Shenkursk\n",
      "Processing Record 47 of Set 10 | Bentiu\n",
      "Processing Record 48 of Set 10 | Luganville\n",
      "Processing Record 49 of Set 10 | Chaozhou\n",
      "Processing Record 50 of Set 10 | Thunder Bay\n",
      "Processing Record 1 of Set 11 | El Salvador\n",
      "Processing Record 2 of Set 11 | Hasaki\n",
      "Processing Record 3 of Set 11 | Bongandanga\n",
      "Processing Record 4 of Set 11 | Bairiki Village\n",
      "Processing Record 5 of Set 11 | Krasnyy Chikoy\n",
      "Processing Record 6 of Set 11 | Pampa\n",
      "Processing Record 7 of Set 11 | Eureka\n",
      "Processing Record 8 of Set 11 | Benguela\n",
      "Processing Record 9 of Set 11 | Amqui\n",
      "Processing Record 10 of Set 11 | Grand Gaube\n",
      "Processing Record 11 of Set 11 | San Juan Nepomuceno\n",
      "Processing Record 12 of Set 11 | Hamilton\n",
      "Processing Record 13 of Set 11 | Souillac\n",
      "Processing Record 14 of Set 11 | Atar\n",
      "Processing Record 15 of Set 11 | Mairwa\n",
      "Processing Record 16 of Set 11 | Vao\n",
      "Processing Record 17 of Set 11 | Tomatlán\n",
      "Processing Record 18 of Set 11 | Muyezerskiy\n",
      "Processing Record 19 of Set 11 | State College\n",
      "Processing Record 20 of Set 11 | Tromsø\n",
      "Processing Record 21 of Set 11 | Mayo\n",
      "Processing Record 22 of Set 11 | Bismarck\n",
      "Processing Record 23 of Set 11 | Manuk Mangkaw\n",
      "Processing Record 24 of Set 11 | Hofn\n",
      "Processing Record 25 of Set 11 | Mezen'\n",
      "Processing Record 26 of Set 11 | Ponferrada\n",
      "Processing Record 27 of Set 11 | Buta\n",
      "Processing Record 28 of Set 11 | Tatarsk\n",
      "Processing Record 29 of Set 11 | Salinas\n",
      "Processing Record 30 of Set 11 | Shemordan\n",
      "Processing Record 31 of Set 11 | Pakxan\n",
      "Processing Record 32 of Set 11 | Rechka Vydrino\n",
      "Processing Record 33 of Set 11 | Youhao\n",
      "Processing Record 34 of Set 11 | Oistins\n",
      "Processing Record 35 of Set 11 | Sulangan\n",
      "Processing Record 36 of Set 11 | Kaeo\n",
      "Processing Record 37 of Set 11 | Solnechnyy\n",
      "Processing Record 38 of Set 11 | Avera\n",
      "Processing Record 39 of Set 11 | Kaya\n",
      "Processing Record 40 of Set 11 | Gōdo\n",
      "City not found. Skipping...\n",
      "Processing Record 42 of Set 11 | Darhan\n",
      "Processing Record 43 of Set 11 | Alyangula\n",
      "Processing Record 44 of Set 11 | Lakes Entrance\n",
      "Processing Record 45 of Set 11 | Aktau\n",
      "Processing Record 46 of Set 11 | Samaná\n",
      "Processing Record 47 of Set 11 | Sangmélima\n",
      "Processing Record 48 of Set 11 | Iglesias\n",
      "Processing Record 49 of Set 11 | Gewanē\n",
      "Processing Record 50 of Set 11 | Jipijapa\n",
      "Processing Record 1 of Set 12 | Pontianak\n",
      "Processing Record 2 of Set 12 | Kamenka\n",
      "Processing Record 3 of Set 12 | Manbij\n",
      "Processing Record 4 of Set 12 | Linjiang\n",
      "Processing Record 5 of Set 12 | Shache\n",
      "Processing Record 6 of Set 12 | Kusa\n",
      "Processing Record 7 of Set 12 | Plettenberg Bay\n",
      "Processing Record 8 of Set 12 | Mandurah\n",
      "Processing Record 9 of Set 12 | Deputatsky\n",
      "Processing Record 10 of Set 12 | Sawākin\n",
      "Processing Record 11 of Set 12 | Orangeburg\n",
      "Processing Record 12 of Set 12 | Quatre Cocos\n",
      "Processing Record 13 of Set 12 | Presidencia Roque Sáenz Peña\n",
      "Processing Record 14 of Set 12 | Dunedin\n",
      "Processing Record 15 of Set 12 | Batagay\n",
      "Processing Record 16 of Set 12 | Banda Aceh\n",
      "Processing Record 17 of Set 12 | Igarka\n",
      "Processing Record 18 of Set 12 | Port Shepstone\n",
      "Processing Record 19 of Set 12 | Phan Thiet\n",
      "Processing Record 20 of Set 12 | Scottsbluff\n",
      "City not found. Skipping...\n",
      "Processing Record 22 of Set 12 | Río Gallegos\n",
      "Processing Record 23 of Set 12 | Churapcha\n",
      "Processing Record 24 of Set 12 | Lavrentiya\n",
      "Processing Record 25 of Set 12 | Price\n",
      "City not found. Skipping...\n",
      "Processing Record 27 of Set 12 | Seoul\n",
      "Processing Record 28 of Set 12 | Menongue\n",
      "Processing Record 29 of Set 12 | Rio Grande\n",
      "Processing Record 30 of Set 12 | Fasa\n",
      "Processing Record 31 of Set 12 | Pervomayskoye\n",
      "Processing Record 32 of Set 12 | Datong\n",
      "Processing Record 33 of Set 12 | San Policarpo\n",
      "Processing Record 34 of Set 12 | Lososina\n",
      "Processing Record 35 of Set 12 | Mayumba\n",
      "Processing Record 36 of Set 12 | Darnah\n",
      "Processing Record 37 of Set 12 | Dingalan\n",
      "Processing Record 38 of Set 12 | Encinitas\n",
      "Processing Record 39 of Set 12 | Pozzallo\n",
      "Processing Record 40 of Set 12 | Saldanha\n",
      "Processing Record 41 of Set 12 | São Filipe\n",
      "Processing Record 42 of Set 12 | Itarema\n",
      "Processing Record 43 of Set 12 | Chapais\n",
      "Processing Record 44 of Set 12 | Ussuriysk\n",
      "Processing Record 45 of Set 12 | Ayagoz\n",
      "City not found. Skipping...\n",
      "Processing Record 47 of Set 12 | Los Llanos de Aridane\n",
      "Processing Record 48 of Set 12 | Udachny\n",
      "Processing Record 49 of Set 12 | Kenora\n",
      "Processing Record 50 of Set 12 | Orcopampa\n",
      "Processing Record 1 of Set 13 | Cerano\n",
      "Processing Record 2 of Set 13 | Sola\n",
      "Processing Record 3 of Set 13 | Nanchital de Lázaro Cárdenas del Río\n",
      "City not found. Skipping...\n",
      "Processing Record 5 of Set 13 | Aljezur\n",
      "Processing Record 6 of Set 13 | Krasnosel'kup\n"
     ]
    },
    {
     "name": "stdout",
     "output_type": "stream",
     "text": [
      "City not found. Skipping...\n",
      "Processing Record 8 of Set 13 | Romans-sur-Isère\n",
      "Processing Record 9 of Set 13 | Lamu\n",
      "Processing Record 10 of Set 13 | Waddān\n",
      "Processing Record 11 of Set 13 | Borogontsy\n",
      "Processing Record 12 of Set 13 | Lincoln\n",
      "Processing Record 13 of Set 13 | Sikonge\n",
      "Processing Record 14 of Set 13 | Ayní\n",
      "City not found. Skipping...\n",
      "Processing Record 16 of Set 13 | Torbay\n",
      "Processing Record 17 of Set 13 | Luang Prabang\n",
      "Processing Record 18 of Set 13 | Sept-Îles\n",
      "Processing Record 19 of Set 13 | Shingū\n",
      "Processing Record 20 of Set 13 | Semme\n",
      "Processing Record 21 of Set 13 | Petropavlovsk-Kamchatskiy\n",
      "Processing Record 22 of Set 13 | Pacific Grove\n",
      "Processing Record 23 of Set 13 | Brookings\n",
      "-----------------------------\n",
      "Data Retrieval Complete\n",
      "-----------------------------\n"
     ]
    }
   ],
   "source": [
    "# Load the data from OpenWeatherMap into city_weather_list\n",
    "print(\"Beginning Data Retrieval\")\n",
    "print(\"-----------------------------\")\n",
    "\n",
    "record_num = 1;\n",
    "set_num = 1;\n",
    "city_weather_list = []\n",
    "for city in cities:\n",
    "    \n",
    "    try:\n",
    "        city_weather_json = get_city_weather(city)     \n",
    "        city_weather = process_weather_json(city_weather_json)\n",
    "        city_name = city_weather[City_Weather_Columns.city]\n",
    "        print(f\"Processing Record {record_num} of Set {set_num} | {city_name}\")\n",
    "        city_weather_list.append(city_weather)\n",
    "    except:\n",
    "        print(\"City not found. Skipping...\")\n",
    "    \n",
    "    # Keep Record Count; Sets of 50\n",
    "    record_num += 1\n",
    "    if(record_num > 50):\n",
    "        set_num += 1\n",
    "        record_num = 1\n",
    "print(\"-----------------------------\")\n",
    "print(\"Data Retrieval Complete\")\n",
    "print(\"-----------------------------\")"
   ]
  },
  {
   "cell_type": "markdown",
   "metadata": {},
   "source": [
    "### Convert Raw Data to DataFrame\n",
    "* Export the city data into a .csv.\n",
    "* Display the DataFrame"
   ]
  },
  {
   "cell_type": "code",
   "execution_count": 6,
   "metadata": {},
   "outputs": [
    {
     "data": {
      "text/plain": [
       "City          581\n",
       "Lat           581\n",
       "Lng           581\n",
       "Max Temp      581\n",
       "Humidity      581\n",
       "Cloudiness    581\n",
       "Wind Speed    581\n",
       "country       581\n",
       "Date          581\n",
       "dtype: int64"
      ]
     },
     "execution_count": 6,
     "metadata": {},
     "output_type": "execute_result"
    }
   ],
   "source": [
    "# Convert to DataFrame\n",
    "city_weather_df = pd.DataFrame(city_weather_list)\n",
    "city_weather_df = city_weather_df.dropna()\n",
    "city_weather_df.count()"
   ]
  },
  {
   "cell_type": "code",
   "execution_count": 7,
   "metadata": {},
   "outputs": [
    {
     "data": {
      "text/html": [
       "<div>\n",
       "<style scoped>\n",
       "    .dataframe tbody tr th:only-of-type {\n",
       "        vertical-align: middle;\n",
       "    }\n",
       "\n",
       "    .dataframe tbody tr th {\n",
       "        vertical-align: top;\n",
       "    }\n",
       "\n",
       "    .dataframe thead th {\n",
       "        text-align: right;\n",
       "    }\n",
       "</style>\n",
       "<table border=\"1\" class=\"dataframe\">\n",
       "  <thead>\n",
       "    <tr style=\"text-align: right;\">\n",
       "      <th></th>\n",
       "      <th>City</th>\n",
       "      <th>Lat</th>\n",
       "      <th>Lng</th>\n",
       "      <th>Max Temp</th>\n",
       "      <th>Humidity</th>\n",
       "      <th>Cloudiness</th>\n",
       "      <th>Wind Speed</th>\n",
       "      <th>country</th>\n",
       "      <th>Date</th>\n",
       "    </tr>\n",
       "  </thead>\n",
       "  <tbody>\n",
       "    <tr>\n",
       "      <th>0</th>\n",
       "      <td>Arcata</td>\n",
       "      <td>40.87</td>\n",
       "      <td>-124.08</td>\n",
       "      <td>293.15</td>\n",
       "      <td>72</td>\n",
       "      <td>75</td>\n",
       "      <td>3.60</td>\n",
       "      <td>US</td>\n",
       "      <td>1595538177</td>\n",
       "    </tr>\n",
       "    <tr>\n",
       "      <th>1</th>\n",
       "      <td>Port Alfred</td>\n",
       "      <td>-33.59</td>\n",
       "      <td>26.89</td>\n",
       "      <td>290.72</td>\n",
       "      <td>43</td>\n",
       "      <td>0</td>\n",
       "      <td>4.48</td>\n",
       "      <td>ZA</td>\n",
       "      <td>1595538224</td>\n",
       "    </tr>\n",
       "    <tr>\n",
       "      <th>2</th>\n",
       "      <td>Bredasdorp</td>\n",
       "      <td>-34.53</td>\n",
       "      <td>20.04</td>\n",
       "      <td>284.15</td>\n",
       "      <td>93</td>\n",
       "      <td>0</td>\n",
       "      <td>1.50</td>\n",
       "      <td>ZA</td>\n",
       "      <td>1595538224</td>\n",
       "    </tr>\n",
       "    <tr>\n",
       "      <th>3</th>\n",
       "      <td>Port-Gentil</td>\n",
       "      <td>-0.72</td>\n",
       "      <td>8.78</td>\n",
       "      <td>297.51</td>\n",
       "      <td>79</td>\n",
       "      <td>88</td>\n",
       "      <td>5.45</td>\n",
       "      <td>GA</td>\n",
       "      <td>1595538072</td>\n",
       "    </tr>\n",
       "    <tr>\n",
       "      <th>4</th>\n",
       "      <td>Sobolevo</td>\n",
       "      <td>54.43</td>\n",
       "      <td>31.90</td>\n",
       "      <td>282.84</td>\n",
       "      <td>90</td>\n",
       "      <td>0</td>\n",
       "      <td>3.19</td>\n",
       "      <td>RU</td>\n",
       "      <td>1595538225</td>\n",
       "    </tr>\n",
       "  </tbody>\n",
       "</table>\n",
       "</div>"
      ],
      "text/plain": [
       "          City    Lat     Lng  Max Temp  Humidity  Cloudiness  Wind Speed  \\\n",
       "0       Arcata  40.87 -124.08    293.15        72          75        3.60   \n",
       "1  Port Alfred -33.59   26.89    290.72        43           0        4.48   \n",
       "2   Bredasdorp -34.53   20.04    284.15        93           0        1.50   \n",
       "3  Port-Gentil  -0.72    8.78    297.51        79          88        5.45   \n",
       "4     Sobolevo  54.43   31.90    282.84        90           0        3.19   \n",
       "\n",
       "  country        Date  \n",
       "0      US  1595538177  \n",
       "1      ZA  1595538224  \n",
       "2      ZA  1595538224  \n",
       "3      GA  1595538072  \n",
       "4      RU  1595538225  "
      ]
     },
     "execution_count": 7,
     "metadata": {},
     "output_type": "execute_result"
    }
   ],
   "source": [
    "city_weather_df.head()"
   ]
  },
  {
   "cell_type": "code",
   "execution_count": 11,
   "metadata": {},
   "outputs": [],
   "source": [
    "# Save to CSV\n",
    "city_weather_df.to_csv(output_data_file)"
   ]
  },
  {
   "cell_type": "markdown",
   "metadata": {},
   "source": [
    "## Inspect the data and remove the cities where the humidity > 100%.\n",
    "----\n",
    "Skip this step if there are no cities that have humidity > 100%. "
   ]
  },
  {
   "cell_type": "code",
   "execution_count": 12,
   "metadata": {},
   "outputs": [
    {
     "data": {
      "text/html": [
       "<div>\n",
       "<style scoped>\n",
       "    .dataframe tbody tr th:only-of-type {\n",
       "        vertical-align: middle;\n",
       "    }\n",
       "\n",
       "    .dataframe tbody tr th {\n",
       "        vertical-align: top;\n",
       "    }\n",
       "\n",
       "    .dataframe thead th {\n",
       "        text-align: right;\n",
       "    }\n",
       "</style>\n",
       "<table border=\"1\" class=\"dataframe\">\n",
       "  <thead>\n",
       "    <tr style=\"text-align: right;\">\n",
       "      <th></th>\n",
       "      <th>Lat</th>\n",
       "      <th>Lng</th>\n",
       "      <th>Max Temp</th>\n",
       "      <th>Humidity</th>\n",
       "      <th>Cloudiness</th>\n",
       "      <th>Wind Speed</th>\n",
       "      <th>Date</th>\n",
       "    </tr>\n",
       "  </thead>\n",
       "  <tbody>\n",
       "    <tr>\n",
       "      <th>count</th>\n",
       "      <td>581.000000</td>\n",
       "      <td>581.00000</td>\n",
       "      <td>581.000000</td>\n",
       "      <td>581.000000</td>\n",
       "      <td>581.000000</td>\n",
       "      <td>581.000000</td>\n",
       "      <td>5.810000e+02</td>\n",
       "    </tr>\n",
       "    <tr>\n",
       "      <th>mean</th>\n",
       "      <td>20.049828</td>\n",
       "      <td>19.25401</td>\n",
       "      <td>293.697332</td>\n",
       "      <td>70.764200</td>\n",
       "      <td>52.127367</td>\n",
       "      <td>3.440103</td>\n",
       "      <td>1.595538e+09</td>\n",
       "    </tr>\n",
       "    <tr>\n",
       "      <th>std</th>\n",
       "      <td>33.160858</td>\n",
       "      <td>92.02331</td>\n",
       "      <td>8.007062</td>\n",
       "      <td>19.322253</td>\n",
       "      <td>38.011944</td>\n",
       "      <td>2.330442</td>\n",
       "      <td>7.849483e+01</td>\n",
       "    </tr>\n",
       "    <tr>\n",
       "      <th>min</th>\n",
       "      <td>-54.800000</td>\n",
       "      <td>-179.17000</td>\n",
       "      <td>271.150000</td>\n",
       "      <td>3.000000</td>\n",
       "      <td>0.000000</td>\n",
       "      <td>0.050000</td>\n",
       "      <td>1.595538e+09</td>\n",
       "    </tr>\n",
       "    <tr>\n",
       "      <th>25%</th>\n",
       "      <td>-5.110000</td>\n",
       "      <td>-64.62000</td>\n",
       "      <td>288.150000</td>\n",
       "      <td>59.000000</td>\n",
       "      <td>11.000000</td>\n",
       "      <td>1.770000</td>\n",
       "      <td>1.595538e+09</td>\n",
       "    </tr>\n",
       "    <tr>\n",
       "      <th>50%</th>\n",
       "      <td>21.350000</td>\n",
       "      <td>22.75000</td>\n",
       "      <td>294.970000</td>\n",
       "      <td>74.000000</td>\n",
       "      <td>62.000000</td>\n",
       "      <td>3.000000</td>\n",
       "      <td>1.595538e+09</td>\n",
       "    </tr>\n",
       "    <tr>\n",
       "      <th>75%</th>\n",
       "      <td>48.010000</td>\n",
       "      <td>103.21000</td>\n",
       "      <td>299.160000</td>\n",
       "      <td>86.000000</td>\n",
       "      <td>90.000000</td>\n",
       "      <td>4.690000</td>\n",
       "      <td>1.595538e+09</td>\n",
       "    </tr>\n",
       "    <tr>\n",
       "      <th>max</th>\n",
       "      <td>77.480000</td>\n",
       "      <td>179.32000</td>\n",
       "      <td>312.880000</td>\n",
       "      <td>100.000000</td>\n",
       "      <td>100.000000</td>\n",
       "      <td>13.410000</td>\n",
       "      <td>1.595538e+09</td>\n",
       "    </tr>\n",
       "  </tbody>\n",
       "</table>\n",
       "</div>"
      ],
      "text/plain": [
       "              Lat        Lng    Max Temp    Humidity  Cloudiness  Wind Speed  \\\n",
       "count  581.000000  581.00000  581.000000  581.000000  581.000000  581.000000   \n",
       "mean    20.049828   19.25401  293.697332   70.764200   52.127367    3.440103   \n",
       "std     33.160858   92.02331    8.007062   19.322253   38.011944    2.330442   \n",
       "min    -54.800000 -179.17000  271.150000    3.000000    0.000000    0.050000   \n",
       "25%     -5.110000  -64.62000  288.150000   59.000000   11.000000    1.770000   \n",
       "50%     21.350000   22.75000  294.970000   74.000000   62.000000    3.000000   \n",
       "75%     48.010000  103.21000  299.160000   86.000000   90.000000    4.690000   \n",
       "max     77.480000  179.32000  312.880000  100.000000  100.000000   13.410000   \n",
       "\n",
       "               Date  \n",
       "count  5.810000e+02  \n",
       "mean   1.595538e+09  \n",
       "std    7.849483e+01  \n",
       "min    1.595538e+09  \n",
       "25%    1.595538e+09  \n",
       "50%    1.595538e+09  \n",
       "75%    1.595538e+09  \n",
       "max    1.595538e+09  "
      ]
     },
     "execution_count": 12,
     "metadata": {},
     "output_type": "execute_result"
    }
   ],
   "source": [
    "city_weather_df.describe()"
   ]
  },
  {
   "cell_type": "code",
   "execution_count": 13,
   "metadata": {},
   "outputs": [
    {
     "data": {
      "text/plain": [
       "Int64Index([], dtype='int64')"
      ]
     },
     "execution_count": 13,
     "metadata": {},
     "output_type": "execute_result"
    }
   ],
   "source": [
    "#  Get the indices of cities that have humidity over 100%.\n",
    "over_100_humid = city_weather_df.loc[city_weather_df[City_Weather_Columns.humidity] > 100].index\n",
    "over_100_humid"
   ]
  },
  {
   "cell_type": "code",
   "execution_count": 14,
   "metadata": {},
   "outputs": [
    {
     "data": {
      "text/html": [
       "<div>\n",
       "<style scoped>\n",
       "    .dataframe tbody tr th:only-of-type {\n",
       "        vertical-align: middle;\n",
       "    }\n",
       "\n",
       "    .dataframe tbody tr th {\n",
       "        vertical-align: top;\n",
       "    }\n",
       "\n",
       "    .dataframe thead th {\n",
       "        text-align: right;\n",
       "    }\n",
       "</style>\n",
       "<table border=\"1\" class=\"dataframe\">\n",
       "  <thead>\n",
       "    <tr style=\"text-align: right;\">\n",
       "      <th></th>\n",
       "      <th>Lat</th>\n",
       "      <th>Lng</th>\n",
       "      <th>Max Temp</th>\n",
       "      <th>Humidity</th>\n",
       "      <th>Cloudiness</th>\n",
       "      <th>Wind Speed</th>\n",
       "      <th>Date</th>\n",
       "    </tr>\n",
       "  </thead>\n",
       "  <tbody>\n",
       "    <tr>\n",
       "      <th>count</th>\n",
       "      <td>581.000000</td>\n",
       "      <td>581.00000</td>\n",
       "      <td>581.000000</td>\n",
       "      <td>581.000000</td>\n",
       "      <td>581.000000</td>\n",
       "      <td>581.000000</td>\n",
       "      <td>5.810000e+02</td>\n",
       "    </tr>\n",
       "    <tr>\n",
       "      <th>mean</th>\n",
       "      <td>20.049828</td>\n",
       "      <td>19.25401</td>\n",
       "      <td>293.697332</td>\n",
       "      <td>70.764200</td>\n",
       "      <td>52.127367</td>\n",
       "      <td>3.440103</td>\n",
       "      <td>1.595538e+09</td>\n",
       "    </tr>\n",
       "    <tr>\n",
       "      <th>std</th>\n",
       "      <td>33.160858</td>\n",
       "      <td>92.02331</td>\n",
       "      <td>8.007062</td>\n",
       "      <td>19.322253</td>\n",
       "      <td>38.011944</td>\n",
       "      <td>2.330442</td>\n",
       "      <td>7.849483e+01</td>\n",
       "    </tr>\n",
       "    <tr>\n",
       "      <th>min</th>\n",
       "      <td>-54.800000</td>\n",
       "      <td>-179.17000</td>\n",
       "      <td>271.150000</td>\n",
       "      <td>3.000000</td>\n",
       "      <td>0.000000</td>\n",
       "      <td>0.050000</td>\n",
       "      <td>1.595538e+09</td>\n",
       "    </tr>\n",
       "    <tr>\n",
       "      <th>25%</th>\n",
       "      <td>-5.110000</td>\n",
       "      <td>-64.62000</td>\n",
       "      <td>288.150000</td>\n",
       "      <td>59.000000</td>\n",
       "      <td>11.000000</td>\n",
       "      <td>1.770000</td>\n",
       "      <td>1.595538e+09</td>\n",
       "    </tr>\n",
       "    <tr>\n",
       "      <th>50%</th>\n",
       "      <td>21.350000</td>\n",
       "      <td>22.75000</td>\n",
       "      <td>294.970000</td>\n",
       "      <td>74.000000</td>\n",
       "      <td>62.000000</td>\n",
       "      <td>3.000000</td>\n",
       "      <td>1.595538e+09</td>\n",
       "    </tr>\n",
       "    <tr>\n",
       "      <th>75%</th>\n",
       "      <td>48.010000</td>\n",
       "      <td>103.21000</td>\n",
       "      <td>299.160000</td>\n",
       "      <td>86.000000</td>\n",
       "      <td>90.000000</td>\n",
       "      <td>4.690000</td>\n",
       "      <td>1.595538e+09</td>\n",
       "    </tr>\n",
       "    <tr>\n",
       "      <th>max</th>\n",
       "      <td>77.480000</td>\n",
       "      <td>179.32000</td>\n",
       "      <td>312.880000</td>\n",
       "      <td>100.000000</td>\n",
       "      <td>100.000000</td>\n",
       "      <td>13.410000</td>\n",
       "      <td>1.595538e+09</td>\n",
       "    </tr>\n",
       "  </tbody>\n",
       "</table>\n",
       "</div>"
      ],
      "text/plain": [
       "              Lat        Lng    Max Temp    Humidity  Cloudiness  Wind Speed  \\\n",
       "count  581.000000  581.00000  581.000000  581.000000  581.000000  581.000000   \n",
       "mean    20.049828   19.25401  293.697332   70.764200   52.127367    3.440103   \n",
       "std     33.160858   92.02331    8.007062   19.322253   38.011944    2.330442   \n",
       "min    -54.800000 -179.17000  271.150000    3.000000    0.000000    0.050000   \n",
       "25%     -5.110000  -64.62000  288.150000   59.000000   11.000000    1.770000   \n",
       "50%     21.350000   22.75000  294.970000   74.000000   62.000000    3.000000   \n",
       "75%     48.010000  103.21000  299.160000   86.000000   90.000000    4.690000   \n",
       "max     77.480000  179.32000  312.880000  100.000000  100.000000   13.410000   \n",
       "\n",
       "               Date  \n",
       "count  5.810000e+02  \n",
       "mean   1.595538e+09  \n",
       "std    7.849483e+01  \n",
       "min    1.595538e+09  \n",
       "25%    1.595538e+09  \n",
       "50%    1.595538e+09  \n",
       "75%    1.595538e+09  \n",
       "max    1.595538e+09  "
      ]
     },
     "execution_count": 14,
     "metadata": {},
     "output_type": "execute_result"
    }
   ],
   "source": [
    "# Make a new DataFrame equal to the city data to drop all humidity outliers by index.\n",
    "# Passing \"inplace=False\" will make a copy of the city_data DataFrame, which we call \"clean_city_data\".\n",
    "clean_city_data = city_weather_df.drop(over_100_humid)\n",
    "clean_city_data.describe()"
   ]
  },
  {
   "cell_type": "code",
   "execution_count": 32,
   "metadata": {},
   "outputs": [
    {
     "data": {
      "text/html": [
       "<div>\n",
       "<style scoped>\n",
       "    .dataframe tbody tr th:only-of-type {\n",
       "        vertical-align: middle;\n",
       "    }\n",
       "\n",
       "    .dataframe tbody tr th {\n",
       "        vertical-align: top;\n",
       "    }\n",
       "\n",
       "    .dataframe thead th {\n",
       "        text-align: right;\n",
       "    }\n",
       "</style>\n",
       "<table border=\"1\" class=\"dataframe\">\n",
       "  <thead>\n",
       "    <tr style=\"text-align: right;\">\n",
       "      <th></th>\n",
       "      <th>Lat</th>\n",
       "      <th>Lng</th>\n",
       "      <th>Max Temp</th>\n",
       "      <th>Humidity</th>\n",
       "      <th>Cloudiness</th>\n",
       "      <th>Wind Speed</th>\n",
       "    </tr>\n",
       "  </thead>\n",
       "  <tbody>\n",
       "    <tr>\n",
       "      <th>0</th>\n",
       "      <td>40.87</td>\n",
       "      <td>-124.08</td>\n",
       "      <td>293.15</td>\n",
       "      <td>72</td>\n",
       "      <td>75</td>\n",
       "      <td>3.60</td>\n",
       "    </tr>\n",
       "    <tr>\n",
       "      <th>1</th>\n",
       "      <td>-33.59</td>\n",
       "      <td>26.89</td>\n",
       "      <td>290.72</td>\n",
       "      <td>43</td>\n",
       "      <td>0</td>\n",
       "      <td>4.48</td>\n",
       "    </tr>\n",
       "    <tr>\n",
       "      <th>2</th>\n",
       "      <td>-34.53</td>\n",
       "      <td>20.04</td>\n",
       "      <td>284.15</td>\n",
       "      <td>93</td>\n",
       "      <td>0</td>\n",
       "      <td>1.50</td>\n",
       "    </tr>\n",
       "    <tr>\n",
       "      <th>3</th>\n",
       "      <td>-0.72</td>\n",
       "      <td>8.78</td>\n",
       "      <td>297.51</td>\n",
       "      <td>79</td>\n",
       "      <td>88</td>\n",
       "      <td>5.45</td>\n",
       "    </tr>\n",
       "    <tr>\n",
       "      <th>4</th>\n",
       "      <td>54.43</td>\n",
       "      <td>31.90</td>\n",
       "      <td>282.84</td>\n",
       "      <td>90</td>\n",
       "      <td>0</td>\n",
       "      <td>3.19</td>\n",
       "    </tr>\n",
       "  </tbody>\n",
       "</table>\n",
       "</div>"
      ],
      "text/plain": [
       "     Lat     Lng  Max Temp  Humidity  Cloudiness  Wind Speed\n",
       "0  40.87 -124.08    293.15        72          75        3.60\n",
       "1 -33.59   26.89    290.72        43           0        4.48\n",
       "2 -34.53   20.04    284.15        93           0        1.50\n",
       "3  -0.72    8.78    297.51        79          88        5.45\n",
       "4  54.43   31.90    282.84        90           0        3.19"
      ]
     },
     "execution_count": 32,
     "metadata": {},
     "output_type": "execute_result"
    }
   ],
   "source": [
    "# Extract relevant fields from the data frame\n",
    "final_columns = [City_Weather_Columns.lat, \n",
    "                 City_Weather_Columns.lng,\n",
    "                 City_Weather_Columns.max_temp, \n",
    "                 City_Weather_Columns.humidity, \n",
    "                 City_Weather_Columns.cloudiness,\n",
    "                 City_Weather_Columns.wind_speed]\n",
    "final_city_data = clean_city_data[final_columns]\n",
    "final_city_data.head()"
   ]
  },
  {
   "cell_type": "code",
   "execution_count": 34,
   "metadata": {},
   "outputs": [],
   "source": [
    "# Export the City_Data into a csv\n",
    "final_city_data.to_csv(output_data_file, index=False)"
   ]
  },
  {
   "cell_type": "markdown",
   "metadata": {},
   "source": [
    "## Plotting the Data\n",
    "* Use proper labeling of the plots using plot titles (including date of analysis) and axes labels.\n",
    "* Save the plotted figures as .pngs."
   ]
  },
  {
   "cell_type": "markdown",
   "metadata": {},
   "source": [
    "## Latitude vs. Temperature Plot"
   ]
  },
  {
   "cell_type": "code",
   "execution_count": 35,
   "metadata": {},
   "outputs": [],
   "source": [
    "def savefig(filename):\n",
    "    plt.savefig(f\"images/{filename}.png\")"
   ]
  },
  {
   "cell_type": "code",
   "execution_count": 37,
   "metadata": {
    "scrolled": true
   },
   "outputs": [
    {
     "data": {
      "image/png": "[encoded data removed]",
      "text/plain": [
       "<Figure size 432x288 with 1 Axes>"
      ]
     },
     "metadata": {
      "needs_background": "light"
     },
     "output_type": "display_data"
    }
   ],
   "source": [
    "def plot_lat_v_temp(df):\n",
    "    plot = df.plot(kind=\"scatter\", \\\n",
    "            x = City_Weather_Columns.lat, y = City_Weather_Columns.max_temp)\n",
    "    plt.title(\"Latitude vs Maximum Temperature\")\n",
    "    plt.ylabel(\"Max Temp (Kelvin)\")\n",
    "    plt.xlabel(\"Latitude\")\n",
    "\n",
    "plot_lat_v_temp(final_city_data)\n",
    "plt.tight_layout()\n",
    "savefig(\"lat_v_temp\")\n",
    "plt.show()"
   ]
  },
  {
   "cell_type": "markdown",
   "metadata": {},
   "source": [
    "## Latitude vs. Humidity Plot"
   ]
  },
  {
   "cell_type": "code",
   "execution_count": 38,
   "metadata": {},
   "outputs": [
    {
     "data": {
      "image/png": "[encoded data removed]",
      "text/plain": [
       "<Figure size 432x288 with 1 Axes>"
      ]
     },
     "metadata": {
      "needs_background": "light"
     },
     "output_type": "display_data"
    }
   ],
   "source": [
    "def plot_lat_v_humid(df):\n",
    "    plot = df.plot(kind=\"scatter\", \\\n",
    "            x = City_Weather_Columns.lat, y = City_Weather_Columns.humidity)\n",
    "    plt.title(\"Latitude vs Humidity\")\n",
    "    plt.ylabel(\"Humidity (%)\")\n",
    "    plt.xlabel(\"Latitude\")\n",
    "\n",
    "plot_lat_v_humid(final_city_data)\n",
    "plt.tight_layout()\n",
    "savefig(\"lat_v_humid\")\n",
    "plt.show()"
   ]
  },
  {
   "cell_type": "markdown",
   "metadata": {},
   "source": [
    "## Latitude vs. Cloudiness Plot"
   ]
  },
  {
   "cell_type": "code",
   "execution_count": 39,
   "metadata": {},
   "outputs": [
    {
     "data": {
      "image/png": "[encoded data removed]",
      "text/plain": [
       "<Figure size 432x288 with 1 Axes>"
      ]
     },
     "metadata": {
      "needs_background": "light"
     },
     "output_type": "display_data"
    }
   ],
   "source": [
    "def plot_lat_v_cloud(df):\n",
    "    plot = df.plot(kind=\"scatter\", \\\n",
    "            x = City_Weather_Columns.lat, y = City_Weather_Columns.cloudiness)\n",
    "    plt.title(\"Latitude vs Cloudiness\")\n",
    "    plt.ylabel(\"Cloudiness (%)\")\n",
    "    plt.xlabel(\"Latitude\")\n",
    "\n",
    "plot_lat_v_cloud(final_city_data)\n",
    "plt.tight_layout()\n",
    "savefig(\"lat_v_cloud\")\n",
    "plt.show()"
   ]
  },
  {
   "cell_type": "markdown",
   "metadata": {},
   "source": [
    "## Latitude vs. Wind Speed Plot"
   ]
  },
  {
   "cell_type": "code",
   "execution_count": 40,
   "metadata": {},
   "outputs": [
    {
     "data": {
      "image/png": "[encoded data removed]",
      "text/plain": [
       "<Figure size 432x288 with 1 Axes>"
      ]
     },
     "metadata": {
      "needs_background": "light"
     },
     "output_type": "display_data"
    }
   ],
   "source": [
    "def plot_lat_v_wind(df):\n",
    "    df.plot(kind=\"scatter\", \\\n",
    "            x = City_Weather_Columns.lat, y = City_Weather_Columns.wind_speed)\n",
    "    plt.title(\"Latitude vs Wind Speed\")\n",
    "    plt.ylabel(\"Wind Speed (mph)\")\n",
    "    plt.xlabel(\"Latitude\")\n",
    "\n",
    "plot_lat_v_wind(final_city_data)\n",
    "plt.tight_layout()\n",
    "savefig(\"lat_v_wind\")\n",
    "plt.show()"
   ]
  },
  {
   "cell_type": "markdown",
   "metadata": {},
   "source": [
    "## Linear Regression"
   ]
  },
  {
   "cell_type": "code",
   "execution_count": 21,
   "metadata": {},
   "outputs": [],
   "source": [
    "# OPTIONAL: Create a function to create Linear Regression plots\n",
    "def plot_lin_reg(dataframe, x_col, y_col):\n",
    "    x_values = dataframe[x_col]\n",
    "    y_values = dataframe[y_col]\n",
    "    (slope, intercept, rvalue, pvalue, stderr) = linregress(x_values, y_values)\n",
    "    regress_values = x_values * slope + intercept\n",
    "    equation = \"y = \" + str(round(slope,2)) + \"x + \" + str(round(intercept,2))\n",
    "    regress_plot, = plt.plot(x_values, regress_values, \"r-\", label=equation)\n",
    "    plt.legend(handles=[regress_plot], loc=\"best\")\n",
    "    print(f\"The r-squared value is {rvalue * rvalue}\")"
   ]
  },
  {
   "cell_type": "code",
   "execution_count": 22,
   "metadata": {},
   "outputs": [
    {
     "data": {
      "text/html": [
       "<div>\n",
       "<style scoped>\n",
       "    .dataframe tbody tr th:only-of-type {\n",
       "        vertical-align: middle;\n",
       "    }\n",
       "\n",
       "    .dataframe tbody tr th {\n",
       "        vertical-align: top;\n",
       "    }\n",
       "\n",
       "    .dataframe thead th {\n",
       "        text-align: right;\n",
       "    }\n",
       "</style>\n",
       "<table border=\"1\" class=\"dataframe\">\n",
       "  <thead>\n",
       "    <tr style=\"text-align: right;\">\n",
       "      <th></th>\n",
       "      <th>Lat</th>\n",
       "      <th>Max Temp</th>\n",
       "      <th>Humidity</th>\n",
       "      <th>Cloudiness</th>\n",
       "      <th>Wind Speed</th>\n",
       "    </tr>\n",
       "  </thead>\n",
       "  <tbody>\n",
       "    <tr>\n",
       "      <th>0</th>\n",
       "      <td>40.87</td>\n",
       "      <td>293.15</td>\n",
       "      <td>72</td>\n",
       "      <td>75</td>\n",
       "      <td>3.60</td>\n",
       "    </tr>\n",
       "    <tr>\n",
       "      <th>4</th>\n",
       "      <td>54.43</td>\n",
       "      <td>282.84</td>\n",
       "      <td>90</td>\n",
       "      <td>0</td>\n",
       "      <td>3.19</td>\n",
       "    </tr>\n",
       "    <tr>\n",
       "      <th>6</th>\n",
       "      <td>62.67</td>\n",
       "      <td>291.65</td>\n",
       "      <td>65</td>\n",
       "      <td>8</td>\n",
       "      <td>0.15</td>\n",
       "    </tr>\n",
       "    <tr>\n",
       "      <th>7</th>\n",
       "      <td>55.70</td>\n",
       "      <td>285.93</td>\n",
       "      <td>76</td>\n",
       "      <td>0</td>\n",
       "      <td>2.00</td>\n",
       "    </tr>\n",
       "    <tr>\n",
       "      <th>8</th>\n",
       "      <td>70.47</td>\n",
       "      <td>282.15</td>\n",
       "      <td>61</td>\n",
       "      <td>75</td>\n",
       "      <td>4.10</td>\n",
       "    </tr>\n",
       "  </tbody>\n",
       "</table>\n",
       "</div>"
      ],
      "text/plain": [
       "     Lat  Max Temp  Humidity  Cloudiness  Wind Speed\n",
       "0  40.87    293.15        72          75        3.60\n",
       "4  54.43    282.84        90           0        3.19\n",
       "6  62.67    291.65        65           8        0.15\n",
       "7  55.70    285.93        76           0        2.00\n",
       "8  70.47    282.15        61          75        4.10"
      ]
     },
     "execution_count": 22,
     "metadata": {},
     "output_type": "execute_result"
    }
   ],
   "source": [
    "# Create Northern and Southern Hemisphere DataFrames\n",
    "north_df = final_city_data.loc[final_city_data[City_Weather_Columns.lat] >= 0]\n",
    "north_df.head()"
   ]
  },
  {
   "cell_type": "code",
   "execution_count": 23,
   "metadata": {},
   "outputs": [
    {
     "data": {
      "text/html": [
       "<div>\n",
       "<style scoped>\n",
       "    .dataframe tbody tr th:only-of-type {\n",
       "        vertical-align: middle;\n",
       "    }\n",
       "\n",
       "    .dataframe tbody tr th {\n",
       "        vertical-align: top;\n",
       "    }\n",
       "\n",
       "    .dataframe thead th {\n",
       "        text-align: right;\n",
       "    }\n",
       "</style>\n",
       "<table border=\"1\" class=\"dataframe\">\n",
       "  <thead>\n",
       "    <tr style=\"text-align: right;\">\n",
       "      <th></th>\n",
       "      <th>Lat</th>\n",
       "      <th>Max Temp</th>\n",
       "      <th>Humidity</th>\n",
       "      <th>Cloudiness</th>\n",
       "      <th>Wind Speed</th>\n",
       "    </tr>\n",
       "  </thead>\n",
       "  <tbody>\n",
       "    <tr>\n",
       "      <th>1</th>\n",
       "      <td>-33.59</td>\n",
       "      <td>290.72</td>\n",
       "      <td>43</td>\n",
       "      <td>0</td>\n",
       "      <td>4.48</td>\n",
       "    </tr>\n",
       "    <tr>\n",
       "      <th>2</th>\n",
       "      <td>-34.53</td>\n",
       "      <td>284.15</td>\n",
       "      <td>93</td>\n",
       "      <td>0</td>\n",
       "      <td>1.50</td>\n",
       "    </tr>\n",
       "    <tr>\n",
       "      <th>3</th>\n",
       "      <td>-0.72</td>\n",
       "      <td>297.51</td>\n",
       "      <td>79</td>\n",
       "      <td>88</td>\n",
       "      <td>5.45</td>\n",
       "    </tr>\n",
       "    <tr>\n",
       "      <th>5</th>\n",
       "      <td>-22.96</td>\n",
       "      <td>296.15</td>\n",
       "      <td>15</td>\n",
       "      <td>0</td>\n",
       "      <td>4.10</td>\n",
       "    </tr>\n",
       "    <tr>\n",
       "      <th>9</th>\n",
       "      <td>-4.20</td>\n",
       "      <td>293.18</td>\n",
       "      <td>75</td>\n",
       "      <td>11</td>\n",
       "      <td>2.21</td>\n",
       "    </tr>\n",
       "  </tbody>\n",
       "</table>\n",
       "</div>"
      ],
      "text/plain": [
       "     Lat  Max Temp  Humidity  Cloudiness  Wind Speed\n",
       "1 -33.59    290.72        43           0        4.48\n",
       "2 -34.53    284.15        93           0        1.50\n",
       "3  -0.72    297.51        79          88        5.45\n",
       "5 -22.96    296.15        15           0        4.10\n",
       "9  -4.20    293.18        75          11        2.21"
      ]
     },
     "execution_count": 23,
     "metadata": {},
     "output_type": "execute_result"
    }
   ],
   "source": [
    "south_df = final_city_data.loc[final_city_data[City_Weather_Columns.lat] < 0]\n",
    "south_df.head()"
   ]
  },
  {
   "cell_type": "markdown",
   "metadata": {},
   "source": [
    "####  Northern Hemisphere - Max Temp vs. Latitude Linear Regression"
   ]
  },
  {
   "cell_type": "code",
   "execution_count": 41,
   "metadata": {},
   "outputs": [
    {
     "name": "stdout",
     "output_type": "stream",
     "text": [
      "The r-squared value is 0.44873600980268796\n"
     ]
    },
    {
     "data": {
      "image/png": "[encoded data removed]",
      "text/plain": [
       "<Figure size 432x288 with 1 Axes>"
      ]
     },
     "metadata": {
      "needs_background": "light"
     },
     "output_type": "display_data"
    }
   ],
   "source": [
    "plot_lat_v_temp(north_df)\n",
    "plot_lin_reg(north_df, City_Weather_Columns.lat, City_Weather_Columns.max_temp)\n",
    "plt.tight_layout()\n",
    "savefig(\"north_lat_v_temp\")\n",
    "plt.show()"
   ]
  },
  {
   "cell_type": "markdown",
   "metadata": {},
   "source": [
    "####  Southern Hemisphere - Max Temp vs. Latitude Linear Regression"
   ]
  },
  {
   "cell_type": "code",
   "execution_count": 42,
   "metadata": {},
   "outputs": [
    {
     "name": "stdout",
     "output_type": "stream",
     "text": [
      "The r-squared value is 0.6494338775182205\n"
     ]
    },
    {
     "data": {
      "image/png": "[encoded data removed]",
      "text/plain": [
       "<Figure size 432x288 with 1 Axes>"
      ]
     },
     "metadata": {
      "needs_background": "light"
     },
     "output_type": "display_data"
    }
   ],
   "source": [
    "plot_lat_v_temp(south_df)\n",
    "plot_lin_reg(south_df, City_Weather_Columns.lat, City_Weather_Columns.max_temp)\n",
    "plt.tight_layout()\n",
    "savefig(\"south_lat_v_temp\")\n",
    "plt.show()"
   ]
  },
  {
   "cell_type": "markdown",
   "metadata": {},
   "source": [
    "####  Northern Hemisphere - Humidity (%) vs. Latitude Linear Regression"
   ]
  },
  {
   "cell_type": "code",
   "execution_count": 43,
   "metadata": {},
   "outputs": [
    {
     "name": "stdout",
     "output_type": "stream",
     "text": [
      "The r-squared value is 0.0012616360166026429\n"
     ]
    },
    {
     "data": {
      "image/png": "[encoded data removed]",
      "text/plain": [
       "<Figure size 432x288 with 1 Axes>"
      ]
     },
     "metadata": {
      "needs_background": "light"
     },
     "output_type": "display_data"
    }
   ],
   "source": [
    "plot_lat_v_humid(north_df)\n",
    "plot_lin_reg(north_df, City_Weather_Columns.lat, City_Weather_Columns.humidity)\n",
    "plt.tight_layout()\n",
    "savefig(\"north_lat_v_humid\")\n",
    "plt.show()"
   ]
  },
  {
   "cell_type": "markdown",
   "metadata": {},
   "source": [
    "####  Southern Hemisphere - Humidity (%) vs. Latitude Linear Regression"
   ]
  },
  {
   "cell_type": "code",
   "execution_count": 44,
   "metadata": {},
   "outputs": [
    {
     "name": "stdout",
     "output_type": "stream",
     "text": [
      "The r-squared value is 0.00034967350347296346\n"
     ]
    },
    {
     "data": {
      "image/png": "[encoded data removed]",
      "text/plain": [
       "<Figure size 432x288 with 1 Axes>"
      ]
     },
     "metadata": {
      "needs_background": "light"
     },
     "output_type": "display_data"
    }
   ],
   "source": [
    "plot_lat_v_humid(south_df)\n",
    "plot_lin_reg(south_df, City_Weather_Columns.lat, City_Weather_Columns.humidity)\n",
    "plt.tight_layout()\n",
    "savefig(\"south_lat_v_humid\")\n",
    "plt.show()"
   ]
  },
  {
   "cell_type": "markdown",
   "metadata": {},
   "source": [
    "####  Northern Hemisphere - Cloudiness (%) vs. Latitude Linear Regression"
   ]
  },
  {
   "cell_type": "code",
   "execution_count": 45,
   "metadata": {},
   "outputs": [
    {
     "name": "stdout",
     "output_type": "stream",
     "text": [
      "The r-squared value is 0.008977956705587183\n"
     ]
    },
    {
     "data": {
      "image/png": "[encoded data removed]",
      "text/plain": [
       "<Figure size 432x288 with 1 Axes>"
      ]
     },
     "metadata": {
      "needs_background": "light"
     },
     "output_type": "display_data"
    }
   ],
   "source": [
    "plot_lat_v_cloud(north_df)\n",
    "plot_lin_reg(north_df, City_Weather_Columns.lat, City_Weather_Columns.cloudiness)\n",
    "plt.tight_layout()\n",
    "savefig(\"north_lat_v_cloud\")\n",
    "plt.show()"
   ]
  },
  {
   "cell_type": "markdown",
   "metadata": {},
   "source": [
    "####  Southern Hemisphere - Cloudiness (%) vs. Latitude Linear Regression"
   ]
  },
  {
   "cell_type": "code",
   "execution_count": 46,
   "metadata": {},
   "outputs": [
    {
     "name": "stdout",
     "output_type": "stream",
     "text": [
      "The r-squared value is 0.006924544951945915\n"
     ]
    },
    {
     "data": {
      "image/png": "[encoded data removed]",
      "text/plain": [
       "<Figure size 432x288 with 1 Axes>"
      ]
     },
     "metadata": {
      "needs_background": "light"
     },
     "output_type": "display_data"
    }
   ],
   "source": [
    "plot_lat_v_cloud(south_df)\n",
    "plot_lin_reg(south_df, City_Weather_Columns.lat, City_Weather_Columns.cloudiness)\n",
    "plt.tight_layout()\n",
    "savefig(\"south_lat_v_cloud\")\n",
    "plt.show()"
   ]
  },
  {
   "cell_type": "markdown",
   "metadata": {},
   "source": [
    "####  Northern Hemisphere - Wind Speed (mph) vs. Latitude Linear Regression"
   ]
  },
  {
   "cell_type": "code",
   "execution_count": 30,
   "metadata": {},
   "outputs": [
    {
     "name": "stdout",
     "output_type": "stream",
     "text": [
      "The r-squared value is 0.0003690465023236862\n"
     ]
    },
    {
     "data": {
      "image/png": "[encoded data removed]",
      "text/plain": [
       "<Figure size 432x288 with 1 Axes>"
      ]
     },
     "metadata": {
      "needs_background": "light"
     },
     "output_type": "display_data"
    }
   ],
   "source": [
    "plot_lat_v_wind(north_df)\n",
    "plot_lin_reg(north_df, City_Weather_Columns.lat, City_Weather_Columns.wind_speed)\n",
    "plt.tight_layout()\n",
    "plt.show()"
   ]
  },
  {
   "cell_type": "markdown",
   "metadata": {},
   "source": [
    "####  Southern Hemisphere - Wind Speed (mph) vs. Latitude Linear Regression"
   ]
  },
  {
   "cell_type": "code",
   "execution_count": 31,
   "metadata": {},
   "outputs": [
    {
     "name": "stdout",
     "output_type": "stream",
     "text": [
      "The r-squared value is 0.021336300387709055\n"
     ]
    },
    {
     "data": {
      "image/png": "[encoded data removed]",
      "text/plain": [
       "<Figure size 432x288 with 1 Axes>"
      ]
     },
     "metadata": {
      "needs_background": "light"
     },
     "output_type": "display_data"
    }
   ],
   "source": [
    "plot_lat_v_wind(south_df)\n",
    "plot_lin_reg(south_df, City_Weather_Columns.lat, City_Weather_Columns.wind_speed)\n",
    "plt.tight_layout()\n",
    "plt.show()"
   ]
  },
  {
   "cell_type": "code",
   "execution_count": null,
   "metadata": {},
   "outputs": [],
   "source": []
  }
 ],
 "metadata": {
  "anaconda-cloud": {},
  "kernel_info": {
   "name": "python3"
  },
  "kernelspec": {
   "display_name": "Python 3",
   "language": "python",
   "name": "python3"
  },
  "language_info": {
   "codemirror_mode": {
    "name": "ipython",
    "version": 3
   },
   "file_extension": ".py",
   "mimetype": "text/x-python",
   "name": "python",
   "nbconvert_exporter": "python",
   "pygments_lexer": "ipython3",
   "version": "3.6.10"
  },
  "latex_envs": {
   "LaTeX_envs_menu_present": true,
   "autoclose": false,
   "autocomplete": true,
   "bibliofile": "biblio.bib",
   "cite_by": "apalike",
   "current_citInitial": 1,
   "eqLabelWithNumbers": true,
   "eqNumInitial": 1,
   "hotkeys": {
    "equation": "Ctrl-E",
    "itemize": "Ctrl-I"
   },
   "labels_anchors": false,
   "latex_user_defs": false,
   "report_style_numbering": false,
   "user_envs_cfg": false
  },
  "nteract": {
   "version": "0.12.3"
  }
 },
 "nbformat": 4,
 "nbformat_minor": 2
}
