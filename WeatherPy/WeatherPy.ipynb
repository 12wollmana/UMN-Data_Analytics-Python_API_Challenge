{
 "cells": [
  {
   "cell_type": "markdown",
   "metadata": {},
   "source": [
    "# WeatherPy - Aaron Wollman\n",
    "----"
   ]
  },
  {
   "cell_type": "code",
   "execution_count": 1,
   "metadata": {
    "scrolled": true
   },
   "outputs": [],
   "source": [
    "# Dependencies and Setup\n",
    "import matplotlib.pyplot as plt\n",
    "import pandas as pd\n",
    "import numpy as np\n",
    "import requests\n",
    "import time\n",
    "from scipy.stats import linregress\n",
    "\n",
    "# Incorporated citipy to determine city based on latitude and longitude\n",
    "from citipy import citipy\n",
    "\n",
    "# Import API key\n",
    "import sys\n",
    "sys.path.append(\"..\")\n",
    "from api_keys import weather_api_key\n",
    "\n",
    "# Output File (CSV)\n",
    "output_data_file = \"output_data/cities.csv\"\n",
    "\n",
    "# Range of latitudes and longitudes\n",
    "lat_range = (-90, 90)\n",
    "lng_range = (-180, 180)"
   ]
  },
  {
   "cell_type": "markdown",
   "metadata": {},
   "source": [
    "## Generate Cities List"
   ]
  },
  {
   "cell_type": "code",
   "execution_count": 2,
   "metadata": {},
   "outputs": [
    {
     "data": {
      "text/plain": [
       "627"
      ]
     },
     "execution_count": 2,
     "metadata": {},
     "output_type": "execute_result"
    }
   ],
   "source": [
    "# List for holding lat_lngs and cities\n",
    "lat_lngs = []\n",
    "cities = []\n",
    "\n",
    "# Create a set of random lat and lng combinations\n",
    "sample_size = 1500\n",
    "lats = np.random.uniform(lat_range[0], lat_range[1], size=sample_size)\n",
    "lngs = np.random.uniform(lng_range[0], lng_range[1], size=sample_size)\n",
    "lat_lngs = zip(lats, lngs)\n",
    "\n",
    "# Identify nearest city for each lat, lng combination\n",
    "for lat_lng in lat_lngs:\n",
    "    city = citipy.nearest_city(lat_lng[0], lat_lng[1]).city_name\n",
    "    \n",
    "    # If the city is unique, then add it to a our cities list\n",
    "    if city not in cities:\n",
    "        cities.append(city)\n",
    "\n",
    "# Print the city count to confirm sufficient count\n",
    "len(cities)"
   ]
  },
  {
   "cell_type": "markdown",
   "metadata": {},
   "source": [
    "### Perform API Calls\n",
    "* Perform a weather check on each city using a series of successive API calls.\n",
    "* Include a print log of each city as it'sbeing processed (with the city number and city name).\n"
   ]
  },
  {
   "cell_type": "code",
   "execution_count": 3,
   "metadata": {},
   "outputs": [],
   "source": [
    "# Function to call OpenWeatherMap's API\n",
    "weather_baseurl = \"http://api.openweathermap.org/data/2.5/weather?\"\n",
    "\n",
    "def get_city_weather(city):\n",
    "    weather_params = {\n",
    "        \"appid\" : weather_api_key,\n",
    "        \"q\" : city,\n",
    "        \"units\" : \"Imperial\"\n",
    "    }\n",
    "    \n",
    "    weather_response = requests.get(weather_baseurl, params = weather_params)\n",
    "    return weather_response.json()"
   ]
  },
  {
   "cell_type": "code",
   "execution_count": 4,
   "metadata": {},
   "outputs": [],
   "source": [
    "# Helpers to save data from JSON to an object\n",
    "class City_Weather_Columns:\n",
    "    city = \"City\"\n",
    "    lat = \"Lat\"\n",
    "    lng = \"Lng\"\n",
    "    max_temp = \"Max Temp\"\n",
    "    humidity = \"Humidity\"\n",
    "    cloudiness = \"Cloudiness\"\n",
    "    wind_speed = \"Wind Speed\"\n",
    "    country = \"country\"\n",
    "    date = \"Date\"\n",
    "       \n",
    "def process_weather_json(json):\n",
    "    return {\n",
    "        City_Weather_Columns.city : json[\"name\"],\n",
    "        City_Weather_Columns.lat : json[\"coord\"][\"lat\"],\n",
    "        City_Weather_Columns.lng : json[\"coord\"][\"lon\"],\n",
    "        City_Weather_Columns.max_temp : json[\"main\"][\"temp_max\"],\n",
    "        City_Weather_Columns.humidity : json[\"main\"][\"humidity\"],\n",
    "        City_Weather_Columns.cloudiness : json[\"clouds\"][\"all\"],\n",
    "        City_Weather_Columns.wind_speed : json[\"wind\"][\"speed\"],\n",
    "        City_Weather_Columns.country : json[\"sys\"][\"country\"],\n",
    "        City_Weather_Columns.date : json[\"dt\"]\n",
    "    }"
   ]
  },
  {
   "cell_type": "code",
   "execution_count": 5,
   "metadata": {},
   "outputs": [
    {
     "name": "stdout",
     "output_type": "stream",
     "text": [
      "Beginning Data Retrieval\n",
      "-----------------------------\n",
      "Processing Record 1 of Set 1 | Pitimbu\n",
      "Processing Record 2 of Set 1 | Kenai\n",
      "Processing Record 3 of Set 1 | Bowling Green\n",
      "Processing Record 4 of Set 1 | New Norfolk\n",
      "City not found. Skipping...\n",
      "Processing Record 6 of Set 1 | Kavaratti\n",
      "Processing Record 7 of Set 1 | Mahébourg\n",
      "Processing Record 8 of Set 1 | Saint-Philippe\n",
      "Processing Record 9 of Set 1 | Alofi\n",
      "Processing Record 10 of Set 1 | Mataura\n",
      "Processing Record 11 of Set 1 | Redlands\n",
      "City not found. Skipping...\n",
      "Processing Record 13 of Set 1 | Hobart\n",
      "Processing Record 14 of Set 1 | Albany\n",
      "Processing Record 15 of Set 1 | Hermanus\n",
      "Processing Record 16 of Set 1 | Khatanga\n",
      "Processing Record 17 of Set 1 | Codrington\n",
      "Processing Record 18 of Set 1 | Qaanaaq\n",
      "Processing Record 19 of Set 1 | Rundu\n",
      "City not found. Skipping...\n",
      "City not found. Skipping...\n",
      "Processing Record 22 of Set 1 | Mudgal\n",
      "Processing Record 23 of Set 1 | Carnarvon\n",
      "Processing Record 24 of Set 1 | Stornoway\n",
      "Processing Record 25 of Set 1 | Kazachinskoye\n",
      "Processing Record 26 of Set 1 | Guerrero Negro\n",
      "Processing Record 27 of Set 1 | Vaini\n",
      "Processing Record 28 of Set 1 | Rosetta\n",
      "Processing Record 29 of Set 1 | Punta Arenas\n",
      "Processing Record 30 of Set 1 | Baltay\n",
      "Processing Record 31 of Set 1 | Atuona\n",
      "Processing Record 32 of Set 1 | East London\n",
      "Processing Record 33 of Set 1 | Bourail\n",
      "Processing Record 34 of Set 1 | Tuktoyaktuk\n",
      "Processing Record 35 of Set 1 | Levice\n",
      "Processing Record 36 of Set 1 | Haines Junction\n",
      "Processing Record 37 of Set 1 | Rikitea\n",
      "Processing Record 38 of Set 1 | Iqaluit\n",
      "Processing Record 39 of Set 1 | Jamestown\n",
      "Processing Record 40 of Set 1 | Abonnema\n",
      "Processing Record 41 of Set 1 | Pisco\n",
      "Processing Record 42 of Set 1 | Marzuq\n",
      "Processing Record 43 of Set 1 | Nikolskoye\n",
      "Processing Record 44 of Set 1 | Tasiilaq\n",
      "Processing Record 45 of Set 1 | College\n",
      "Processing Record 46 of Set 1 | Castro\n",
      "Processing Record 47 of Set 1 | Padang\n",
      "Processing Record 48 of Set 1 | Huilong\n",
      "City not found. Skipping...\n",
      "City not found. Skipping...\n",
      "Processing Record 1 of Set 2 | Kushima\n",
      "Processing Record 2 of Set 2 | Saint-Pierre\n",
      "Processing Record 3 of Set 2 | Batagay-Alyta\n",
      "Processing Record 4 of Set 2 | Busselton\n",
      "Processing Record 5 of Set 2 | Butaritari\n",
      "Processing Record 6 of Set 2 | Constitución\n",
      "Processing Record 7 of Set 2 | Kapaa\n",
      "Processing Record 8 of Set 2 | George Town\n",
      "Processing Record 9 of Set 2 | São Filipe\n",
      "Processing Record 10 of Set 2 | Karratha\n",
      "Processing Record 11 of Set 2 | Abu Dhabi\n",
      "Processing Record 12 of Set 2 | Talnakh\n",
      "Processing Record 13 of Set 2 | Havre-St-Pierre\n",
      "City not found. Skipping...\n",
      "Processing Record 15 of Set 2 | Micheweni\n",
      "Processing Record 16 of Set 2 | Hamilton\n",
      "City not found. Skipping...\n",
      "City not found. Skipping...\n",
      "Processing Record 19 of Set 2 | Praia da Vitória\n",
      "Processing Record 20 of Set 2 | Jalu\n",
      "Processing Record 21 of Set 2 | Ushuaia\n",
      "Processing Record 22 of Set 2 | Broome\n",
      "Processing Record 23 of Set 2 | Taltal\n",
      "Processing Record 24 of Set 2 | Saint George\n",
      "City not found. Skipping...\n",
      "Processing Record 26 of Set 2 | Cayenne\n",
      "Processing Record 27 of Set 2 | Nelson Bay\n",
      "Processing Record 28 of Set 2 | Yatou\n",
      "Processing Record 29 of Set 2 | Gravelbourg\n",
      "Processing Record 30 of Set 2 | Kununurra\n",
      "Processing Record 31 of Set 2 | Ampanihy\n",
      "Processing Record 32 of Set 2 | Hilo\n",
      "Processing Record 33 of Set 2 | Saint Paul Harbor\n",
      "Processing Record 34 of Set 2 | Upernavik\n",
      "Processing Record 35 of Set 2 | Shāhpur\n",
      "Processing Record 36 of Set 2 | Carutapera\n",
      "Processing Record 37 of Set 2 | Hithadhoo\n",
      "Processing Record 38 of Set 2 | Pevek\n",
      "Processing Record 39 of Set 2 | Ponta Delgada\n",
      "Processing Record 40 of Set 2 | Mareeba\n",
      "Processing Record 41 of Set 2 | Birjand\n",
      "Processing Record 42 of Set 2 | Tomari\n",
      "Processing Record 43 of Set 2 | Puerto Ayora\n",
      "Processing Record 44 of Set 2 | Whitehorse\n",
      "Processing Record 45 of Set 2 | Auki\n",
      "Processing Record 46 of Set 2 | Dikson\n",
      "Processing Record 47 of Set 2 | Ceres\n",
      "Processing Record 48 of Set 2 | West Odessa\n",
      "Processing Record 49 of Set 2 | Fortuna\n",
      "Processing Record 50 of Set 2 | Vallenar\n",
      "Processing Record 1 of Set 3 | Bukachacha\n",
      "Processing Record 2 of Set 3 | Orange Walk District\n",
      "Processing Record 3 of Set 3 | Isangel\n",
      "Processing Record 4 of Set 3 | Mar del Plata\n",
      "Processing Record 5 of Set 3 | Chumphon\n",
      "City not found. Skipping...\n",
      "Processing Record 7 of Set 3 | Lüderitz\n",
      "City not found. Skipping...\n",
      "Processing Record 9 of Set 3 | Ýpsonas\n",
      "Processing Record 10 of Set 3 | Saint Anthony\n",
      "Processing Record 11 of Set 3 | São José do Belmonte\n",
      "Processing Record 12 of Set 3 | Yellowknife\n",
      "Processing Record 13 of Set 3 | Atar\n",
      "Processing Record 14 of Set 3 | Arraial do Cabo\n",
      "Processing Record 15 of Set 3 | Champerico\n",
      "Processing Record 16 of Set 3 | Pinega\n",
      "Processing Record 17 of Set 3 | Greeley\n",
      "City not found. Skipping...\n",
      "City not found. Skipping...\n",
      "Processing Record 20 of Set 3 | Middelkerke\n",
      "Processing Record 21 of Set 3 | Pangnirtung\n",
      "Processing Record 22 of Set 3 | Mana\n",
      "Processing Record 23 of Set 3 | Kuytun\n",
      "Processing Record 24 of Set 3 | Mago\n",
      "Processing Record 25 of Set 3 | Celestún\n",
      "Processing Record 26 of Set 3 | Saskylakh\n",
      "Processing Record 27 of Set 3 | Avarua\n",
      "Processing Record 28 of Set 3 | Painesville\n",
      "Processing Record 29 of Set 3 | Brae\n",
      "Processing Record 30 of Set 3 | Cape Town\n",
      "Processing Record 31 of Set 3 | Tonami\n",
      "Processing Record 32 of Set 3 | Touros\n",
      "Processing Record 33 of Set 3 | Kristinestad\n",
      "Processing Record 34 of Set 3 | Cherskiy\n",
      "Processing Record 35 of Set 3 | Vostok\n",
      "Processing Record 36 of Set 3 | Hargeisa\n",
      "Processing Record 37 of Set 3 | Thompson\n",
      "Processing Record 38 of Set 3 | Novochernorechenskiy\n",
      "Processing Record 39 of Set 3 | Bluff\n",
      "City not found. Skipping...\n",
      "Processing Record 41 of Set 3 | Islamkot\n",
      "Processing Record 42 of Set 3 | Călăraşi\n",
      "Processing Record 43 of Set 3 | Tilichiki\n",
      "Processing Record 44 of Set 3 | Yumen\n",
      "Processing Record 45 of Set 3 | Gryfice\n",
      "Processing Record 46 of Set 3 | Comodoro Rivadavia\n",
      "Processing Record 47 of Set 3 | Sitka\n",
      "Processing Record 48 of Set 3 | Ağdam\n",
      "Processing Record 49 of Set 3 | Kümmersbruck\n",
      "Processing Record 50 of Set 3 | Verkhnyaya Toyma\n",
      "Processing Record 1 of Set 4 | Port Elizabeth\n",
      "Processing Record 2 of Set 4 | Dunedin\n",
      "Processing Record 3 of Set 4 | San Cristobal\n",
      "Processing Record 4 of Set 4 | Port Alfred\n",
      "Processing Record 5 of Set 4 | Nioro\n",
      "Processing Record 6 of Set 4 | Bambous Virieux\n",
      "Processing Record 7 of Set 4 | Mersing\n",
      "Processing Record 8 of Set 4 | Mweka\n",
      "Processing Record 9 of Set 4 | Waingapu\n",
      "Processing Record 10 of Set 4 | Bengkulu\n",
      "Processing Record 11 of Set 4 | Hutang\n",
      "Processing Record 12 of Set 4 | Airai\n",
      "Processing Record 13 of Set 4 | Mildura\n",
      "Processing Record 14 of Set 4 | Viedma\n",
      "Processing Record 15 of Set 4 | Pāsighāt\n",
      "Processing Record 16 of Set 4 | Clyde River\n",
      "Processing Record 17 of Set 4 | Ilulissat\n",
      "Processing Record 18 of Set 4 | Bredasdorp\n",
      "Processing Record 19 of Set 4 | Sidi Ali\n",
      "Processing Record 20 of Set 4 | Srednekolymsk\n",
      "City not found. Skipping...\n",
      "Processing Record 22 of Set 4 | Pindiga\n",
      "City not found. Skipping...\n",
      "Processing Record 24 of Set 4 | Barcelos\n",
      "Processing Record 25 of Set 4 | Tevriz\n",
      "Processing Record 26 of Set 4 | Hasaki\n",
      "City not found. Skipping...\n",
      "Processing Record 28 of Set 4 | Hong Kong\n",
      "Processing Record 29 of Set 4 | Berbera\n",
      "Processing Record 30 of Set 4 | Teya\n",
      "Processing Record 31 of Set 4 | Umluj\n",
      "City not found. Skipping...\n",
      "Processing Record 33 of Set 4 | Paharpur\n",
      "Processing Record 34 of Set 4 | Ulaangom\n",
      "Processing Record 35 of Set 4 | Ternate\n",
      "Processing Record 36 of Set 4 | Faya\n",
      "Processing Record 37 of Set 4 | Konya Province\n",
      "Processing Record 38 of Set 4 | Elizabeth City\n",
      "Processing Record 39 of Set 4 | Rocha\n",
      "Processing Record 40 of Set 4 | Atikokan\n",
      "Processing Record 41 of Set 4 | Apodaca\n",
      "Processing Record 42 of Set 4 | Kisangani\n",
      "Processing Record 43 of Set 4 | Pokhara\n",
      "Processing Record 44 of Set 4 | Tiksi\n",
      "Processing Record 45 of Set 4 | Lamar\n",
      "Processing Record 46 of Set 4 | Kangaatsiaq\n",
      "Processing Record 47 of Set 4 | Banyo\n",
      "City not found. Skipping...\n",
      "Processing Record 49 of Set 4 | Denpasar\n",
      "Processing Record 50 of Set 4 | Ambilobe\n",
      "Processing Record 1 of Set 5 | Saint-Ambroise\n",
      "Processing Record 2 of Set 5 | Sibolga\n",
      "Processing Record 3 of Set 5 | Husavik\n",
      "Processing Record 4 of Set 5 | Namatanai\n",
      "Processing Record 5 of Set 5 | Ciudad Bolivar\n"
     ]
    },
    {
     "name": "stdout",
     "output_type": "stream",
     "text": [
      "Processing Record 6 of Set 5 | San Patricio\n",
      "Processing Record 7 of Set 5 | Nyimba\n",
      "Processing Record 8 of Set 5 | Barrow\n",
      "Processing Record 9 of Set 5 | San Rafael\n",
      "Processing Record 10 of Set 5 | Najrān\n",
      "Processing Record 11 of Set 5 | Longyearbyen\n",
      "Processing Record 12 of Set 5 | Bocas del Toro\n",
      "City not found. Skipping...\n",
      "Processing Record 14 of Set 5 | Darnah\n",
      "Processing Record 15 of Set 5 | Balikpapan\n",
      "Processing Record 16 of Set 5 | Sambava\n",
      "City not found. Skipping...\n",
      "Processing Record 18 of Set 5 | Russell\n",
      "Processing Record 19 of Set 5 | Talaya\n",
      "Processing Record 20 of Set 5 | Hokitika\n",
      "Processing Record 21 of Set 5 | Mandlā\n",
      "Processing Record 22 of Set 5 | Okha\n",
      "Processing Record 23 of Set 5 | Chokurdakh\n",
      "Processing Record 24 of Set 5 | Phalombe\n",
      "Processing Record 25 of Set 5 | Nchelenge\n",
      "Processing Record 26 of Set 5 | Araouane\n",
      "City not found. Skipping...\n",
      "Processing Record 28 of Set 5 | Narsaq\n",
      "Processing Record 29 of Set 5 | Zhongshu\n",
      "City not found. Skipping...\n",
      "Processing Record 31 of Set 5 | Curicó\n",
      "City not found. Skipping...\n",
      "Processing Record 33 of Set 5 | Galesong\n",
      "Processing Record 34 of Set 5 | Bukoba\n",
      "City not found. Skipping...\n",
      "Processing Record 36 of Set 5 | Gamba\n",
      "Processing Record 37 of Set 5 | Rognan\n",
      "Processing Record 38 of Set 5 | Vila Franca do Campo\n",
      "Processing Record 39 of Set 5 | Bethel\n",
      "Processing Record 40 of Set 5 | Chapais\n",
      "Processing Record 41 of Set 5 | Premià de Mar\n",
      "Processing Record 42 of Set 5 | Manaure\n",
      "Processing Record 43 of Set 5 | Cabo San Lucas\n",
      "Processing Record 44 of Set 5 | Port-Gentil\n",
      "Processing Record 45 of Set 5 | Nizhniy Tsasuchey\n",
      "Processing Record 46 of Set 5 | Manhuaçu\n",
      "Processing Record 47 of Set 5 | Phan Thiet\n",
      "Processing Record 48 of Set 5 | Poconé\n",
      "Processing Record 49 of Set 5 | Christchurch\n",
      "Processing Record 50 of Set 5 | Fairbanks\n",
      "Processing Record 1 of Set 6 | Puri\n",
      "Processing Record 2 of Set 6 | Egvekinot\n",
      "Processing Record 3 of Set 6 | Geraldton\n",
      "Processing Record 4 of Set 6 | Yeniseysk\n",
      "Processing Record 5 of Set 6 | Onega\n",
      "Processing Record 6 of Set 6 | Yangi Marg`ilon\n",
      "Processing Record 7 of Set 6 | Tuatapere\n",
      "Processing Record 8 of Set 6 | Maralal\n",
      "City not found. Skipping...\n",
      "Processing Record 10 of Set 6 | Seara\n",
      "Processing Record 11 of Set 6 | Ahipara\n",
      "Processing Record 12 of Set 6 | Ouadda\n",
      "Processing Record 13 of Set 6 | Gallatin\n",
      "Processing Record 14 of Set 6 | Mogadishu\n",
      "Processing Record 15 of Set 6 | Hualmay\n",
      "Processing Record 16 of Set 6 | Jiangyou\n",
      "Processing Record 17 of Set 6 | Jadu\n",
      "Processing Record 18 of Set 6 | Laas\n",
      "Processing Record 19 of Set 6 | Kirakira\n",
      "Processing Record 20 of Set 6 | Beloha\n",
      "Processing Record 21 of Set 6 | Baruun-Urt\n",
      "Processing Record 22 of Set 6 | Severo-Kuril'sk\n",
      "Processing Record 23 of Set 6 | Kupang\n",
      "Processing Record 24 of Set 6 | Souillac\n",
      "Processing Record 25 of Set 6 | ‘Ewa Beach\n",
      "Processing Record 26 of Set 6 | Andros Town\n",
      "Processing Record 27 of Set 6 | Chui\n",
      "Processing Record 28 of Set 6 | Maceió\n",
      "Processing Record 29 of Set 6 | Khovd\n",
      "Processing Record 30 of Set 6 | Yulara\n",
      "Processing Record 31 of Set 6 | Tandil\n",
      "Processing Record 32 of Set 6 | Tutóia\n",
      "Processing Record 33 of Set 6 | Paracuru\n",
      "Processing Record 34 of Set 6 | Huangmei\n",
      "Processing Record 35 of Set 6 | Lavrentiya\n",
      "Processing Record 36 of Set 6 | Faanui\n",
      "Processing Record 37 of Set 6 | Kachīry\n",
      "Processing Record 38 of Set 6 | Chongwe\n",
      "Processing Record 39 of Set 6 | Getulio Vargas\n",
      "Processing Record 40 of Set 6 | Vao\n",
      "Processing Record 41 of Set 6 | Zhigansk\n",
      "Processing Record 42 of Set 6 | Provideniya\n",
      "Processing Record 43 of Set 6 | Kimbe\n",
      "Processing Record 44 of Set 6 | Debre Birhan\n",
      "Processing Record 45 of Set 6 | La Vergne\n",
      "Processing Record 46 of Set 6 | Rincon\n",
      "Processing Record 47 of Set 6 | Karabük\n",
      "Processing Record 48 of Set 6 | Marrakesh\n",
      "Processing Record 49 of Set 6 | Sur\n",
      "City not found. Skipping...\n",
      "Processing Record 1 of Set 7 | Mount Isa\n",
      "Processing Record 2 of Set 7 | São João da Barra\n",
      "City not found. Skipping...\n",
      "Processing Record 4 of Set 7 | Bathsheba\n",
      "Processing Record 5 of Set 7 | Launceston\n",
      "Processing Record 6 of Set 7 | Nadym\n",
      "Processing Record 7 of Set 7 | Saposoa\n",
      "Processing Record 8 of Set 7 | Flinders\n",
      "Processing Record 9 of Set 7 | Kismayo\n",
      "Processing Record 10 of Set 7 | Union\n",
      "Processing Record 11 of Set 7 | Fare\n",
      "Processing Record 12 of Set 7 | Siocon\n",
      "Processing Record 13 of Set 7 | Qaqortoq\n",
      "Processing Record 14 of Set 7 | Borogontsy\n",
      "Processing Record 15 of Set 7 | Saldanha\n",
      "Processing Record 16 of Set 7 | Svetlaya\n",
      "Processing Record 17 of Set 7 | Algiers\n",
      "Processing Record 18 of Set 7 | Nadvoitsy\n",
      "Processing Record 19 of Set 7 | Kaitangata\n",
      "Processing Record 20 of Set 7 | Chumikan\n",
      "Processing Record 21 of Set 7 | Adrar\n",
      "Processing Record 22 of Set 7 | Tura\n",
      "Processing Record 23 of Set 7 | Dhidhdhoo\n",
      "Processing Record 24 of Set 7 | Makakilo City\n",
      "Processing Record 25 of Set 7 | Guánica\n",
      "Processing Record 26 of Set 7 | Kumul\n",
      "Processing Record 27 of Set 7 | Hambantota\n",
      "Processing Record 28 of Set 7 | Mokhsogollokh\n",
      "Processing Record 29 of Set 7 | Nawalgarh\n",
      "Processing Record 30 of Set 7 | Verkhoyansk\n",
      "Processing Record 31 of Set 7 | Adeje\n",
      "Processing Record 32 of Set 7 | Sistranda\n",
      "City not found. Skipping...\n",
      "Processing Record 34 of Set 7 | Gogrial\n",
      "Processing Record 35 of Set 7 | Sabha\n",
      "Processing Record 36 of Set 7 | Honolulu\n",
      "Processing Record 37 of Set 7 | Kiryat Gat\n",
      "Processing Record 38 of Set 7 | Caniço\n",
      "Processing Record 39 of Set 7 | Mayo\n",
      "Processing Record 40 of Set 7 | Lebu\n",
      "Processing Record 41 of Set 7 | Prince Rupert\n",
      "Processing Record 42 of Set 7 | Nabire\n",
      "Processing Record 43 of Set 7 | Cidreira\n",
      "Processing Record 44 of Set 7 | Zemio\n",
      "Processing Record 45 of Set 7 | Sobolevo\n",
      "Processing Record 46 of Set 7 | Ribeira Grande\n",
      "Processing Record 47 of Set 7 | Andra\n",
      "Processing Record 48 of Set 7 | Oranjestad\n",
      "Processing Record 49 of Set 7 | Porto-Novo\n",
      "Processing Record 50 of Set 7 | Honiara\n",
      "Processing Record 1 of Set 8 | Biasca\n",
      "Processing Record 2 of Set 8 | Sheridan\n",
      "Processing Record 3 of Set 8 | Batagay\n",
      "City not found. Skipping...\n",
      "Processing Record 5 of Set 8 | Tenri\n",
      "Processing Record 6 of Set 8 | Nhulunbuy\n",
      "Processing Record 7 of Set 8 | Mount Gambier\n",
      "Processing Record 8 of Set 8 | Klyuchi\n",
      "Processing Record 9 of Set 8 | Hailar\n",
      "Processing Record 10 of Set 8 | Carballo\n",
      "Processing Record 11 of Set 8 | Morehead\n",
      "Processing Record 12 of Set 8 | Mossamedes\n",
      "Processing Record 13 of Set 8 | Raudeberg\n",
      "Processing Record 14 of Set 8 | Salina\n",
      "Processing Record 15 of Set 8 | Ankpa\n",
      "Processing Record 16 of Set 8 | Arrondissement de Nevers\n",
      "Processing Record 17 of Set 8 | Virginia Beach\n",
      "Processing Record 18 of Set 8 | Katsuura\n",
      "Processing Record 19 of Set 8 | Quatre Cocos\n",
      "Processing Record 20 of Set 8 | Paso del Macho\n",
      "Processing Record 21 of Set 8 | Miguel Hidalgo\n",
      "Processing Record 22 of Set 8 | Laguna\n",
      "Processing Record 23 of Set 8 | Bolobo\n",
      "Processing Record 24 of Set 8 | Loa Janan\n",
      "Processing Record 25 of Set 8 | Berlevåg\n",
      "City not found. Skipping...\n",
      "Processing Record 27 of Set 8 | Magdiwang\n",
      "Processing Record 28 of Set 8 | Tezu\n",
      "Processing Record 29 of Set 8 | São Félix do Xingu\n",
      "Processing Record 30 of Set 8 | Visby\n",
      "Processing Record 31 of Set 8 | Bonfim\n",
      "Processing Record 32 of Set 8 | Conde\n",
      "Processing Record 33 of Set 8 | Ust'-Barguzin\n",
      "Processing Record 34 of Set 8 | Santa Cruz de la Sierra\n",
      "Processing Record 35 of Set 8 | Basco\n",
      "Processing Record 36 of Set 8 | Mnogovershinnyy\n",
      "Processing Record 37 of Set 8 | Asău\n",
      "Processing Record 38 of Set 8 | Nemuro\n",
      "Processing Record 39 of Set 8 | Kuito\n",
      "Processing Record 40 of Set 8 | Lingen\n",
      "Processing Record 41 of Set 8 | Khorixas\n",
      "Processing Record 42 of Set 8 | Salalah\n",
      "Processing Record 43 of Set 8 | Maniitsoq\n",
      "Processing Record 44 of Set 8 | Sørland\n",
      "Processing Record 45 of Set 8 | Ovsyanka\n",
      "Processing Record 46 of Set 8 | Kolpny\n",
      "Processing Record 47 of Set 8 | Marawi\n",
      "Processing Record 48 of Set 8 | Frankfort\n",
      "Processing Record 49 of Set 8 | Poretskoye\n",
      "Processing Record 50 of Set 8 | Mogocha\n",
      "Processing Record 1 of Set 9 | De Aar\n",
      "Processing Record 2 of Set 9 | Norman Wells\n",
      "Processing Record 3 of Set 9 | Warwick\n",
      "Processing Record 4 of Set 9 | Rio Brilhante\n",
      "Processing Record 5 of Set 9 | Asmara\n",
      "Processing Record 6 of Set 9 | Muravlenko\n",
      "Processing Record 7 of Set 9 | Charters Towers\n",
      "Processing Record 8 of Set 9 | Sechura\n",
      "Processing Record 9 of Set 9 | Douglas\n",
      "Processing Record 10 of Set 9 | Gao\n"
     ]
    },
    {
     "name": "stdout",
     "output_type": "stream",
     "text": [
      "Processing Record 11 of Set 9 | Hirara\n",
      "Processing Record 12 of Set 9 | Aklavik\n",
      "Processing Record 13 of Set 9 | Lesnoye\n",
      "Processing Record 14 of Set 9 | Thaba Nchu\n",
      "Processing Record 15 of Set 9 | Port Hardy\n",
      "Processing Record 16 of Set 9 | Kumluca\n",
      "Processing Record 17 of Set 9 | Grand Gaube\n",
      "Processing Record 18 of Set 9 | Matamoros\n",
      "Processing Record 19 of Set 9 | Ancud\n",
      "Processing Record 20 of Set 9 | Bellingham\n",
      "Processing Record 21 of Set 9 | La Ronge\n",
      "Processing Record 22 of Set 9 | Muzaffarabad\n",
      "Processing Record 23 of Set 9 | Palāsbāri\n",
      "Processing Record 24 of Set 9 | Kokopo\n",
      "City not found. Skipping...\n",
      "Processing Record 26 of Set 9 | Vestmannaeyjar\n",
      "Processing Record 27 of Set 9 | Baleno\n",
      "Processing Record 28 of Set 9 | Coyhaique\n",
      "Processing Record 29 of Set 9 | Plettenberg Bay\n",
      "Processing Record 30 of Set 9 | Buenos Aires\n",
      "Processing Record 31 of Set 9 | Tānsen\n",
      "Processing Record 32 of Set 9 | Bulgan\n",
      "Processing Record 33 of Set 9 | Vangaindrano\n",
      "Processing Record 34 of Set 9 | Pangody\n",
      "Processing Record 35 of Set 9 | Poso\n",
      "Processing Record 36 of Set 9 | Marathon\n",
      "Processing Record 37 of Set 9 | Henties Bay\n",
      "Processing Record 38 of Set 9 | Jalalpur Pirwala\n",
      "Processing Record 39 of Set 9 | San Quintín\n",
      "Processing Record 40 of Set 9 | Sauda\n",
      "Processing Record 41 of Set 9 | Hurghada\n",
      "Processing Record 42 of Set 9 | Poum\n",
      "Processing Record 43 of Set 9 | Oranjemund\n",
      "City not found. Skipping...\n",
      "Processing Record 45 of Set 9 | Key Largo\n",
      "Processing Record 46 of Set 9 | Nantucket\n",
      "City not found. Skipping...\n",
      "Processing Record 48 of Set 9 | Omboué\n",
      "Processing Record 49 of Set 9 | Xuzhou\n",
      "Processing Record 50 of Set 9 | Muros\n",
      "Processing Record 1 of Set 10 | Ixtapa\n",
      "Processing Record 2 of Set 10 | North Bend\n",
      "City not found. Skipping...\n",
      "Processing Record 4 of Set 10 | Ketchikan\n",
      "Processing Record 5 of Set 10 | Mazagão\n",
      "Processing Record 6 of Set 10 | Dickinson\n",
      "Processing Record 7 of Set 10 | Callaway\n",
      "Processing Record 8 of Set 10 | Vila Velha\n",
      "City not found. Skipping...\n",
      "Processing Record 10 of Set 10 | Lebanon\n",
      "Processing Record 11 of Set 10 | Ponta do Sol\n",
      "Processing Record 12 of Set 10 | Nanortalik\n",
      "Processing Record 13 of Set 10 | Nome\n",
      "City not found. Skipping...\n",
      "Processing Record 15 of Set 10 | Anadyr\n",
      "Processing Record 16 of Set 10 | Piterka\n",
      "Processing Record 17 of Set 10 | Cimarron Hills\n",
      "Processing Record 18 of Set 10 | Yuncheng\n",
      "Processing Record 19 of Set 10 | Mapiripán\n",
      "Processing Record 20 of Set 10 | Taoudenni\n",
      "Processing Record 21 of Set 10 | Silver City\n",
      "Processing Record 22 of Set 10 | Tual\n",
      "Processing Record 23 of Set 10 | Wamba\n",
      "Processing Record 24 of Set 10 | Agadez\n",
      "Processing Record 25 of Set 10 | Port Hedland\n",
      "Processing Record 26 of Set 10 | Antofagasta\n",
      "Processing Record 27 of Set 10 | Atambua\n",
      "Processing Record 28 of Set 10 | Gal'bshtadt\n",
      "Processing Record 29 of Set 10 | Lorengau\n",
      "City not found. Skipping...\n",
      "Processing Record 31 of Set 10 | Ekhabi\n",
      "City not found. Skipping...\n",
      "City not found. Skipping...\n",
      "Processing Record 34 of Set 10 | Aasiaat\n",
      "Processing Record 35 of Set 10 | Phek\n",
      "Processing Record 36 of Set 10 | Tiarei\n",
      "Processing Record 37 of Set 10 | Bandarbeyla\n",
      "Processing Record 38 of Set 10 | Seymchan\n",
      "Processing Record 39 of Set 10 | Fatehpur\n",
      "Processing Record 40 of Set 10 | Samarkand\n",
      "Processing Record 41 of Set 10 | Quesnel\n",
      "Processing Record 42 of Set 10 | Mackay\n",
      "Processing Record 43 of Set 10 | Biak\n",
      "Processing Record 44 of Set 10 | Kasongo-Lunda\n",
      "Processing Record 45 of Set 10 | Mallāpuram\n",
      "Processing Record 46 of Set 10 | Iberia\n",
      "Processing Record 47 of Set 10 | Coquimbo\n",
      "Processing Record 48 of Set 10 | Gairo\n",
      "Processing Record 49 of Set 10 | Bosaso\n",
      "Processing Record 50 of Set 10 | Klaksvík\n",
      "Processing Record 1 of Set 11 | Avera\n",
      "Processing Record 2 of Set 11 | Meadow Lake\n",
      "Processing Record 3 of Set 11 | Kropyvnytskyi\n",
      "Processing Record 4 of Set 11 | Shirokiy\n",
      "City not found. Skipping...\n",
      "Processing Record 6 of Set 11 | Lagoa\n",
      "Processing Record 7 of Set 11 | Nara\n",
      "City not found. Skipping...\n",
      "Processing Record 9 of Set 11 | Kavieng\n",
      "Processing Record 10 of Set 11 | Praia\n",
      "Processing Record 11 of Set 11 | Honningsvåg\n",
      "Processing Record 12 of Set 11 | Santarém\n",
      "Processing Record 13 of Set 11 | Kokoda\n",
      "Processing Record 14 of Set 11 | Kroya\n",
      "Processing Record 15 of Set 11 | Sungai Raya\n",
      "Processing Record 16 of Set 11 | Moerai\n",
      "Processing Record 17 of Set 11 | Jati\n",
      "Processing Record 18 of Set 11 | Balkanabat\n",
      "Processing Record 19 of Set 11 | Tautira\n",
      "Processing Record 20 of Set 11 | Ariquemes\n",
      "Processing Record 21 of Set 11 | Ongole\n",
      "Processing Record 22 of Set 11 | Ladário\n",
      "Processing Record 23 of Set 11 | Horlivka\n",
      "Processing Record 24 of Set 11 | Banda Aceh\n",
      "Processing Record 25 of Set 11 | Fuyu\n",
      "Processing Record 26 of Set 11 | Yambio\n",
      "Processing Record 27 of Set 11 | Kharp\n",
      "Processing Record 28 of Set 11 | Ngunguru\n",
      "Processing Record 29 of Set 11 | Portland\n",
      "Processing Record 30 of Set 11 | Jacareacanga\n",
      "Processing Record 31 of Set 11 | Antalaha\n",
      "Processing Record 32 of Set 11 | Mehamn\n",
      "Processing Record 33 of Set 11 | Doha\n",
      "Processing Record 34 of Set 11 | Kashgar\n",
      "Processing Record 35 of Set 11 | Terrace\n",
      "Processing Record 36 of Set 11 | Lázaro Cárdenas\n",
      "Processing Record 37 of Set 11 | Wadi Maliz\n",
      "Processing Record 38 of Set 11 | Vung Tau\n",
      "Processing Record 39 of Set 11 | Le Moule\n",
      "Processing Record 40 of Set 11 | Manokwari\n",
      "Processing Record 41 of Set 11 | Rocky Mountain House\n",
      "City not found. Skipping...\n",
      "Processing Record 43 of Set 11 | Tegul'det\n",
      "Processing Record 44 of Set 11 | Pangkalanbuun\n",
      "Processing Record 45 of Set 11 | Dingle\n",
      "Processing Record 46 of Set 11 | São Joaquim\n",
      "Processing Record 47 of Set 11 | Moindou\n",
      "Processing Record 48 of Set 11 | Leh\n",
      "Processing Record 49 of Set 11 | Novo Selo\n",
      "Processing Record 50 of Set 11 | Semenivka\n",
      "Processing Record 1 of Set 12 | Tombouctou\n",
      "Processing Record 2 of Set 12 | Shimoda\n",
      "City not found. Skipping...\n",
      "Processing Record 4 of Set 12 | Mahibadhoo\n",
      "Processing Record 5 of Set 12 | Kiama\n",
      "Processing Record 6 of Set 12 | Villa Zempoala\n",
      "Processing Record 7 of Set 12 | Ocampo\n",
      "Processing Record 8 of Set 12 | Vădeni\n",
      "Processing Record 9 of Set 12 | Cap-aux-Meules\n",
      "Processing Record 10 of Set 12 | Bechem\n",
      "Processing Record 11 of Set 12 | Muroto-misakicho\n",
      "City not found. Skipping...\n",
      "City not found. Skipping...\n",
      "Processing Record 14 of Set 12 | Atemar\n",
      "Processing Record 15 of Set 12 | Homer\n",
      "Processing Record 16 of Set 12 | Baykit\n",
      "Processing Record 17 of Set 12 | Vytegra\n",
      "Processing Record 18 of Set 12 | Smirnykh\n",
      "Processing Record 19 of Set 12 | Bubaque\n",
      "Processing Record 20 of Set 12 | Huangzhai\n",
      "Processing Record 21 of Set 12 | Fort Nelson\n",
      "Processing Record 22 of Set 12 | Hofn\n",
      "City not found. Skipping...\n",
      "Processing Record 24 of Set 12 | Bulungu\n",
      "Processing Record 25 of Set 12 | Mujiayingzi\n",
      "Processing Record 26 of Set 12 | Shingū\n",
      "Processing Record 27 of Set 12 | Fort Abbas\n",
      "Processing Record 28 of Set 12 | Zaysan\n",
      "Processing Record 29 of Set 12 | Labuan\n",
      "Processing Record 30 of Set 12 | Ust'-Ilimsk\n",
      "City not found. Skipping...\n",
      "Processing Record 32 of Set 12 | Ostrovnoy\n",
      "Processing Record 33 of Set 12 | Halifax\n",
      "Processing Record 34 of Set 12 | Camopi\n",
      "Processing Record 35 of Set 12 | Gawler\n",
      "Processing Record 36 of Set 12 | Jizan\n",
      "Processing Record 37 of Set 12 | Esperance\n",
      "Processing Record 38 of Set 12 | Nouadhibou\n",
      "Processing Record 39 of Set 12 | Lompoc\n",
      "Processing Record 40 of Set 12 | Peace River\n",
      "Processing Record 41 of Set 12 | Muhafazat Lahij\n",
      "Processing Record 42 of Set 12 | Frolovo\n",
      "Processing Record 43 of Set 12 | Loreto\n",
      "City not found. Skipping...\n",
      "Processing Record 45 of Set 12 | Nikolayevsk-on-Amur\n",
      "City not found. Skipping...\n",
      "Processing Record 47 of Set 12 | Leningradskiy\n",
      "Processing Record 48 of Set 12 | Verkhnevilyuysk\n",
      "Processing Record 49 of Set 12 | Meulaboh\n",
      "Processing Record 50 of Set 12 | St. George's\n",
      "Processing Record 1 of Set 13 | São José da Coroa Grande\n",
      "City not found. Skipping...\n",
      "Processing Record 3 of Set 13 | Sarankhola\n",
      "Processing Record 4 of Set 13 | Humaitá\n",
      "Processing Record 5 of Set 13 | Wellington\n",
      "Processing Record 6 of Set 13 | Nichinan\n",
      "Processing Record 7 of Set 13 | Porto Torres\n",
      "Processing Record 8 of Set 13 | Makkah al Mukarramah\n",
      "Processing Record 9 of Set 13 | Kahului\n",
      "Processing Record 10 of Set 13 | Agua Dulce\n",
      "Processing Record 11 of Set 13 | Farafangana\n"
     ]
    },
    {
     "name": "stdout",
     "output_type": "stream",
     "text": [
      "Processing Record 12 of Set 13 | Umm Hājar\n",
      "Processing Record 13 of Set 13 | Changping\n",
      "Processing Record 14 of Set 13 | Westport\n",
      "Processing Record 15 of Set 13 | Talara\n",
      "Processing Record 16 of Set 13 | Mingora\n",
      "Processing Record 17 of Set 13 | Lubumbashi\n",
      "Processing Record 18 of Set 13 | Sittwe\n",
      "Processing Record 19 of Set 13 | Tāybād\n",
      "City not found. Skipping...\n",
      "Processing Record 21 of Set 13 | Sosnovo\n",
      "Processing Record 22 of Set 13 | Udachny\n",
      "Processing Record 23 of Set 13 | Koróni\n",
      "City not found. Skipping...\n",
      "Processing Record 25 of Set 13 | Grand Forks\n",
      "Processing Record 26 of Set 13 | Praia\n",
      "Processing Record 27 of Set 13 | Belogorsk\n",
      "-----------------------------\n",
      "Data Retrieval Complete\n",
      "-----------------------------\n"
     ]
    }
   ],
   "source": [
    "# Load the data from OpenWeatherMap into city_weather_list\n",
    "print(\"Beginning Data Retrieval\")\n",
    "print(\"-----------------------------\")\n",
    "\n",
    "record_num = 1;\n",
    "set_num = 1;\n",
    "city_weather_list = []\n",
    "for city in cities:\n",
    "    \n",
    "    try:\n",
    "        city_weather_json = get_city_weather(city)     \n",
    "        city_weather = process_weather_json(city_weather_json)\n",
    "        city_name = city_weather[City_Weather_Columns.city]\n",
    "        print(f\"Processing Record {record_num} of Set {set_num} | {city_name}\")\n",
    "        city_weather_list.append(city_weather)\n",
    "    except:\n",
    "        print(\"City not found. Skipping...\")\n",
    "    \n",
    "    # Keep Record Count; Sets of 50\n",
    "    record_num += 1\n",
    "    if(record_num > 50):\n",
    "        set_num += 1\n",
    "        record_num = 1\n",
    "print(\"-----------------------------\")\n",
    "print(\"Data Retrieval Complete\")\n",
    "print(\"-----------------------------\")"
   ]
  },
  {
   "cell_type": "markdown",
   "metadata": {},
   "source": [
    "### Convert Raw Data to DataFrame\n",
    "* Export the city data into a .csv.\n",
    "* Display the DataFrame"
   ]
  },
  {
   "cell_type": "code",
   "execution_count": 6,
   "metadata": {},
   "outputs": [
    {
     "data": {
      "text/plain": [
       "City          573\n",
       "Lat           573\n",
       "Lng           573\n",
       "Max Temp      573\n",
       "Humidity      573\n",
       "Cloudiness    573\n",
       "Wind Speed    573\n",
       "country       573\n",
       "Date          573\n",
       "dtype: int64"
      ]
     },
     "execution_count": 6,
     "metadata": {},
     "output_type": "execute_result"
    }
   ],
   "source": [
    "# Convert to DataFrame\n",
    "city_weather_df = pd.DataFrame(city_weather_list)\n",
    "city_weather_df = city_weather_df.dropna()\n",
    "city_weather_df.count()"
   ]
  },
  {
   "cell_type": "code",
   "execution_count": 7,
   "metadata": {},
   "outputs": [
    {
     "data": {
      "text/html": [
       "<div>\n",
       "<style scoped>\n",
       "    .dataframe tbody tr th:only-of-type {\n",
       "        vertical-align: middle;\n",
       "    }\n",
       "\n",
       "    .dataframe tbody tr th {\n",
       "        vertical-align: top;\n",
       "    }\n",
       "\n",
       "    .dataframe thead th {\n",
       "        text-align: right;\n",
       "    }\n",
       "</style>\n",
       "<table border=\"1\" class=\"dataframe\">\n",
       "  <thead>\n",
       "    <tr style=\"text-align: right;\">\n",
       "      <th></th>\n",
       "      <th>City</th>\n",
       "      <th>Lat</th>\n",
       "      <th>Lng</th>\n",
       "      <th>Max Temp</th>\n",
       "      <th>Humidity</th>\n",
       "      <th>Cloudiness</th>\n",
       "      <th>Wind Speed</th>\n",
       "      <th>country</th>\n",
       "      <th>Date</th>\n",
       "    </tr>\n",
       "  </thead>\n",
       "  <tbody>\n",
       "    <tr>\n",
       "      <th>0</th>\n",
       "      <td>Pitimbu</td>\n",
       "      <td>-7.47</td>\n",
       "      <td>-34.81</td>\n",
       "      <td>75.20</td>\n",
       "      <td>83</td>\n",
       "      <td>49</td>\n",
       "      <td>10.29</td>\n",
       "      <td>BR</td>\n",
       "      <td>1595626029</td>\n",
       "    </tr>\n",
       "    <tr>\n",
       "      <th>1</th>\n",
       "      <td>Kenai</td>\n",
       "      <td>60.55</td>\n",
       "      <td>-151.26</td>\n",
       "      <td>55.99</td>\n",
       "      <td>87</td>\n",
       "      <td>90</td>\n",
       "      <td>3.36</td>\n",
       "      <td>US</td>\n",
       "      <td>1595626029</td>\n",
       "    </tr>\n",
       "    <tr>\n",
       "      <th>2</th>\n",
       "      <td>Bowling Green</td>\n",
       "      <td>36.99</td>\n",
       "      <td>-86.44</td>\n",
       "      <td>84.20</td>\n",
       "      <td>66</td>\n",
       "      <td>90</td>\n",
       "      <td>8.05</td>\n",
       "      <td>US</td>\n",
       "      <td>1595625896</td>\n",
       "    </tr>\n",
       "    <tr>\n",
       "      <th>3</th>\n",
       "      <td>New Norfolk</td>\n",
       "      <td>-42.78</td>\n",
       "      <td>147.06</td>\n",
       "      <td>42.01</td>\n",
       "      <td>83</td>\n",
       "      <td>100</td>\n",
       "      <td>2.86</td>\n",
       "      <td>AU</td>\n",
       "      <td>1595626029</td>\n",
       "    </tr>\n",
       "    <tr>\n",
       "      <th>4</th>\n",
       "      <td>Kavaratti</td>\n",
       "      <td>10.57</td>\n",
       "      <td>72.64</td>\n",
       "      <td>80.01</td>\n",
       "      <td>85</td>\n",
       "      <td>100</td>\n",
       "      <td>17.96</td>\n",
       "      <td>IN</td>\n",
       "      <td>1595626008</td>\n",
       "    </tr>\n",
       "  </tbody>\n",
       "</table>\n",
       "</div>"
      ],
      "text/plain": [
       "            City    Lat     Lng  Max Temp  Humidity  Cloudiness  Wind Speed  \\\n",
       "0        Pitimbu  -7.47  -34.81     75.20        83          49       10.29   \n",
       "1          Kenai  60.55 -151.26     55.99        87          90        3.36   \n",
       "2  Bowling Green  36.99  -86.44     84.20        66          90        8.05   \n",
       "3    New Norfolk -42.78  147.06     42.01        83         100        2.86   \n",
       "4      Kavaratti  10.57   72.64     80.01        85         100       17.96   \n",
       "\n",
       "  country        Date  \n",
       "0      BR  1595626029  \n",
       "1      US  1595626029  \n",
       "2      US  1595625896  \n",
       "3      AU  1595626029  \n",
       "4      IN  1595626008  "
      ]
     },
     "execution_count": 7,
     "metadata": {},
     "output_type": "execute_result"
    }
   ],
   "source": [
    "city_weather_df.head()"
   ]
  },
  {
   "cell_type": "code",
   "execution_count": 8,
   "metadata": {},
   "outputs": [],
   "source": [
    "# Save to CSV\n",
    "city_weather_df.to_csv(output_data_file)"
   ]
  },
  {
   "cell_type": "markdown",
   "metadata": {},
   "source": [
    "## Inspect the data and remove the cities where the humidity > 100%.\n",
    "----\n",
    "Skip this step if there are no cities that have humidity > 100%. "
   ]
  },
  {
   "cell_type": "code",
   "execution_count": 9,
   "metadata": {},
   "outputs": [
    {
     "data": {
      "text/html": [
       "<div>\n",
       "<style scoped>\n",
       "    .dataframe tbody tr th:only-of-type {\n",
       "        vertical-align: middle;\n",
       "    }\n",
       "\n",
       "    .dataframe tbody tr th {\n",
       "        vertical-align: top;\n",
       "    }\n",
       "\n",
       "    .dataframe thead th {\n",
       "        text-align: right;\n",
       "    }\n",
       "</style>\n",
       "<table border=\"1\" class=\"dataframe\">\n",
       "  <thead>\n",
       "    <tr style=\"text-align: right;\">\n",
       "      <th></th>\n",
       "      <th>Lat</th>\n",
       "      <th>Lng</th>\n",
       "      <th>Max Temp</th>\n",
       "      <th>Humidity</th>\n",
       "      <th>Cloudiness</th>\n",
       "      <th>Wind Speed</th>\n",
       "      <th>Date</th>\n",
       "    </tr>\n",
       "  </thead>\n",
       "  <tbody>\n",
       "    <tr>\n",
       "      <th>count</th>\n",
       "      <td>573.000000</td>\n",
       "      <td>573.000000</td>\n",
       "      <td>573.000000</td>\n",
       "      <td>573.000000</td>\n",
       "      <td>573.000000</td>\n",
       "      <td>573.000000</td>\n",
       "      <td>5.730000e+02</td>\n",
       "    </tr>\n",
       "    <tr>\n",
       "      <th>mean</th>\n",
       "      <td>20.783089</td>\n",
       "      <td>18.780960</td>\n",
       "      <td>69.406876</td>\n",
       "      <td>70.160558</td>\n",
       "      <td>48.450262</td>\n",
       "      <td>7.698028</td>\n",
       "      <td>1.595626e+09</td>\n",
       "    </tr>\n",
       "    <tr>\n",
       "      <th>std</th>\n",
       "      <td>32.635010</td>\n",
       "      <td>92.680525</td>\n",
       "      <td>14.464713</td>\n",
       "      <td>20.014559</td>\n",
       "      <td>38.720575</td>\n",
       "      <td>5.179000</td>\n",
       "      <td>6.479007e+01</td>\n",
       "    </tr>\n",
       "    <tr>\n",
       "      <th>min</th>\n",
       "      <td>-54.800000</td>\n",
       "      <td>-179.170000</td>\n",
       "      <td>32.000000</td>\n",
       "      <td>3.000000</td>\n",
       "      <td>0.000000</td>\n",
       "      <td>0.290000</td>\n",
       "      <td>1.595626e+09</td>\n",
       "    </tr>\n",
       "    <tr>\n",
       "      <th>25%</th>\n",
       "      <td>-5.200000</td>\n",
       "      <td>-63.170000</td>\n",
       "      <td>57.200000</td>\n",
       "      <td>58.000000</td>\n",
       "      <td>6.000000</td>\n",
       "      <td>3.760000</td>\n",
       "      <td>1.595626e+09</td>\n",
       "    </tr>\n",
       "    <tr>\n",
       "      <th>50%</th>\n",
       "      <td>25.020000</td>\n",
       "      <td>26.400000</td>\n",
       "      <td>71.110000</td>\n",
       "      <td>75.000000</td>\n",
       "      <td>44.000000</td>\n",
       "      <td>6.710000</td>\n",
       "      <td>1.595626e+09</td>\n",
       "    </tr>\n",
       "    <tr>\n",
       "      <th>75%</th>\n",
       "      <td>48.220000</td>\n",
       "      <td>100.350000</td>\n",
       "      <td>80.010000</td>\n",
       "      <td>85.000000</td>\n",
       "      <td>90.000000</td>\n",
       "      <td>10.290000</td>\n",
       "      <td>1.595626e+09</td>\n",
       "    </tr>\n",
       "    <tr>\n",
       "      <th>max</th>\n",
       "      <td>78.220000</td>\n",
       "      <td>178.420000</td>\n",
       "      <td>105.460000</td>\n",
       "      <td>100.000000</td>\n",
       "      <td>100.000000</td>\n",
       "      <td>29.330000</td>\n",
       "      <td>1.595626e+09</td>\n",
       "    </tr>\n",
       "  </tbody>\n",
       "</table>\n",
       "</div>"
      ],
      "text/plain": [
       "              Lat         Lng    Max Temp    Humidity  Cloudiness  Wind Speed  \\\n",
       "count  573.000000  573.000000  573.000000  573.000000  573.000000  573.000000   \n",
       "mean    20.783089   18.780960   69.406876   70.160558   48.450262    7.698028   \n",
       "std     32.635010   92.680525   14.464713   20.014559   38.720575    5.179000   \n",
       "min    -54.800000 -179.170000   32.000000    3.000000    0.000000    0.290000   \n",
       "25%     -5.200000  -63.170000   57.200000   58.000000    6.000000    3.760000   \n",
       "50%     25.020000   26.400000   71.110000   75.000000   44.000000    6.710000   \n",
       "75%     48.220000  100.350000   80.010000   85.000000   90.000000   10.290000   \n",
       "max     78.220000  178.420000  105.460000  100.000000  100.000000   29.330000   \n",
       "\n",
       "               Date  \n",
       "count  5.730000e+02  \n",
       "mean   1.595626e+09  \n",
       "std    6.479007e+01  \n",
       "min    1.595626e+09  \n",
       "25%    1.595626e+09  \n",
       "50%    1.595626e+09  \n",
       "75%    1.595626e+09  \n",
       "max    1.595626e+09  "
      ]
     },
     "execution_count": 9,
     "metadata": {},
     "output_type": "execute_result"
    }
   ],
   "source": [
    "city_weather_df.describe()"
   ]
  },
  {
   "cell_type": "code",
   "execution_count": 10,
   "metadata": {},
   "outputs": [
    {
     "data": {
      "text/plain": [
       "Int64Index([], dtype='int64')"
      ]
     },
     "execution_count": 10,
     "metadata": {},
     "output_type": "execute_result"
    }
   ],
   "source": [
    "#  Get the indices of cities that have humidity over 100%.\n",
    "over_100_humid = city_weather_df.loc[city_weather_df[City_Weather_Columns.humidity] > 100].index\n",
    "over_100_humid"
   ]
  },
  {
   "cell_type": "code",
   "execution_count": 11,
   "metadata": {},
   "outputs": [
    {
     "data": {
      "text/html": [
       "<div>\n",
       "<style scoped>\n",
       "    .dataframe tbody tr th:only-of-type {\n",
       "        vertical-align: middle;\n",
       "    }\n",
       "\n",
       "    .dataframe tbody tr th {\n",
       "        vertical-align: top;\n",
       "    }\n",
       "\n",
       "    .dataframe thead th {\n",
       "        text-align: right;\n",
       "    }\n",
       "</style>\n",
       "<table border=\"1\" class=\"dataframe\">\n",
       "  <thead>\n",
       "    <tr style=\"text-align: right;\">\n",
       "      <th></th>\n",
       "      <th>Lat</th>\n",
       "      <th>Lng</th>\n",
       "      <th>Max Temp</th>\n",
       "      <th>Humidity</th>\n",
       "      <th>Cloudiness</th>\n",
       "      <th>Wind Speed</th>\n",
       "      <th>Date</th>\n",
       "    </tr>\n",
       "  </thead>\n",
       "  <tbody>\n",
       "    <tr>\n",
       "      <th>count</th>\n",
       "      <td>573.000000</td>\n",
       "      <td>573.000000</td>\n",
       "      <td>573.000000</td>\n",
       "      <td>573.000000</td>\n",
       "      <td>573.000000</td>\n",
       "      <td>573.000000</td>\n",
       "      <td>5.730000e+02</td>\n",
       "    </tr>\n",
       "    <tr>\n",
       "      <th>mean</th>\n",
       "      <td>20.783089</td>\n",
       "      <td>18.780960</td>\n",
       "      <td>69.406876</td>\n",
       "      <td>70.160558</td>\n",
       "      <td>48.450262</td>\n",
       "      <td>7.698028</td>\n",
       "      <td>1.595626e+09</td>\n",
       "    </tr>\n",
       "    <tr>\n",
       "      <th>std</th>\n",
       "      <td>32.635010</td>\n",
       "      <td>92.680525</td>\n",
       "      <td>14.464713</td>\n",
       "      <td>20.014559</td>\n",
       "      <td>38.720575</td>\n",
       "      <td>5.179000</td>\n",
       "      <td>6.479007e+01</td>\n",
       "    </tr>\n",
       "    <tr>\n",
       "      <th>min</th>\n",
       "      <td>-54.800000</td>\n",
       "      <td>-179.170000</td>\n",
       "      <td>32.000000</td>\n",
       "      <td>3.000000</td>\n",
       "      <td>0.000000</td>\n",
       "      <td>0.290000</td>\n",
       "      <td>1.595626e+09</td>\n",
       "    </tr>\n",
       "    <tr>\n",
       "      <th>25%</th>\n",
       "      <td>-5.200000</td>\n",
       "      <td>-63.170000</td>\n",
       "      <td>57.200000</td>\n",
       "      <td>58.000000</td>\n",
       "      <td>6.000000</td>\n",
       "      <td>3.760000</td>\n",
       "      <td>1.595626e+09</td>\n",
       "    </tr>\n",
       "    <tr>\n",
       "      <th>50%</th>\n",
       "      <td>25.020000</td>\n",
       "      <td>26.400000</td>\n",
       "      <td>71.110000</td>\n",
       "      <td>75.000000</td>\n",
       "      <td>44.000000</td>\n",
       "      <td>6.710000</td>\n",
       "      <td>1.595626e+09</td>\n",
       "    </tr>\n",
       "    <tr>\n",
       "      <th>75%</th>\n",
       "      <td>48.220000</td>\n",
       "      <td>100.350000</td>\n",
       "      <td>80.010000</td>\n",
       "      <td>85.000000</td>\n",
       "      <td>90.000000</td>\n",
       "      <td>10.290000</td>\n",
       "      <td>1.595626e+09</td>\n",
       "    </tr>\n",
       "    <tr>\n",
       "      <th>max</th>\n",
       "      <td>78.220000</td>\n",
       "      <td>178.420000</td>\n",
       "      <td>105.460000</td>\n",
       "      <td>100.000000</td>\n",
       "      <td>100.000000</td>\n",
       "      <td>29.330000</td>\n",
       "      <td>1.595626e+09</td>\n",
       "    </tr>\n",
       "  </tbody>\n",
       "</table>\n",
       "</div>"
      ],
      "text/plain": [
       "              Lat         Lng    Max Temp    Humidity  Cloudiness  Wind Speed  \\\n",
       "count  573.000000  573.000000  573.000000  573.000000  573.000000  573.000000   \n",
       "mean    20.783089   18.780960   69.406876   70.160558   48.450262    7.698028   \n",
       "std     32.635010   92.680525   14.464713   20.014559   38.720575    5.179000   \n",
       "min    -54.800000 -179.170000   32.000000    3.000000    0.000000    0.290000   \n",
       "25%     -5.200000  -63.170000   57.200000   58.000000    6.000000    3.760000   \n",
       "50%     25.020000   26.400000   71.110000   75.000000   44.000000    6.710000   \n",
       "75%     48.220000  100.350000   80.010000   85.000000   90.000000   10.290000   \n",
       "max     78.220000  178.420000  105.460000  100.000000  100.000000   29.330000   \n",
       "\n",
       "               Date  \n",
       "count  5.730000e+02  \n",
       "mean   1.595626e+09  \n",
       "std    6.479007e+01  \n",
       "min    1.595626e+09  \n",
       "25%    1.595626e+09  \n",
       "50%    1.595626e+09  \n",
       "75%    1.595626e+09  \n",
       "max    1.595626e+09  "
      ]
     },
     "execution_count": 11,
     "metadata": {},
     "output_type": "execute_result"
    }
   ],
   "source": [
    "# Make a new DataFrame equal to the city data to drop all humidity outliers by index.\n",
    "# Passing \"inplace=False\" will make a copy of the city_data DataFrame, which we call \"clean_city_data\".\n",
    "clean_city_data = city_weather_df.drop(over_100_humid)\n",
    "clean_city_data.describe()"
   ]
  },
  {
   "cell_type": "code",
   "execution_count": 12,
   "metadata": {},
   "outputs": [
    {
     "data": {
      "text/html": [
       "<div>\n",
       "<style scoped>\n",
       "    .dataframe tbody tr th:only-of-type {\n",
       "        vertical-align: middle;\n",
       "    }\n",
       "\n",
       "    .dataframe tbody tr th {\n",
       "        vertical-align: top;\n",
       "    }\n",
       "\n",
       "    .dataframe thead th {\n",
       "        text-align: right;\n",
       "    }\n",
       "</style>\n",
       "<table border=\"1\" class=\"dataframe\">\n",
       "  <thead>\n",
       "    <tr style=\"text-align: right;\">\n",
       "      <th></th>\n",
       "      <th>City</th>\n",
       "      <th>country</th>\n",
       "      <th>Lat</th>\n",
       "      <th>Lng</th>\n",
       "      <th>Max Temp</th>\n",
       "      <th>Humidity</th>\n",
       "      <th>Cloudiness</th>\n",
       "      <th>Wind Speed</th>\n",
       "    </tr>\n",
       "  </thead>\n",
       "  <tbody>\n",
       "    <tr>\n",
       "      <th>0</th>\n",
       "      <td>Pitimbu</td>\n",
       "      <td>BR</td>\n",
       "      <td>-7.47</td>\n",
       "      <td>-34.81</td>\n",
       "      <td>75.20</td>\n",
       "      <td>83</td>\n",
       "      <td>49</td>\n",
       "      <td>10.29</td>\n",
       "    </tr>\n",
       "    <tr>\n",
       "      <th>1</th>\n",
       "      <td>Kenai</td>\n",
       "      <td>US</td>\n",
       "      <td>60.55</td>\n",
       "      <td>-151.26</td>\n",
       "      <td>55.99</td>\n",
       "      <td>87</td>\n",
       "      <td>90</td>\n",
       "      <td>3.36</td>\n",
       "    </tr>\n",
       "    <tr>\n",
       "      <th>2</th>\n",
       "      <td>Bowling Green</td>\n",
       "      <td>US</td>\n",
       "      <td>36.99</td>\n",
       "      <td>-86.44</td>\n",
       "      <td>84.20</td>\n",
       "      <td>66</td>\n",
       "      <td>90</td>\n",
       "      <td>8.05</td>\n",
       "    </tr>\n",
       "    <tr>\n",
       "      <th>3</th>\n",
       "      <td>New Norfolk</td>\n",
       "      <td>AU</td>\n",
       "      <td>-42.78</td>\n",
       "      <td>147.06</td>\n",
       "      <td>42.01</td>\n",
       "      <td>83</td>\n",
       "      <td>100</td>\n",
       "      <td>2.86</td>\n",
       "    </tr>\n",
       "    <tr>\n",
       "      <th>4</th>\n",
       "      <td>Kavaratti</td>\n",
       "      <td>IN</td>\n",
       "      <td>10.57</td>\n",
       "      <td>72.64</td>\n",
       "      <td>80.01</td>\n",
       "      <td>85</td>\n",
       "      <td>100</td>\n",
       "      <td>17.96</td>\n",
       "    </tr>\n",
       "  </tbody>\n",
       "</table>\n",
       "</div>"
      ],
      "text/plain": [
       "            City country    Lat     Lng  Max Temp  Humidity  Cloudiness  \\\n",
       "0        Pitimbu      BR  -7.47  -34.81     75.20        83          49   \n",
       "1          Kenai      US  60.55 -151.26     55.99        87          90   \n",
       "2  Bowling Green      US  36.99  -86.44     84.20        66          90   \n",
       "3    New Norfolk      AU -42.78  147.06     42.01        83         100   \n",
       "4      Kavaratti      IN  10.57   72.64     80.01        85         100   \n",
       "\n",
       "   Wind Speed  \n",
       "0       10.29  \n",
       "1        3.36  \n",
       "2        8.05  \n",
       "3        2.86  \n",
       "4       17.96  "
      ]
     },
     "execution_count": 12,
     "metadata": {},
     "output_type": "execute_result"
    }
   ],
   "source": [
    "# Extract relevant fields from the data frame\n",
    "final_columns = [\n",
    "                 City_Weather_Columns.city,\n",
    "                 City_Weather_Columns.country,\n",
    "                 City_Weather_Columns.lat, \n",
    "                 City_Weather_Columns.lng,\n",
    "                 City_Weather_Columns.max_temp, \n",
    "                 City_Weather_Columns.humidity, \n",
    "                 City_Weather_Columns.cloudiness,\n",
    "                 City_Weather_Columns.wind_speed]\n",
    "final_city_data = clean_city_data[final_columns]\n",
    "final_city_data.head()"
   ]
  },
  {
   "cell_type": "code",
   "execution_count": 13,
   "metadata": {},
   "outputs": [],
   "source": [
    "# Export the City_Data into a csv\n",
    "final_city_data.to_csv(output_data_file, index=False)"
   ]
  },
  {
   "cell_type": "markdown",
   "metadata": {},
   "source": [
    "## Plotting the Data\n",
    "* Use proper labeling of the plots using plot titles (including date of analysis) and axes labels.\n",
    "* Save the plotted figures as .pngs."
   ]
  },
  {
   "cell_type": "markdown",
   "metadata": {},
   "source": [
    "## Latitude vs. Temperature Plot"
   ]
  },
  {
   "cell_type": "code",
   "execution_count": 14,
   "metadata": {},
   "outputs": [],
   "source": [
    "def savefig(filename):\n",
    "    plt.savefig(f\"images/{filename}.png\")"
   ]
  },
  {
   "cell_type": "code",
   "execution_count": 15,
   "metadata": {
    "scrolled": true
   },
   "outputs": [
    {
     "data": {
      "image/png": "[encoded data removed]",
      "text/plain": [
       "<Figure size 432x288 with 1 Axes>"
      ]
     },
     "metadata": {
      "needs_background": "light"
     },
     "output_type": "display_data"
    }
   ],
   "source": [
    "def plot_lat_v_temp(df):\n",
    "    plot = df.plot(kind=\"scatter\", \\\n",
    "            x = City_Weather_Columns.lat, y = City_Weather_Columns.max_temp)\n",
    "    plt.title(\"Latitude vs Maximum Temperature\")\n",
    "    plt.ylabel(\"Max Temp (F)\")\n",
    "    plt.xlabel(\"Latitude\")\n",
    "\n",
    "plot_lat_v_temp(final_city_data)\n",
    "plt.tight_layout()\n",
    "savefig(\"lat_v_temp\")\n",
    "plt.show()"
   ]
  },
  {
   "cell_type": "markdown",
   "metadata": {},
   "source": [
    "## Latitude vs. Humidity Plot"
   ]
  },
  {
   "cell_type": "code",
   "execution_count": 16,
   "metadata": {},
   "outputs": [
    {
     "data": {
      "image/png": "[encoded data removed]",
      "text/plain": [
       "<Figure size 432x288 with 1 Axes>"
      ]
     },
     "metadata": {
      "needs_background": "light"
     },
     "output_type": "display_data"
    }
   ],
   "source": [
    "def plot_lat_v_humid(df):\n",
    "    plot = df.plot(kind=\"scatter\", \\\n",
    "            x = City_Weather_Columns.lat, y = City_Weather_Columns.humidity)\n",
    "    plt.title(\"Latitude vs Humidity\")\n",
    "    plt.ylabel(\"Humidity (%)\")\n",
    "    plt.xlabel(\"Latitude\")\n",
    "\n",
    "plot_lat_v_humid(final_city_data)\n",
    "plt.tight_layout()\n",
    "savefig(\"lat_v_humid\")\n",
    "plt.show()"
   ]
  },
  {
   "cell_type": "markdown",
   "metadata": {},
   "source": [
    "## Latitude vs. Cloudiness Plot"
   ]
  },
  {
   "cell_type": "code",
   "execution_count": 17,
   "metadata": {},
   "outputs": [
    {
     "data": {
      "image/png": "[encoded data removed]",
      "text/plain": [
       "<Figure size 432x288 with 1 Axes>"
      ]
     },
     "metadata": {
      "needs_background": "light"
     },
     "output_type": "display_data"
    }
   ],
   "source": [
    "def plot_lat_v_cloud(df):\n",
    "    plot = df.plot(kind=\"scatter\", \\\n",
    "            x = City_Weather_Columns.lat, y = City_Weather_Columns.cloudiness)\n",
    "    plt.title(\"Latitude vs Cloudiness\")\n",
    "    plt.ylabel(\"Cloudiness (%)\")\n",
    "    plt.xlabel(\"Latitude\")\n",
    "\n",
    "plot_lat_v_cloud(final_city_data)\n",
    "plt.tight_layout()\n",
    "savefig(\"lat_v_cloud\")\n",
    "plt.show()"
   ]
  },
  {
   "cell_type": "markdown",
   "metadata": {},
   "source": [
    "## Latitude vs. Wind Speed Plot"
   ]
  },
  {
   "cell_type": "code",
   "execution_count": 18,
   "metadata": {},
   "outputs": [
    {
     "data": {
      "image/png": "[encoded data removed]",
      "text/plain": [
       "<Figure size 432x288 with 1 Axes>"
      ]
     },
     "metadata": {
      "needs_background": "light"
     },
     "output_type": "display_data"
    }
   ],
   "source": [
    "def plot_lat_v_wind(df):\n",
    "    df.plot(kind=\"scatter\", \\\n",
    "            x = City_Weather_Columns.lat, y = City_Weather_Columns.wind_speed)\n",
    "    plt.title(\"Latitude vs Wind Speed\")\n",
    "    plt.ylabel(\"Wind Speed (mph)\")\n",
    "    plt.xlabel(\"Latitude\")\n",
    "\n",
    "plot_lat_v_wind(final_city_data)\n",
    "plt.tight_layout()\n",
    "savefig(\"lat_v_wind\")\n",
    "plt.show()"
   ]
  },
  {
   "cell_type": "markdown",
   "metadata": {},
   "source": [
    "## Linear Regression"
   ]
  },
  {
   "cell_type": "code",
   "execution_count": 19,
   "metadata": {},
   "outputs": [],
   "source": [
    "# OPTIONAL: Create a function to create Linear Regression plots\n",
    "def plot_lin_reg(dataframe, x_col, y_col):\n",
    "    x_values = dataframe[x_col]\n",
    "    y_values = dataframe[y_col]\n",
    "    (slope, intercept, rvalue, pvalue, stderr) = linregress(x_values, y_values)\n",
    "    \n",
    "    regress_values = x_values * slope + intercept\n",
    "    equation = \"y = \" + str(round(slope,2)) + \"x + \" + str(round(intercept,2))\n",
    "    eq_label = f\"{equation} \\nr-squared = {round(rvalue * rvalue, 3)}\"\n",
    "    regress_plot, = plt.plot(x_values, regress_values, \"r-\", label=eq_label)\n",
    "    plt.legend(handles=[regress_plot], loc=\"best\")\n",
    "    print(f\"The r-squared value is {rvalue * rvalue}\")"
   ]
  },
  {
   "cell_type": "code",
   "execution_count": 20,
   "metadata": {},
   "outputs": [
    {
     "data": {
      "text/html": [
       "<div>\n",
       "<style scoped>\n",
       "    .dataframe tbody tr th:only-of-type {\n",
       "        vertical-align: middle;\n",
       "    }\n",
       "\n",
       "    .dataframe tbody tr th {\n",
       "        vertical-align: top;\n",
       "    }\n",
       "\n",
       "    .dataframe thead th {\n",
       "        text-align: right;\n",
       "    }\n",
       "</style>\n",
       "<table border=\"1\" class=\"dataframe\">\n",
       "  <thead>\n",
       "    <tr style=\"text-align: right;\">\n",
       "      <th></th>\n",
       "      <th>City</th>\n",
       "      <th>country</th>\n",
       "      <th>Lat</th>\n",
       "      <th>Lng</th>\n",
       "      <th>Max Temp</th>\n",
       "      <th>Humidity</th>\n",
       "      <th>Cloudiness</th>\n",
       "      <th>Wind Speed</th>\n",
       "    </tr>\n",
       "  </thead>\n",
       "  <tbody>\n",
       "    <tr>\n",
       "      <th>1</th>\n",
       "      <td>Kenai</td>\n",
       "      <td>US</td>\n",
       "      <td>60.55</td>\n",
       "      <td>-151.26</td>\n",
       "      <td>55.99</td>\n",
       "      <td>87</td>\n",
       "      <td>90</td>\n",
       "      <td>3.36</td>\n",
       "    </tr>\n",
       "    <tr>\n",
       "      <th>2</th>\n",
       "      <td>Bowling Green</td>\n",
       "      <td>US</td>\n",
       "      <td>36.99</td>\n",
       "      <td>-86.44</td>\n",
       "      <td>84.20</td>\n",
       "      <td>66</td>\n",
       "      <td>90</td>\n",
       "      <td>8.05</td>\n",
       "    </tr>\n",
       "    <tr>\n",
       "      <th>4</th>\n",
       "      <td>Kavaratti</td>\n",
       "      <td>IN</td>\n",
       "      <td>10.57</td>\n",
       "      <td>72.64</td>\n",
       "      <td>80.01</td>\n",
       "      <td>85</td>\n",
       "      <td>100</td>\n",
       "      <td>17.96</td>\n",
       "    </tr>\n",
       "    <tr>\n",
       "      <th>9</th>\n",
       "      <td>Redlands</td>\n",
       "      <td>US</td>\n",
       "      <td>34.06</td>\n",
       "      <td>-117.18</td>\n",
       "      <td>89.01</td>\n",
       "      <td>20</td>\n",
       "      <td>5</td>\n",
       "      <td>9.17</td>\n",
       "    </tr>\n",
       "    <tr>\n",
       "      <th>11</th>\n",
       "      <td>Albany</td>\n",
       "      <td>US</td>\n",
       "      <td>42.60</td>\n",
       "      <td>-73.97</td>\n",
       "      <td>89.01</td>\n",
       "      <td>41</td>\n",
       "      <td>65</td>\n",
       "      <td>3.20</td>\n",
       "    </tr>\n",
       "  </tbody>\n",
       "</table>\n",
       "</div>"
      ],
      "text/plain": [
       "             City country    Lat     Lng  Max Temp  Humidity  Cloudiness  \\\n",
       "1           Kenai      US  60.55 -151.26     55.99        87          90   \n",
       "2   Bowling Green      US  36.99  -86.44     84.20        66          90   \n",
       "4       Kavaratti      IN  10.57   72.64     80.01        85         100   \n",
       "9        Redlands      US  34.06 -117.18     89.01        20           5   \n",
       "11         Albany      US  42.60  -73.97     89.01        41          65   \n",
       "\n",
       "    Wind Speed  \n",
       "1         3.36  \n",
       "2         8.05  \n",
       "4        17.96  \n",
       "9         9.17  \n",
       "11        3.20  "
      ]
     },
     "execution_count": 20,
     "metadata": {},
     "output_type": "execute_result"
    }
   ],
   "source": [
    "# Create Northern and Southern Hemisphere DataFrames\n",
    "north_df = final_city_data.loc[final_city_data[City_Weather_Columns.lat] >= 0]\n",
    "north_df.head()"
   ]
  },
  {
   "cell_type": "code",
   "execution_count": 21,
   "metadata": {},
   "outputs": [
    {
     "data": {
      "text/html": [
       "<div>\n",
       "<style scoped>\n",
       "    .dataframe tbody tr th:only-of-type {\n",
       "        vertical-align: middle;\n",
       "    }\n",
       "\n",
       "    .dataframe tbody tr th {\n",
       "        vertical-align: top;\n",
       "    }\n",
       "\n",
       "    .dataframe thead th {\n",
       "        text-align: right;\n",
       "    }\n",
       "</style>\n",
       "<table border=\"1\" class=\"dataframe\">\n",
       "  <thead>\n",
       "    <tr style=\"text-align: right;\">\n",
       "      <th></th>\n",
       "      <th>City</th>\n",
       "      <th>country</th>\n",
       "      <th>Lat</th>\n",
       "      <th>Lng</th>\n",
       "      <th>Max Temp</th>\n",
       "      <th>Humidity</th>\n",
       "      <th>Cloudiness</th>\n",
       "      <th>Wind Speed</th>\n",
       "    </tr>\n",
       "  </thead>\n",
       "  <tbody>\n",
       "    <tr>\n",
       "      <th>0</th>\n",
       "      <td>Pitimbu</td>\n",
       "      <td>BR</td>\n",
       "      <td>-7.47</td>\n",
       "      <td>-34.81</td>\n",
       "      <td>75.20</td>\n",
       "      <td>83</td>\n",
       "      <td>49</td>\n",
       "      <td>10.29</td>\n",
       "    </tr>\n",
       "    <tr>\n",
       "      <th>3</th>\n",
       "      <td>New Norfolk</td>\n",
       "      <td>AU</td>\n",
       "      <td>-42.78</td>\n",
       "      <td>147.06</td>\n",
       "      <td>42.01</td>\n",
       "      <td>83</td>\n",
       "      <td>100</td>\n",
       "      <td>2.86</td>\n",
       "    </tr>\n",
       "    <tr>\n",
       "      <th>5</th>\n",
       "      <td>Mahébourg</td>\n",
       "      <td>MU</td>\n",
       "      <td>-20.41</td>\n",
       "      <td>57.70</td>\n",
       "      <td>68.00</td>\n",
       "      <td>56</td>\n",
       "      <td>75</td>\n",
       "      <td>16.11</td>\n",
       "    </tr>\n",
       "    <tr>\n",
       "      <th>6</th>\n",
       "      <td>Saint-Philippe</td>\n",
       "      <td>RE</td>\n",
       "      <td>-21.36</td>\n",
       "      <td>55.77</td>\n",
       "      <td>66.20</td>\n",
       "      <td>63</td>\n",
       "      <td>90</td>\n",
       "      <td>11.41</td>\n",
       "    </tr>\n",
       "    <tr>\n",
       "      <th>7</th>\n",
       "      <td>Alofi</td>\n",
       "      <td>NU</td>\n",
       "      <td>-19.06</td>\n",
       "      <td>-169.92</td>\n",
       "      <td>77.00</td>\n",
       "      <td>78</td>\n",
       "      <td>75</td>\n",
       "      <td>17.22</td>\n",
       "    </tr>\n",
       "  </tbody>\n",
       "</table>\n",
       "</div>"
      ],
      "text/plain": [
       "             City country    Lat     Lng  Max Temp  Humidity  Cloudiness  \\\n",
       "0         Pitimbu      BR  -7.47  -34.81     75.20        83          49   \n",
       "3     New Norfolk      AU -42.78  147.06     42.01        83         100   \n",
       "5       Mahébourg      MU -20.41   57.70     68.00        56          75   \n",
       "6  Saint-Philippe      RE -21.36   55.77     66.20        63          90   \n",
       "7           Alofi      NU -19.06 -169.92     77.00        78          75   \n",
       "\n",
       "   Wind Speed  \n",
       "0       10.29  \n",
       "3        2.86  \n",
       "5       16.11  \n",
       "6       11.41  \n",
       "7       17.22  "
      ]
     },
     "execution_count": 21,
     "metadata": {},
     "output_type": "execute_result"
    }
   ],
   "source": [
    "south_df = final_city_data.loc[final_city_data[City_Weather_Columns.lat] < 0]\n",
    "south_df.head()"
   ]
  },
  {
   "cell_type": "markdown",
   "metadata": {},
   "source": [
    "####  Northern Hemisphere - Max Temp vs. Latitude Linear Regression"
   ]
  },
  {
   "cell_type": "code",
   "execution_count": 22,
   "metadata": {},
   "outputs": [
    {
     "name": "stdout",
     "output_type": "stream",
     "text": [
      "The r-squared value is 0.4603128867526087\n"
     ]
    },
    {
     "data": {
      "image/png": "[encoded data removed]",
      "text/plain": [
       "<Figure size 432x288 with 1 Axes>"
      ]
     },
     "metadata": {
      "needs_background": "light"
     },
     "output_type": "display_data"
    }
   ],
   "source": [
    "plot_lat_v_temp(north_df)\n",
    "plot_lin_reg(north_df, City_Weather_Columns.lat, City_Weather_Columns.max_temp)\n",
    "plt.tight_layout()\n",
    "savefig(\"north_lat_v_temp\")\n",
    "plt.show()"
   ]
  },
  {
   "cell_type": "markdown",
   "metadata": {},
   "source": [
    "####  Southern Hemisphere - Max Temp vs. Latitude Linear Regression"
   ]
  },
  {
   "cell_type": "code",
   "execution_count": 23,
   "metadata": {},
   "outputs": [
    {
     "name": "stdout",
     "output_type": "stream",
     "text": [
      "The r-squared value is 0.6581388028181901\n"
     ]
    },
    {
     "data": {
      "image/png": "[encoded data removed]",
      "text/plain": [
       "<Figure size 432x288 with 1 Axes>"
      ]
     },
     "metadata": {
      "needs_background": "light"
     },
     "output_type": "display_data"
    }
   ],
   "source": [
    "plot_lat_v_temp(south_df)\n",
    "plot_lin_reg(south_df, City_Weather_Columns.lat, City_Weather_Columns.max_temp)\n",
    "plt.tight_layout()\n",
    "savefig(\"south_lat_v_temp\")\n",
    "plt.show()"
   ]
  },
  {
   "cell_type": "markdown",
   "metadata": {},
   "source": [
    "####  Northern Hemisphere - Humidity (%) vs. Latitude Linear Regression"
   ]
  },
  {
   "cell_type": "code",
   "execution_count": 24,
   "metadata": {},
   "outputs": [
    {
     "name": "stdout",
     "output_type": "stream",
     "text": [
      "The r-squared value is 0.0027181254377244522\n"
     ]
    },
    {
     "data": {
      "image/png": "[encoded data removed]",
      "text/plain": [
       "<Figure size 432x288 with 1 Axes>"
      ]
     },
     "metadata": {
      "needs_background": "light"
     },
     "output_type": "display_data"
    }
   ],
   "source": [
    "plot_lat_v_humid(north_df)\n",
    "plot_lin_reg(north_df, City_Weather_Columns.lat, City_Weather_Columns.humidity)\n",
    "plt.tight_layout()\n",
    "savefig(\"north_lat_v_humid\")\n",
    "plt.show()"
   ]
  },
  {
   "cell_type": "markdown",
   "metadata": {},
   "source": [
    "####  Southern Hemisphere - Humidity (%) vs. Latitude Linear Regression"
   ]
  },
  {
   "cell_type": "code",
   "execution_count": 25,
   "metadata": {},
   "outputs": [
    {
     "name": "stdout",
     "output_type": "stream",
     "text": [
      "The r-squared value is 0.0021848543370742795\n"
     ]
    },
    {
     "data": {
      "image/png": "[encoded data removed]",
      "text/plain": [
       "<Figure size 432x288 with 1 Axes>"
      ]
     },
     "metadata": {
      "needs_background": "light"
     },
     "output_type": "display_data"
    }
   ],
   "source": [
    "plot_lat_v_humid(south_df)\n",
    "plot_lin_reg(south_df, City_Weather_Columns.lat, City_Weather_Columns.humidity)\n",
    "plt.tight_layout()\n",
    "savefig(\"south_lat_v_humid\")\n",
    "plt.show()"
   ]
  },
  {
   "cell_type": "markdown",
   "metadata": {},
   "source": [
    "####  Northern Hemisphere - Cloudiness (%) vs. Latitude Linear Regression"
   ]
  },
  {
   "cell_type": "code",
   "execution_count": 26,
   "metadata": {},
   "outputs": [
    {
     "name": "stdout",
     "output_type": "stream",
     "text": [
      "The r-squared value is 0.0001087973226282062\n"
     ]
    },
    {
     "data": {
      "image/png": "[encoded data removed]",
      "text/plain": [
       "<Figure size 432x288 with 1 Axes>"
      ]
     },
     "metadata": {
      "needs_background": "light"
     },
     "output_type": "display_data"
    }
   ],
   "source": [
    "plot_lat_v_cloud(north_df)\n",
    "plot_lin_reg(north_df, City_Weather_Columns.lat, City_Weather_Columns.cloudiness)\n",
    "plt.tight_layout()\n",
    "savefig(\"north_lat_v_cloud\")\n",
    "plt.show()"
   ]
  },
  {
   "cell_type": "markdown",
   "metadata": {},
   "source": [
    "####  Southern Hemisphere - Cloudiness (%) vs. Latitude Linear Regression"
   ]
  },
  {
   "cell_type": "code",
   "execution_count": 27,
   "metadata": {},
   "outputs": [
    {
     "name": "stdout",
     "output_type": "stream",
     "text": [
      "The r-squared value is 4.93631823297853e-06\n"
     ]
    },
    {
     "data": {
      "image/png": "[encoded data removed]",
      "text/plain": [
       "<Figure size 432x288 with 1 Axes>"
      ]
     },
     "metadata": {
      "needs_background": "light"
     },
     "output_type": "display_data"
    }
   ],
   "source": [
    "plot_lat_v_cloud(south_df)\n",
    "plot_lin_reg(south_df, City_Weather_Columns.lat, City_Weather_Columns.cloudiness)\n",
    "plt.tight_layout()\n",
    "savefig(\"south_lat_v_cloud\")\n",
    "plt.show()"
   ]
  },
  {
   "cell_type": "markdown",
   "metadata": {},
   "source": [
    "####  Northern Hemisphere - Wind Speed (mph) vs. Latitude Linear Regression"
   ]
  },
  {
   "cell_type": "code",
   "execution_count": 28,
   "metadata": {},
   "outputs": [
    {
     "name": "stdout",
     "output_type": "stream",
     "text": [
      "The r-squared value is 0.025366598844332504\n"
     ]
    },
    {
     "data": {
      "image/png": "[encoded data removed]",
      "text/plain": [
       "<Figure size 432x288 with 1 Axes>"
      ]
     },
     "metadata": {
      "needs_background": "light"
     },
     "output_type": "display_data"
    }
   ],
   "source": [
    "plot_lat_v_wind(north_df)\n",
    "plot_lin_reg(north_df, City_Weather_Columns.lat, City_Weather_Columns.wind_speed)\n",
    "plt.tight_layout()\n",
    "savefig(\"north_lat_v_wind\")\n",
    "plt.show()"
   ]
  },
  {
   "cell_type": "markdown",
   "metadata": {},
   "source": [
    "####  Southern Hemisphere - Wind Speed (mph) vs. Latitude Linear Regression"
   ]
  },
  {
   "cell_type": "code",
   "execution_count": 29,
   "metadata": {},
   "outputs": [
    {
     "name": "stdout",
     "output_type": "stream",
     "text": [
      "The r-squared value is 0.0003979550778471292\n"
     ]
    },
    {
     "data": {
      "image/png": "[encoded data removed]",
      "text/plain": [
       "<Figure size 432x288 with 1 Axes>"
      ]
     },
     "metadata": {
      "needs_background": "light"
     },
     "output_type": "display_data"
    }
   ],
   "source": [
    "plot_lat_v_wind(south_df)\n",
    "plot_lin_reg(south_df, City_Weather_Columns.lat, City_Weather_Columns.wind_speed)\n",
    "plt.tight_layout()\n",
    "savefig(\"south_lat_v_wind\")\n",
    "plt.show()"
   ]
  },
  {
   "cell_type": "markdown",
   "metadata": {},
   "source": [
    "## Observations"
   ]
  },
  {
   "cell_type": "markdown",
   "metadata": {},
   "source": [
    "### There is some correlation between latitude and maximum temperature.\n",
    "For both the Nothern and Southern Hemispheres, there is some correlation between latitude and temperature.  In both, there is a greater than 0.45 r-squared value.  It's not perfect, but it's a decent correlation."
   ]
  },
  {
   "cell_type": "markdown",
   "metadata": {},
   "source": [
    "### Not much correlation between wind speed, cloudiness, and humidity and latitude\n",
    "\n",
    "Latitude when compared to wind speed, cloudiness, and humidity doesn't appear to have much correlation.  This means that it's hard to find a trend between latitude and those three weather attributes.\n",
    "\n",
    "For each of the graphs above, they all have less than 0.05 r-squared value in both the Northern and Southern Hemispheres."
   ]
  },
  {
   "cell_type": "markdown",
   "metadata": {},
   "source": [
    "### Max temperatures rise as the latitude approaches 0\n",
    "When looking at the graphs for the max temperatures versus the latitude, both the Northern and Southern Hemisphere graphs show that as the latitude approaches 0, then the temperatures rise.  This makes sense since 0 degrees latitude is the equater, where temperatures are typically hot.  It's nice to see this reflected in our graphs."
   ]
  },
  {
   "cell_type": "code",
   "execution_count": null,
   "metadata": {},
   "outputs": [],
   "source": []
  }
 ],
 "metadata": {
  "anaconda-cloud": {},
  "kernel_info": {
   "name": "python3"
  },
  "kernelspec": {
   "display_name": "Python 3",
   "language": "python",
   "name": "python3"
  },
  "language_info": {
   "codemirror_mode": {
    "name": "ipython",
    "version": 3
   },
   "file_extension": ".py",
   "mimetype": "text/x-python",
   "name": "python",
   "nbconvert_exporter": "python",
   "pygments_lexer": "ipython3",
   "version": "3.6.10"
  },
  "latex_envs": {
   "LaTeX_envs_menu_present": true,
   "autoclose": false,
   "autocomplete": true,
   "bibliofile": "biblio.bib",
   "cite_by": "apalike",
   "current_citInitial": 1,
   "eqLabelWithNumbers": true,
   "eqNumInitial": 1,
   "hotkeys": {
    "equation": "Ctrl-E",
    "itemize": "Ctrl-I"
   },
   "labels_anchors": false,
   "latex_user_defs": false,
   "report_style_numbering": false,
   "user_envs_cfg": false
  },
  "nteract": {
   "version": "0.12.3"
  }
 },
 "nbformat": 4,
 "nbformat_minor": 2
}
